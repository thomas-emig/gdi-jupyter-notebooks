{
 "cells": [
  {
   "cell_type": "markdown",
   "metadata": {},
   "source": [
    "# Funktionen\n",
    "Die Aufgaben auf diesem Übungsblatt sind als Lernkontrollen für die folgenden Themen gedacht:\n",
    "- Programmierung einer Funktion (Name, Parameter, Rückgabewert)\n",
    "- Einsatz von Verzweigungen\n",
    "- Entwicklung und Umsetzung logischer Ausdrücke\n",
    "\n",
    "## Aufgabe 1: Flächenberechnung\n",
    "Erstellen Sie eine Funktion, die die Fläche eines Kreisrings berechnet. Die Funktion soll nur dann den Flächenwert berechnen, wenn alle folgende Bedingungen erfüllt sind: r>=0, d>=0, r>=d. Kann der Flächenwert nicht berechnet werden, soll die Funktion den Wert -1 zurückgeben.\n",
    "\n",
    "![Kreisring](../bilder/kreisring.png)\n",
    "\n",
    "**Hinweis**: Verwenden Sie die Konstante für π, die von der Bibliothek <code>math</code> zur Verfügung gestellt wird (https://docs.python.org/3/library/math.html)."
   ]
  },
  {
   "cell_type": "code",
   "execution_count": null,
   "metadata": {},
   "outputs": [],
   "source": [
    "# hier die Funktion Kreisring implementieren\n",
    "\n",
    "# hier wird die Funktion Kreisring getestet\n",
    "alleFunktionenOK = True\n",
    "for r in range(50):\n",
    "    for d in range(50):\n",
    "        f = Kreisring(d, r)\n",
    "        if (d > r) or (d < 0) or (r < 0):\n",
    "            f_exp = -1\n",
    "        else:\n",
    "            f_exp = 3.14159 * (r**2 - (r-d)**2)\n",
    "        if f - f_exp > 0.01:\n",
    "            alleFunktionenOK = False\n",
    "            print(\"Fehler: Die Funktion Kreisring liefert für die Eingabe d = \" + str(d) + \", r = \" + str(r) + \" das falsche Ergebnis \" + str(f) + \".\")\n",
    "\n",
    "if alleFunktionenOK:\n",
    "    print(\"Sehr gut! Alle von Ihnen implementierten Funktionen funktionieren wie erwartet.\")"
   ]
  },
  {
   "cell_type": "markdown",
   "metadata": {},
   "source": [
    "## Aufgabe 2: Abstandsberechnung\n",
    "Erstellen Sie eine Funktion, die den Abstand zweier Punkte p1 und p2 berechnet. Die Punkte sind jeweils durch ihre Koordination [x1, y1] und [x2, y2] gegeben.\n",
    "\n",
    "![Abstand](../bilder/abstand.png)\n",
    "\n",
    "Der Abstand d berechnet sich wie folgt:\n",
    "\n",
    "$$ d = \\sqrt{(x_{1} − x_{2})^{2} + (y_{1} − y_{2})^{2}} $$\n",
    "\n",
    "**Hinweis**: Verwenden Sie die in der Bibliothek <code>math</code> zur Verfügung gestellten mathematischen Funktionen (https://docs.python.org/3/library/math.html)."
   ]
  },
  {
   "cell_type": "code",
   "execution_count": null,
   "metadata": {},
   "outputs": [],
   "source": [
    "# hier die Funktion Abstand implementieren\n",
    "\n",
    "# hier wird die Funktion Abstand getestet\n",
    "import math\n",
    "import random\n",
    "alleFunktionenOK = True\n",
    "for r in range(1000):\n",
    "    x1 = random.randint(-100, 100)\n",
    "    x2 = random.randint(-100, 100)\n",
    "    y1 = random.randint(-100, 100)\n",
    "    y2 = random.randint(-100, 100)\n",
    "    \n",
    "    d = Abstand(x1, y1, x2, y2)\n",
    "    d_exp = math.sqrt((x1 - x2)**2 + (y1 - y2)**2)\n",
    "    \n",
    "    if d - d_exp > 0.01:\n",
    "        alleFunktionenOK = False\n",
    "        print(\"Fehler: Die Funktion Abstand liefert für die Eingabe (\" + str(x1) + \"/\" + str(y1) + \") und (\" +\n",
    "              str(x2) + \"/\" + str(y2) + \") das falsche Ergebnis \" + str(d) + \".\")\n",
    "\n",
    "if alleFunktionenOK:\n",
    "    print(\"Sehr gut! Alle von Ihnen implementierten Funktionen funktionieren wie erwartet.\")"
   ]
  },
  {
   "cell_type": "markdown",
   "metadata": {},
   "source": [
    "## Aufgabe 3: Zielscheibe\n",
    "Erstellen Sie eine Funktion, die den Schuss auf eine Zielscheibe auswertet. Das Zentrum der Zielscheibe befindet sich im Mittelpunkt eines xy-Koordinatensystems. Die Zielscheibe besitzt einen Durchmesser d und ist in n Ringe unterteilt. Der abgegebene Schuss ist durch die Koordinaten x und y des Punktes p gegeben. Die Funktion soll die Nummer des Rings ausgeben, der getroffen wurde. Liegt der Schuss außerhalb der Zielscheibe („kein Treffer“), so soll die Funktion den Wert 0 zurückgeben.\n",
    "\n",
    "![Ziel](../bilder/ziel.png)\n",
    "\n",
    "Im Beispiel besitzt die Zielscheibe 4 Ringe. Der Schuss ist in Ring 3 gelandet.\n",
    "\n",
    "**Hinweise**:\n",
    "- Im Vordergrund steht hier zuerst die Überlegung, wie berechnet man den getroffenen Ring.\n",
    "- Überlegen Sie, welche der Funktionen, die Sie in den Aufgaben zuvor gelöst haben Sie im Rahmen dieser Aufgabe wiederverwenden können"
   ]
  },
  {
   "cell_type": "code",
   "execution_count": null,
   "metadata": {},
   "outputs": [],
   "source": [
    "# hier die Funktion zielscheibe implementieren\n",
    "\n",
    "# hier wird die Funktion zielscheibe getestet\n",
    "import math\n",
    "import random\n",
    "alleFunktionenOK = True\n",
    "for z in range(1000):\n",
    "    x = random.randint(-100, 100)\n",
    "    y = random.randint(-100, 100)\n",
    "    d = 200\n",
    "    n = random.randint(1, 100)\n",
    "    \n",
    "    r = zielscheibe(x, y, d, n)\n",
    "    if Abstand(x, y, 0, 0) >= (d / 2):\n",
    "        r_exp = 0\n",
    "    else:\n",
    "        r_exp = int(Abstand(x, y, 0, 0) / (d / (2 * n))) + 1\n",
    "    \n",
    "    if r != r_exp:\n",
    "        alleFunktionenOK = False\n",
    "        print(\"r_exp = \" + str(r_exp))\n",
    "        print(\"Fehler: Die Funktion zielscheibe liefert für die Eingabe\")\n",
    "        print(\"    Punkt: (\" + str(x) + \"/\" + str(y) + \")\")\n",
    "        print(\"    d = \" + str(d))\n",
    "        print(\"    n = \" + str(n))\n",
    "        print(\"das falsche Ergebnis \" + str(r) + \".\")\n",
    "\n",
    "if alleFunktionenOK:\n",
    "    print(\"Sehr gut! Alle von Ihnen implementierten Funktionen funktionieren wie erwartet.\")"
   ]
  },
  {
   "cell_type": "code",
   "execution_count": null,
   "metadata": {},
   "outputs": [],
   "source": []
  }
 ],
 "metadata": {
  "kernelspec": {
   "display_name": "Python 3",
   "language": "python",
   "name": "python3"
  },
  "language_info": {
   "codemirror_mode": {
    "name": "ipython",
    "version": 3
   },
   "file_extension": ".py",
   "mimetype": "text/x-python",
   "name": "python",
   "nbconvert_exporter": "python",
   "pygments_lexer": "ipython3",
   "version": "3.5.2"
  }
 },
 "nbformat": 4,
 "nbformat_minor": 2
}
