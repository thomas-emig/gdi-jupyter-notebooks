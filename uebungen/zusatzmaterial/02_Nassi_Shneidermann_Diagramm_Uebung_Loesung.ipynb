{
 "cells": [
  {
   "cell_type": "markdown",
   "metadata": {},
   "source": [
    "# Lösung zur Übung Nassi-Shneiderman-Diagramme\n",
    "\n",
    "In diesem Übungsblatt soll die Erstellung von Nassi-Shneiderman-Diagrammen eingeübt werden. Zudem soll das Übertragen von NSDs in Python-Programme eingeübt werden.\n",
    "\n",
    "## Treffer versenkt\n",
    "\n",
    "Erstellen Sie eine Funktion, die beurteilt, ob sich ein Punkt mit den Koordinaten x und y innerhalb des rechteckigen Bereichs [x1, x2, y1, y2] befindet (Abbildung unten). Erstellen Sie zunächst ein NSD für den Algorithmus und übertragen Sie es anschließend in ein Python-Programm.\n",
    "\n",
    "![Treffer Versenkt 1](../bilder/treffer_versenkt_1.png)\n",
    "\n",
    "### Lösung\n",
    "\n",
    "Das Nassi-Shneidermann Diagramm wird hier nicht gezeigt, sondern der Python Code, den Sie sehr leicht in ein Nassi-Shneidermann-Diagramm zurück überführen können zum Vergleich.\n",
    "\n",
    "**Lösungsansatz 1**\n",
    "\n",
    "Beim ersten Lösungsansatz werden alle 4 Bedingungen überprüft und dann entsprechend entschieden. Dieses Vorgehen kann mitunter zeitlich schlechter sein, da eventuell die Bedinungen für die x-Koordinaten bereits nicht erfüllt sind und der Rest gar nicht mehr geprüft werden muss."
   ]
  },
  {
   "cell_type": "code",
   "execution_count": 2,
   "metadata": {},
   "outputs": [
    {
     "data": {
      "text/plain": [
       "True"
      ]
     },
     "execution_count": 2,
     "metadata": {},
     "output_type": "execute_result"
    }
   ],
   "source": [
    "def rechteck1(x, y, x1, x2, y1, y2):\n",
    "    if (x1 <= x) and (x <= x2) and (y1 <= y) and (y <= y2):\n",
    "        IstInRechteck = True\n",
    "    else:\n",
    "        IstInRechteck = False\n",
    "    return IstInRechteck\n",
    "\n",
    "#Test:\n",
    "rechteck1(2,2, 0, 3, 0, 3)"
   ]
  },
  {
   "cell_type": "markdown",
   "metadata": {},
   "source": [
    "**Lösungsansatz 2**\n",
    "\n",
    "Hier werden erst die Bedinungen für die x-Koordinaten überprüft und danach bei Bedarf noch die y-Koordinaten."
   ]
  },
  {
   "cell_type": "code",
   "execution_count": 4,
   "metadata": {},
   "outputs": [
    {
     "data": {
      "text/plain": [
       "True"
      ]
     },
     "execution_count": 4,
     "metadata": {},
     "output_type": "execute_result"
    }
   ],
   "source": [
    "def rechteck2(x, y, x1, x2, y1, y2):\n",
    "    if (x1 <= x) and (x <= x2):\n",
    "        if (y1 <= y) and (y <= y2):\n",
    "            IstInRechteck = True\n",
    "        else:\n",
    "            IstInRechteck = False\n",
    "    else:\n",
    "        IstInRechteck = False\n",
    "    return IstInRechteck\n",
    "\n",
    "#Test:\n",
    "rechteck2(2,2, 0, 3, 0, 3)"
   ]
  },
  {
   "cell_type": "markdown",
   "metadata": {},
   "source": [
    "**Lösungsansatz 3**\n",
    "\n",
    "Hier wird abgebrochen, sobald eine Bedingung nicht mehr erfüllt ist."
   ]
  },
  {
   "cell_type": "code",
   "execution_count": 5,
   "metadata": {},
   "outputs": [
    {
     "data": {
      "text/plain": [
       "True"
      ]
     },
     "execution_count": 5,
     "metadata": {},
     "output_type": "execute_result"
    }
   ],
   "source": [
    "def rechteck3(x, y, x1, x2, y1, y2):\n",
    "    if (x1 > x):\n",
    "        return False\n",
    "    elif(x2 < x):\n",
    "        return False\n",
    "    elif(y1 > y):\n",
    "        return False\n",
    "    elif(y2 < y):\n",
    "        return False\n",
    "    else:\n",
    "        return True\n",
    "\n",
    "#Test:\n",
    "rechteck2(2,2, 0, 3, 0, 3)"
   ]
  },
  {
   "cell_type": "markdown",
   "metadata": {},
   "source": [
    "## Lösung zu Daneben – aber wo?\n",
    "\n",
    "Erstellen Sie eine Funktion, die für den Punkt mit den Koordinaten x und y die Nummer des getroffenen Gebiets ermittelt (Abbildung unten). Erstellen Sie zuerst ein Nassi-Shneiderman-Diagramm mit dem Algorithmus Ihrer Funktion und übertragen Sie dann das NSD in ein Python-Programm.\n",
    "\n",
    "![Daneben 1](../bilder/daneben_1.png)\n",
    "\n",
    "**Hinweis**: In der Angabe ist nichts darüber ausgesagt, wie mit den Grenzen zu verfahren ist, d.h. ob x1 zu den Gebieten 1, 4 und 6 oder 2, 0 und 7 gehört. In den Lösungen ist es also unerheblich, ob bei den Bedingungen &lt; oder &lt;= verwendet werden.\n",
    "\n",
    "### Lösung\n",
    "\n",
    "**Lösungsansatz \"Der Turm\"**\n",
    "\n",
    "Es werden für jede Wertekombination von x und y immer alle 9 Bereiche geprüft, auch wenn man\n",
    "bereits bei der ersten Prüfung \"fündig\" wird. Jede Bedingung prüft jeweils den gesamten\n",
    "Bereich – ist also für sich genommen komplex aufgebaut."
   ]
  },
  {
   "cell_type": "code",
   "execution_count": 6,
   "metadata": {},
   "outputs": [
    {
     "data": {
      "text/plain": [
       "8"
      ]
     },
     "execution_count": 6,
     "metadata": {},
     "output_type": "execute_result"
    }
   ],
   "source": [
    "def turm(x, y, x1, x2, y1, y2):\n",
    "    if (x < x1) and (y > y2):\n",
    "        bereich = 1\n",
    "    if (x >= x1) and (x <= x2) and (y > y2):\n",
    "        bereich = 2\n",
    "    if (x > x2) and (y > y2):\n",
    "        bereich = 3\n",
    "    if (x < x1) and (y <= y2) and (y >= y1):\n",
    "        bereich = 4\n",
    "    if (x >= x1) and (x <= x2) and (y <= y2) and (y >= y1):\n",
    "        bereich = 0\n",
    "    if (x > x2) and (y <= y2) and (y >= y1):\n",
    "        bereich = 5\n",
    "    if (x < x1) and (y < y1):\n",
    "        bereich = 6\n",
    "    if (x >= x1) and (x <= x2) and (y < y1):\n",
    "        bereich = 7\n",
    "    if (x > x2) and (y < y1):\n",
    "        bereich = 8\n",
    "    return bereich\n",
    "\n",
    "#Test:\n",
    "turm(4,-1, 0, 3, 0, 3)"
   ]
  },
  {
   "cell_type": "markdown",
   "metadata": {},
   "source": [
    "**Lösungsansatz \"Die Schachtel\"**\n",
    "\n",
    "\n",
    "In dieser Lösung wird ebenfalls jeder Bereich als Ganzes geprüft. Die Bedingungen sind\n",
    "komplex. In Bezug auf die Effizienz benötigt man im besten Fall nur eine Prüfung, im\n",
    "schlechtesten Fall werden alle 8 Bedingungen durchlaufen.\n",
    "\n",
    "Statt <code>else: if()</code> hätte auch jeweils ein <code>elif()</code> genutzt werden können."
   ]
  },
  {
   "cell_type": "code",
   "execution_count": 8,
   "metadata": {},
   "outputs": [
    {
     "data": {
      "text/plain": [
       "8"
      ]
     },
     "execution_count": 8,
     "metadata": {},
     "output_type": "execute_result"
    }
   ],
   "source": [
    "def schachtel(x, y, x1, x2, y1, y2):\n",
    "    if (x < x1) and (y > y2):\n",
    "        bereich = 1\n",
    "    else:\n",
    "        if (x >= x1) and (x <= x2) and (y > y2):\n",
    "            bereich = 2\n",
    "        else:\n",
    "            if (x > x2) and (y > y2):\n",
    "                bereich = 3\n",
    "            else:\n",
    "                if (x < x1) and (y >= y1):\n",
    "                    bereich = 4\n",
    "                else:\n",
    "                    if (x >= x1) and (x <= x2) and (y >= y1):\n",
    "                        bereich = 0\n",
    "                    else:\n",
    "                        if (x > x2) and (y >= y1):\n",
    "                            bereich = 5\n",
    "                        else:\n",
    "                            if (x < x1):\n",
    "                                bereich = 6\n",
    "                            else:\n",
    "                                if (x >= x1) and (x <= x2):\n",
    "                                    bereich = 7\n",
    "                                else:\n",
    "                                    if (x > x2):\n",
    "                                        bereich = 8\n",
    "    return bereich\n",
    "\n",
    "#Test:\n",
    "schachtel(4,-1, 0, 3, 0, 3)                                        "
   ]
  },
  {
   "cell_type": "markdown",
   "metadata": {},
   "source": [
    "**Lösungsansatz \"Die Säulen\"**\n",
    "\n",
    "Durch die erste Prüfung x < x1 teilt man das Suchgebiet in 3 bzw. 6 Felder ein. Es entsteht\n",
    "die \"Säule\" aus den Bereichen 6, 1, und 4. Pro Säule muss man dann nur noch die \"Ebene\"\n",
    "suchen. Man benötigt somit zwischen 2 und 4 Prüfungen. Dieser Algorithmus ist also am\n",
    "effizientesten. Zudem sind die Bedingungen für sich jeweils einfach und somit auch\n",
    "weniger fehleranfällig."
   ]
  },
  {
   "cell_type": "code",
   "execution_count": 9,
   "metadata": {},
   "outputs": [
    {
     "data": {
      "text/plain": [
       "8"
      ]
     },
     "execution_count": 9,
     "metadata": {},
     "output_type": "execute_result"
    }
   ],
   "source": [
    "def saulen(x, y, x1, x2, y1, y2):\n",
    "    if (x < x1):               # bereiche 1,4,6\n",
    "        if (y > y2):\n",
    "            bereich = 1\n",
    "        elif (y < y1):\n",
    "            bereich = 6\n",
    "        else:\n",
    "            bereich = 4\n",
    "    else:\n",
    "        if (x > x2):           # bereiche 3, 5, 8\n",
    "            if (y > y2):\n",
    "                bereich = 3\n",
    "            elif (y < y1):\n",
    "                bereich = 8\n",
    "            else:\n",
    "                bereich = 5\n",
    "\n",
    "        else:                  # bereiche 2, 0, 7\n",
    "\n",
    "            if (y > y2):\n",
    "                bereich = 2\n",
    "            elif (y < y1):\n",
    "                bereich = 7\n",
    "            else:\n",
    "                bereich = 0\n",
    "    return bereich\n",
    "\n",
    "#Test:\n",
    "schachtel(4,-1, 0, 3, 0, 3)  "
   ]
  },
  {
   "cell_type": "code",
   "execution_count": null,
   "metadata": {},
   "outputs": [],
   "source": []
  }
 ],
 "metadata": {
  "kernelspec": {
   "display_name": "Python 3",
   "language": "python",
   "name": "python3"
  },
  "language_info": {
   "codemirror_mode": {
    "name": "ipython",
    "version": 3
   },
   "file_extension": ".py",
   "mimetype": "text/x-python",
   "name": "python",
   "nbconvert_exporter": "python",
   "pygments_lexer": "ipython3",
   "version": "3.8.3"
  }
 },
 "nbformat": 4,
 "nbformat_minor": 4
}
