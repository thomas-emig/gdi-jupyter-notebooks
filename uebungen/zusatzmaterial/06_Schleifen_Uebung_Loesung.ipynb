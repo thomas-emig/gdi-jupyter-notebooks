{
 "cells": [
  {
   "cell_type": "markdown",
   "metadata": {},
   "source": [
    "# Lösung Schleifen\n",
    "\n",
    "Die Aufgaben auf diesem Übungsblatt dienen der vertieften Übung zur Anwendung von Zähl- und bedingten Schleifen am Beispiel von Mittelwertberechnungen.\n",
    "\n",
    "## Einfache Mittelwertberechnungen mit Zählschleife\n",
    "\n",
    "In einer zweidimensionalen Liste sind positive Werte gegeben (in [0][1], [1][1], [2][1], usw.). Weiterhin ist die Anzahl der Werte gegeben (in [0][0]).\n",
    "\n",
    "Die Python Zelle soll den Mittelwert der gegebenen Werte berechnen und in [1][0] eintragen.\n",
    "Die Python Zelle soll den Mittelwert nur dann berechnen, wenn die Anzahl an Werten größer als 0 ist, sonst soll sie in [1][0] den Text „Fehler“ ausgeben."
   ]
  },
  {
   "cell_type": "code",
   "execution_count": 1,
   "metadata": {},
   "outputs": [
    {
     "name": "stdout",
     "output_type": "stream",
     "text": [
      "[5, 2.3]\n",
      "[5.0, 7.2]\n",
      "[0, 8.0]\n",
      "[0, 5.9]\n",
      "[0, 1.6]\n"
     ]
    }
   ],
   "source": [
    "# Angabe\n",
    "angabe = [[5, 2.3],\n",
    "          [0, 7.2],\n",
    "          [0, 8.0],\n",
    "          [0, 5.9],\n",
    "          [0, 1.6]\n",
    "         ]\n",
    "\n",
    "# Berechnung\n",
    "if angabe[0][0] > 0:\n",
    "    summe = 0\n",
    "    for i in range(angabe[0][0]):\n",
    "        summe += angabe[i][1]\n",
    "    angabe[1][0] = summe / angabe[0][0]\n",
    "else:\n",
    "    angabe[1][0] = \"Fehler\"\n",
    "\n",
    "\n",
    "# Ausgabe\n",
    "for i in range(5):\n",
    "    print(angabe[i])"
   ]
  },
  {
   "cell_type": "markdown",
   "metadata": {},
   "source": [
    "## Einfache Mittelwertberechnung mit bedingter Schleife\n",
    "\n",
    "### Grundaufgabe\n",
    "\n",
    "In einer zweidimensionalen Liste sind positive Werte gegeben (in [0][2], [1][2], [2][2], usw.). Die Anzahl der Werte ist nun implizit gegeben: der letzte gegebene Zahlenwert ist immer eine 0 und soll in der Berechnung des Mittelwerts nicht berücksichtigt werden.\n",
    "\n",
    "Die Python Zelle soll den Mittelwert der gegebenen Werte berechnen und in [0][0] eintragen. Weiterhin soll die Python Zelle die Anzahl der für die Berechnung verwendeten Werte ermitteln und in [1][0] eintragen. Die Python Zelle soll den Mittelwert nur dann berechnen, wenn die Anzahl an verwendbaren Werten größer als 0 ist, sonst soll sie in [1][0] den Text „Fehler“ ausgeben."
   ]
  },
  {
   "cell_type": "code",
   "execution_count": 1,
   "metadata": {},
   "outputs": [
    {
     "name": "stdout",
     "output_type": "stream",
     "text": [
      "[5.0, 0, 2.3]\n",
      "[5, 0, 7.2]\n",
      "[0, 0, 8.0]\n",
      "[0, 0, 5.9]\n",
      "[0, 0, 1.6]\n",
      "[0, 0, 0.0]\n"
     ]
    }
   ],
   "source": [
    "# Angabe\n",
    "angabe = [[0, 0, 2.3],\n",
    "          [0, 0, 7.2],\n",
    "          [0, 0, 8.0],\n",
    "          [0, 0, 5.9],\n",
    "          [0, 0, 1.6],\n",
    "          [0, 0, 0.0]\n",
    "         ]\n",
    "\n",
    "# Berechnung\n",
    "# Werte zählen und summe berechnen\n",
    "anzahl = 0\n",
    "summe = 0\n",
    "wert = angabe[0][2]\n",
    "while wert != 0:\n",
    "    summe += wert\n",
    "    anzahl += 1\n",
    "    wert = angabe[anzahl][2]\n",
    "\n",
    "if anzahl > 0:\n",
    "    angabe[1][0] = anzahl\n",
    "    angabe[0][0] = summe / anzahl\n",
    "else:\n",
    "    angabe[0][0] = \"Fehler\"\n",
    "\n",
    "# Ausgabe\n",
    "for i in range(6):\n",
    "    print(angabe[i])"
   ]
  },
  {
   "cell_type": "markdown",
   "metadata": {},
   "source": [
    "### Erweiterung: Mitzählen\n",
    "\n",
    "Geben Sie in der Spalte [x][1] die laufende Nummer der jeweiligen Zahl aus. Das Ergebnis für die oben gegebene Ausgangslage ist beispielhaft unten dargestellt.\n",
    "\n",
    "<code>5, 1, 2.3\n",
    "5, 2, 7.2\n",
    "0, 3, 8.0\n",
    "0, 4, 5.9\n",
    "0, 5, 1.6\n",
    "0, 6, 0.0</code>"
   ]
  },
  {
   "cell_type": "code",
   "execution_count": 4,
   "metadata": {},
   "outputs": [
    {
     "name": "stdout",
     "output_type": "stream",
     "text": [
      "[5.0, 1, 2.3]\n",
      "[5, 2, 7.2]\n",
      "[0, 3, 8.0]\n",
      "[0, 4, 5.9]\n",
      "[0, 5, 1.6]\n",
      "[0, 6, 0.0]\n"
     ]
    }
   ],
   "source": [
    "# Angabe\n",
    "angabe = [[0, 0, 2.3],\n",
    "          [0, 0, 7.2],\n",
    "          [0, 0, 8.0],\n",
    "          [0, 0, 5.9],\n",
    "          [0, 0, 1.6],\n",
    "          [0, 0, 0.0]\n",
    "         ]\n",
    "\n",
    "# Berechnung\n",
    "# Werte zählen und summe berechnen\n",
    "anzahl = 0\n",
    "summe = 0\n",
    "wert = angabe[0][2]\n",
    "while wert != 0:\n",
    "    summe += wert\n",
    "    angabe[anzahl][1] = anzahl + 1\n",
    "    anzahl += 1\n",
    "    wert = angabe[anzahl][2]\n",
    "else:\n",
    "    angabe[anzahl][1] = anzahl + 1\n",
    "\n",
    "if anzahl > 0:\n",
    "    angabe[1][0] = anzahl\n",
    "    angabe[0][0] = summe / anzahl\n",
    "else:\n",
    "    angabe[0][0] = \"Fehler\"\n",
    "\n",
    "# Ausgabe\n",
    "for i in range(6):\n",
    "    print(angabe[i])"
   ]
  },
  {
   "cell_type": "markdown",
   "metadata": {},
   "source": [
    "## Berechnung eines gleitenden Durchschnitts\n",
    "\n",
    "In einer zweidimensionalen Liste ist eine längere Reihe von Zahlen gegeben. Aus dieser Zahlenreihe sollen jeweils n Werte für die Berechnung eines Mittelwerts verwendet werden („gleitender Durchschnitt“). Der Wert n soll vom Benutzer eigegeben werden.\n",
    "\n",
    "Die Python Zelle soll die jeweiligen Mittelwerte berechnen und in Spalte 2 eintragen.\n",
    "\n",
    "Das Ergebnis für n == 5 und die in der Zelle gegebene Angabe ist\n",
    "\n",
    "<code>-6.9, 0.0\n",
    " 1.0, 0.0\n",
    " 8.2, 0.0\n",
    "-4.5, 0.0\n",
    " 2.3, 0.02\n",
    " 4.5, 2.3\n",
    "-8.4, 0.42</code>"
   ]
  },
  {
   "cell_type": "code",
   "execution_count": 9,
   "metadata": {},
   "outputs": [
    {
     "name": "stdout",
     "output_type": "stream",
     "text": [
      "Bitte die Anzahl der Werte für die Durchschnittsberechnung angeben: 5\n",
      "[-6.9, 0.0]\n",
      "[1.0, 0.0]\n",
      "[8.2, 0.0]\n",
      "[-4.5, 0.0]\n",
      "[2.3, 0.01999999999999975]\n",
      "[4.5, 2.3]\n",
      "[-8.4, 0.41999999999999993]\n"
     ]
    }
   ],
   "source": [
    "# Angabe\n",
    "angabe = [[-6.9, 0.0],\n",
    "          [ 1.0, 0.0],\n",
    "          [ 8.2, 0.0],\n",
    "          [-4.5, 0.0],\n",
    "          [ 2.3, 0.0],\n",
    "          [ 4.5, 0.0],\n",
    "          [-8.4, 0.0]\n",
    "         ]\n",
    "\n",
    "# Wert n vom Benutzer abfragen\n",
    "n = int(input(\"Bitte die Anzahl der Werte für die Durchschnittsberechnung angeben: \"))\n",
    "\n",
    "# Berechnung\n",
    "if n <= len(angabe):\n",
    "    for i in range(n - 1, len(angabe)):\n",
    "        summe = 0\n",
    "        untereGrenze = i + 1 - n\n",
    "        for k in range(untereGrenze, i + 1):\n",
    "            summe += angabe[k][0]\n",
    "        angabe[i][1] = summe / (i + 1 - untereGrenze)\n",
    "\n",
    "# Ausgabe\n",
    "for i in range(7):\n",
    "    print(angabe[i])\n"
   ]
  },
  {
   "cell_type": "markdown",
   "metadata": {},
   "source": [
    "### Alternative mittels list Operatoren\n",
    "<code>sum([2,3])</code> liefert die Summe der Elemente der Liste\n",
    "\n",
    "<code>list.pop(0)</code> löscht das erste Element aus einer Liste list\n",
    "\n",
    "<code>list.append(x)</code> hängt das Element 'x' am Ende einer Liste an\n",
    "\n",
    "Mit diesen Funktionen kann eine wirkliche gleitende Liste der letzten n Elemente gebildet werden, die dann jeweils ausgewertet wird."
   ]
  },
  {
   "cell_type": "code",
   "execution_count": 13,
   "metadata": {},
   "outputs": [
    {
     "name": "stdout",
     "output_type": "stream",
     "text": [
      "Bitte die Anzahl der Werte für die Durchschnittsberechnung angeben: 5\n",
      "[-6.9, 0.0]\n",
      "[1.0, 0.0]\n",
      "[8.2, 0.0]\n",
      "[-4.5, 0.0]\n",
      "[2.3, 0.01999999999999975]\n",
      "[4.5, 2.3]\n",
      "[-8.4, 0.41999999999999993]\n"
     ]
    }
   ],
   "source": [
    "# Angabe\n",
    "angabe = [[-6.9, 0.0],\n",
    "          [ 1.0, 0.0],\n",
    "          [ 8.2, 0.0],\n",
    "          [-4.5, 0.0],\n",
    "          [ 2.3, 0.0],\n",
    "          [ 4.5, 0.0],\n",
    "          [-8.4, 0.0]\n",
    "         ]\n",
    "\n",
    "# Wert n vom Benutzer abfragen\n",
    "n = int(input(\"Bitte die Anzahl der Werte für die Durchschnittsberechnung angeben: \"))\n",
    "\n",
    "horizon = [] #eine leere Liste. Diese Liste enthält dann jeweils den Horizont\n",
    "\n",
    "# Berechnung\n",
    "for i in range(len(angabe)):\n",
    "    if(len(horizon) < n):\n",
    "        horizon.append(angabe[i][0])\n",
    "        if(len(horizon) == n):\n",
    "            angabe[i][1] = sum(horizon)/len(horizon)\n",
    "    else:\n",
    "        horizon.pop(0)\n",
    "        horizon.append(angabe[i][0])\n",
    "        angabe[i][1] = sum(horizon)/len(horizon)\n",
    "        \n",
    "# Ausgabe\n",
    "for i in range(7):\n",
    "    print(angabe[i])"
   ]
  }
 ],
 "metadata": {
  "kernelspec": {
   "display_name": "Python 3",
   "language": "python",
   "name": "python3"
  },
  "language_info": {
   "codemirror_mode": {
    "name": "ipython",
    "version": 3
   },
   "file_extension": ".py",
   "mimetype": "text/x-python",
   "name": "python",
   "nbconvert_exporter": "python",
   "pygments_lexer": "ipython3",
   "version": "3.8.3"
  }
 },
 "nbformat": 4,
 "nbformat_minor": 4
}
