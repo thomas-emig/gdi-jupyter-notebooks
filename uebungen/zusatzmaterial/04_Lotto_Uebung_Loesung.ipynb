{
 "cells": [
  {
   "cell_type": "markdown",
   "metadata": {},
   "source": [
    "# Lösung zu Lotto\n",
    "Die Aufgaben auf diesem Übungsblatt sind als Lernkontrollen für die folgenden Themen gedacht:\n",
    "- Einsatz von Schleifen\n",
    "- Einsatz von ganzzahligen Divisionen und Modulo-Operator (Berechnung Rest einer ganzzahligen Division)\n",
    "\n",
    "## Lotto spielen – ohne Doppelte\n",
    "Erstellen Sie eine Zelle, die 6 Lottozahlen ermittelt – keine Zahl soll dabei doppelt vorkommen, d.h. wenn eine Zahl gezogen wird, deren Wert bereits im Feld enthalten ist, dann muss erneut gezogen werden – so lange bis man eine Zahl gezogen hat, die noch nicht im Feld enthalten ist.\n",
    "Die Zahlen sollen in einer Liste gespeichert werden und mit der <code>print</code> Anweisung ausgegeben werden.\n",
    "\n",
    "**Lösung**\n",
    "Zunächst wird eine 6 elementige Ergebnisliste (zahlen) definiert. Danach wird eine while-Schleife durchlaufen, die solange aktiv ist, bis 6 Zahlen gefunden wurden. In jedem Durchlauf wird zunächst eine ganze Zahl zwischen 1 und 49 ermittelt und im Anschluss geprüft, ob dies bereits in der Ergebnisliste (zahlen) enthalten ist. Nur wenn dies nicht der Fall ist, wird die Zahl zu zahlen hinzugefügt und der Zähler gefundener Zahlen um 1 erhöht. Am Ende wird die Ergebnisliste (zahlen) ausgegeben."
   ]
  },
  {
   "cell_type": "code",
   "execution_count": 1,
   "metadata": {},
   "outputs": [
    {
     "name": "stdout",
     "output_type": "stream",
     "text": [
      "Die Lottozahlen von heute: \n",
      "[16, 17, 5, 21, 43, 39]\n"
     ]
    }
   ],
   "source": [
    "import random\n",
    "zahlen = [0, 0, 0, 0, 0, 0]\n",
    "\n",
    "index = 0\n",
    "while index < 6:\n",
    "    zahl = random.randint(1, 49)\n",
    "    \n",
    "    # prüfen, ob Zahl bereits in zahlen enthalten ist\n",
    "    bereitsVorhanden = False\n",
    "    for element in zahlen:\n",
    "        if element == zahl:\n",
    "            bereitsVorhanden = True\n",
    "    \n",
    "    if bereitsVorhanden:\n",
    "        continue\n",
    "    else:\n",
    "        zahlen[index] = zahl\n",
    "        index += 1\n",
    "\n",
    "print(\"Die Lottozahlen von heute: \")\n",
    "print(zahlen)\n"
   ]
  },
  {
   "cell_type": "markdown",
   "metadata": {},
   "source": [
    "Die Lösung ist nicht korrekt, aber es kann effizienter festgestellt werden, ob eine gerade gezogene Zahl bereits in der Ergebnisliste (zahlen) enthalten ist. Daher gibt es eine alternative Lösung:"
   ]
  },
  {
   "cell_type": "code",
   "execution_count": 2,
   "metadata": {},
   "outputs": [
    {
     "name": "stdout",
     "output_type": "stream",
     "text": [
      "Die Lottozahlen von heute: \n",
      "[46, 37, 31, 6, 12, 7]\n"
     ]
    }
   ],
   "source": [
    "import random\n",
    "zahlen = [0, 0, 0, 0, 0, 0]\n",
    "\n",
    "index = 0\n",
    "while index < 6:\n",
    "    zahl = random.randint(1, 49)\n",
    "    \n",
    "    if zahl in zahlen:\n",
    "        continue\n",
    "    else:\n",
    "        zahlen[index] = zahl\n",
    "        index += 1\n",
    "\n",
    "print(\"Die Lottozahlen von heute: \")\n",
    "print(zahlen)"
   ]
  },
  {
   "cell_type": "markdown",
   "metadata": {},
   "source": [
    "## Alle Primzahlen ermitteln\n",
    "Erstellen Sie eine Zelle, die die ersten 10 Primzahlen ermittelt, die mindestens 2 Stellen besitzen. Die Primzahlen sollen mit der <code>print</code> Anweisung ausgegeben werden. Verwenden Sie Ihre Funktion aus der vorhergehenden Aufgabe.\n",
    "\n",
    "**Lösung**\n",
    "\n",
    "Die Primzahlen sollen mindestens 2 Stellen besitzen. Das heisst, dass Primzahlen zwischen 10 und 99 gesucht werden. Davon sollen es die ersten 10 Primzahlen sein.\n",
    "\n",
    "Wir definieren eine Funktion <code>IstPrimzahl(n)</code>, die bestimmt, ob eine Zahl durch einen Wert zwischen 2 und (n-1) teilbar ist. Ist eine solche Zahl gefunden, wird die Suche abgebrochen (<code>break</code>) und False zurück geliefert. Ansonsten True.\n",
    "\n",
    "Diese Funktion wird für die Zahlen 10 bis 99 aufgerufen bis 10 Werte gefunden wurden."
   ]
  },
  {
   "cell_type": "code",
   "execution_count": 8,
   "metadata": {},
   "outputs": [
    {
     "name": "stdout",
     "output_type": "stream",
     "text": [
      "Primzahl nummer  1  =  11\n",
      "Primzahl nummer  2  =  13\n",
      "Primzahl nummer  3  =  17\n",
      "Primzahl nummer  4  =  19\n",
      "Primzahl nummer  5  =  23\n",
      "Primzahl nummer  6  =  29\n",
      "Primzahl nummer  7  =  31\n",
      "Primzahl nummer  8  =  37\n",
      "Primzahl nummer  9  =  41\n",
      "Primzahl nummer  10  =  43\n"
     ]
    }
   ],
   "source": [
    "def IstPrimzahl(n):\n",
    "    istPrim = True\n",
    "    \n",
    "    # teste alle Zahlen von 2 bis n-1\n",
    "    for i in range(2, n):\n",
    "        if n % i == 0: # ist n dirch i teilbar?\n",
    "            istPrim = False\n",
    "            break\n",
    "            \n",
    "    return istPrim\n",
    "\n",
    "anzahl = 0\n",
    "n = 10\n",
    "while anzahl < 10:\n",
    "    if IstPrimzahl(n):\n",
    "        anzahl += 1\n",
    "        print(\"Primzahl nummer \", anzahl, \" = \", n)\n",
    "    n += 1"
   ]
  },
  {
   "cell_type": "markdown",
   "metadata": {},
   "source": [
    "## Alle Teiler ermitteln\n",
    "Erstellen Sie eine Zelle, die den Benutzer nach einer Zahl fragt, zu dieser Zahl alle Teiler ermittelt und diese dann ausgibt.\n",
    "\n",
    "**Lösung**\n",
    "Ähnlich wie bei den Primzahlen werden alle Einträge zwischen 2 und (n-1) geprüft und ausgegeben, alls die gegebene Zahl durch diese ohne Rest teilbar ist."
   ]
  },
  {
   "cell_type": "code",
   "execution_count": 9,
   "metadata": {},
   "outputs": [
    {
     "name": "stdout",
     "output_type": "stream",
     "text": [
      "Bitte eine Zahl eingeben: 42\n",
      "42 ist durch  2  teilbar\n",
      "42 ist durch  3  teilbar\n",
      "42 ist durch  6  teilbar\n",
      "42 ist durch  7  teilbar\n",
      "42 ist durch  14  teilbar\n",
      "42 ist durch  21  teilbar\n"
     ]
    }
   ],
   "source": [
    "n = int(input(\"Bitte eine Zahl eingeben: \"))\n",
    "\n",
    "for i in range(2, n):\n",
    "    if n % i == 0:\n",
    "        print(n, \"ist durch \", i, \" teilbar\")"
   ]
  },
  {
   "cell_type": "code",
   "execution_count": null,
   "metadata": {},
   "outputs": [],
   "source": []
  }
 ],
 "metadata": {
  "kernelspec": {
   "display_name": "Python 3",
   "language": "python",
   "name": "python3"
  },
  "language_info": {
   "codemirror_mode": {
    "name": "ipython",
    "version": 3
   },
   "file_extension": ".py",
   "mimetype": "text/x-python",
   "name": "python",
   "nbconvert_exporter": "python",
   "pygments_lexer": "ipython3",
   "version": "3.8.3"
  }
 },
 "nbformat": 4,
 "nbformat_minor": 4
}
