{
 "cells": [
  {
   "cell_type": "markdown",
   "metadata": {},
   "source": [
    "# Lösung Zeichenketten\n",
    "Die Aufgaben auf diesem Übungsblatt sind als Lernkontrollen für die folgenden Themen gedacht:\n",
    "- Umgang mit Zeichenketten\n",
    "- Einsatz von Schleifen\n",
    "\n",
    "**Hinweis**:\n",
    "- In Python können die einzelnen Zeichen einer Variable vom Typ String wie eine Liste angesprochen werden.\n",
    "- Die Länge eines Strings oder einer Liste kann mit der Funktion <code>len()</code> ermittelt werden."
   ]
  },
  {
   "cell_type": "code",
   "execution_count": null,
   "metadata": {},
   "outputs": [],
   "source": [
    "# Eine String Variable\n",
    "text = \"Hallo\"\n",
    "\n",
    "# auf einzelne Zeichen zugreifen\n",
    "print(text[0])\n",
    "print(text[1])\n",
    "\n",
    "# länge des Strings ermitteln\n",
    "länge = len(text)\n",
    "print(\"Die Zeichenkette ist \" + str(länge) + \" Zeichen lang.\")"
   ]
  },
  {
   "cell_type": "markdown",
   "metadata": {},
   "source": [
    "## Aufgabe 1: Vokale zählen\n",
    "Es soll die Anzahl der Vokale in einem Text ermittelt werden.\n",
    "\n",
    "**Beispiele**:\n",
    "- „Hallo“ => 2 Vokale\n",
    "- „Hallo Anton“ => 4 Vokale\n",
    "\n",
    "**Lösung**\n",
    "\n",
    "Es wird zunächst eine Liste definiiert, in der alle Vokale (Groß- und Kleinschreibung) festgehalten werden. Im Anschluss wird der eingegebene Text wie eine Liste behandelt und jeder Buchstabe des Textes getested, ob er in der Liste der Vokale enthalten ist. Ist dem so, so wird die Anzahl der Vokale um 1 erhöht. Die Anzahl der Vokale kann am Ende entsprechend ausgegeben werden."
   ]
  },
  {
   "cell_type": "code",
   "execution_count": 1,
   "metadata": {},
   "outputs": [
    {
     "name": "stdout",
     "output_type": "stream",
     "text": [
      "Bitte Text eingeben: Hallo Welt.\n",
      "Es wurden:  3  Vokale gefunden.\n"
     ]
    }
   ],
   "source": [
    "vokale = [\"a\", \"e\", \"i\", \"o\", \"u\", \"A\", \"E\", \"I\", \"O\", \"U\"]\n",
    "\n",
    "text = input(\"Bitte Text eingeben: \")\n",
    "\n",
    "anzahlVokale = 0\n",
    "for buchstabe in text:\n",
    "    if buchstabe in vokale:\n",
    "        anzahlVokale += 1\n",
    "\n",
    "print(\"Es wurden: \", anzahlVokale, \" Vokale gefunden.\")"
   ]
  },
  {
   "cell_type": "markdown",
   "metadata": {},
   "source": [
    "## Alternative Lösungsmöglichkeit\n",
    "\n",
    "Im Folgenden wird eine weitere Lösungsalternative. Diese prüft explizit, ob ein jeweiliger Buchstabe einem Vokal entspricht, wobei die Liste der Vokale für jeden Buchstaben ganz explizit durgegangen wird."
   ]
  },
  {
   "cell_type": "code",
   "execution_count": 2,
   "metadata": {},
   "outputs": [
    {
     "name": "stdout",
     "output_type": "stream",
     "text": [
      "Bitte Text eingeben: Hallo Welt.\n",
      "Es wurden  3  Vokale gefunden.\n"
     ]
    }
   ],
   "source": [
    "vokale = [\"a\", \"e\", \"i\", \"o\", \"u\", \"A\", \"E\", \"I\", \"O\", \"U\"]\n",
    "\n",
    "text = input(\"Bitte Text eingeben: \")\n",
    "\n",
    "anzahlVokale = 0\n",
    "for buchstabe in text:\n",
    "    \n",
    "    istVokal = False\n",
    "    for vokal in vokale:\n",
    "        if buchstabe == vokal:\n",
    "            istVokal = True\n",
    "    \n",
    "    if istVokal:\n",
    "        anzahlVokale += 1\n",
    "\n",
    "print(\"Es wurden \", anzahlVokale, \" Vokale gefunden.\")"
   ]
  },
  {
   "cell_type": "markdown",
   "metadata": {},
   "source": [
    "## Aufgabe 2: Geheim\n",
    "Alle Ziffern sollen durch das Zeichen x ersetzt werden.\n",
    "\n",
    "**Beispiel**: „Vorwahl: 089“ => „Vorwahl: xxx“\n",
    "\n",
    "**Lösung**\n",
    "Auch für diese Lösung wird das Prinzip der ersten Lösung genutzt. Zunächst wird eine Liste mit allen Ziffern erstellt. Der dann einzugebende Text wird erneut wie eine Liste behandelt und es wird für jedes Zeichen überprüft ob es sich um eine Ziffer handelt. Sollte dem so sein, wird die Ziffer durch ein 'x' ersetzt. Ansonsten wird das gegebene Zeichen in die Ausgabe kopiert."
   ]
  },
  {
   "cell_type": "code",
   "execution_count": 3,
   "metadata": {},
   "outputs": [
    {
     "name": "stdout",
     "output_type": "stream",
     "text": [
      "Bitte Text eingeben: Hello World 42!\n",
      "Hello World xx!\n"
     ]
    }
   ],
   "source": [
    "zahlen = [\"0\", \"1\", \"2\", \"3\", \"4\", \"5\", \"6\", \"7\", \"8\", \"9\"]\n",
    "\n",
    "text = input(\"Bitte Text eingeben: \")\n",
    "\n",
    "ausgabe = \"\"\n",
    "for zeichen in text:\n",
    "    if zeichen in zahlen:\n",
    "        ausgabe += \"x\"\n",
    "    else:\n",
    "        ausgabe += zeichen\n",
    "        \n",
    "print(ausgabe)"
   ]
  },
  {
   "cell_type": "markdown",
   "metadata": {},
   "source": [
    "## Aufgabe 3: Kreditkarten\n",
    "Löschen Sie alle „-“ aus einem Text\n",
    "\n",
    "**Beispiel**: „2927-2736-8372-2837“ => „2927273683722837“\n",
    "\n",
    "**Anmerkung**: typisches Beispiel für Kreditkartennummern. Diese sind in Zahlenkolonen unterteilt, damit sie für den Menschen besser lesbar sind. Programmintern sind Sie ein einziger Schlüssel.\n",
    "\n",
    "**Lösung** \n",
    "\n",
    "Es wird erneut der gleiche Typ von Lösung genutzt. Der Text wird als Liste betrachtet und jedes Zeichen analysiert. Liegt ein '-' vor, wird dies nicht in den Ausgabetext kopiert. Alle anderen Zeichen werden unverändert kopiert."
   ]
  },
  {
   "cell_type": "code",
   "execution_count": 4,
   "metadata": {},
   "outputs": [
    {
     "name": "stdout",
     "output_type": "stream",
     "text": [
      "Bitte Text eingeben: Hello World 42-42!\n",
      "Hello World 4242!\n"
     ]
    }
   ],
   "source": [
    "text = input(\"Bitte Text eingeben: \")\n",
    "\n",
    "ausgabe = \"\"\n",
    "for zeichen in text:\n",
    "    if zeichen != \"-\":\n",
    "        ausgabe += zeichen\n",
    "        \n",
    "print(ausgabe)"
   ]
  },
  {
   "cell_type": "markdown",
   "metadata": {},
   "source": [
    "## Aufgabe 4: Texte sortieren\n",
    "Ermitteln Sie die alphabetische Reihenfolge von zwei Texten. Gehen Sie davon aus, dass die Texte jeweils mit einem Großbuchstaben beginnen. Es soll nur das erste Zeichen für den Vergleich verwendet werden.\n",
    "\n",
    "**Beispiel**:\n",
    "- Text1: „Hochschule München“\n",
    "- Text2: „Grundlagen Informatik“\n",
    "- Ausgabe: „Grundlagen Informatik vor Hochschule München“\n",
    "\n"
   ]
  },
  {
   "cell_type": "code",
   "execution_count": 5,
   "metadata": {},
   "outputs": [
    {
     "name": "stdout",
     "output_type": "stream",
     "text": [
      "Bitte Text 1 eingeben: Hallo\n",
      "Bitte Text 2 eingeben: Welt\n",
      "Hallo vor Welt\n"
     ]
    }
   ],
   "source": [
    "text1 = input(\"Bitte Text 1 eingeben: \")\n",
    "text2 = input(\"Bitte Text 2 eingeben: \")\n",
    "\n",
    "reihenfolge = [\"A\", \"B\", \"C\", \"D\", \"E\", \"F\",\n",
    "               \"G\", \"H\", \"I\", \"J\", \"K\", \"L\",\n",
    "               \"M\", \"N\", \"O\", \"P\", \"Q\", \"R\",\n",
    "               \"S\", \"T\", \"U\", \"V\", \"W\", \"X\",\n",
    "               \"Y\", \"Z\"]\n",
    "\n",
    "def get_index(buchstabe):\n",
    "    index = -1\n",
    "    for i in range(len(reihenfolge)):\n",
    "        if reihenfolge[i] == buchstabe:\n",
    "            index = i\n",
    "            break\n",
    "    return index\n",
    "\n",
    "if get_index(text1[0]) < get_index(text2[0]):\n",
    "    print(text1, \"vor\", text2)\n",
    "elif (get_index(text1[0]) > get_index(text2[0])):\n",
    "    print(text2, \"vor\", text1)\n",
    "else:\n",
    "    print(\"Über die Reihenfolge beider Texte kann keine Entscheidung gefällt werden.\")"
   ]
  },
  {
   "cell_type": "markdown",
   "metadata": {},
   "source": [
    "### Alternative via ASCII codes\n",
    "\n",
    "Die folgende Alternative Lösungsmöglichkeit nutzt die Codierung als ASCII Textzeichen. Hierbei wird einfach jedes Zeichen in den entsprechenden ASCII Code übersetzt (unter Nutzung der Python Funktion <code>ord()</code>) und dann die Zahlenwerte miteinander verglichen. Dadurch ist es nicht notwendig zuvor Listen für irgendwelche Reihenfolgen zu definieren. Des Weiteren ist diese Form des Vergleichs für alle Textzeichen und nicht nur für Großbuchstaben definiert."
   ]
  },
  {
   "cell_type": "code",
   "execution_count": 6,
   "metadata": {},
   "outputs": [
    {
     "name": "stdout",
     "output_type": "stream",
     "text": [
      "Bitte Text 1 eingeben: Hallo\n",
      "Bitte Text 2 eingeben: Welt\n",
      "Hallo vor Welt\n"
     ]
    }
   ],
   "source": [
    "text1 = input(\"Bitte Text 1 eingeben: \")\n",
    "text2 = input(\"Bitte Text 2 eingeben: \")\n",
    "\n",
    "if ord(text1[0]) < ord(text2[0]):\n",
    "    print(text1, \"vor\", text2)\n",
    "elif (ord(text1[0]) > ord(text2[0])):\n",
    "    print(text2, \"vor\", text1)\n",
    "else:\n",
    "    print(\"Über die Reihenfolge beider Texte kann keine Entscheidung gefällt werden.\")"
   ]
  },
  {
   "cell_type": "markdown",
   "metadata": {},
   "source": [
    "**Zusatzfrage 1**: Was würde sich ändern, wenn das erste Zeichen auch ein Kleinbuchstabe sein könnte?"
   ]
  },
  {
   "cell_type": "markdown",
   "metadata": {},
   "source": [
    "**Antwort**\n",
    "Wenn die Alternative via ASCII codes genutzt wird, dann gar nichts, denn auch für Kleinbuchstaben sind die ASCII codes definiert."
   ]
  },
  {
   "cell_type": "markdown",
   "metadata": {},
   "source": [
    "**Zusatzfrage 2**: Was würde sich ändern, wenn das erste Zeichen beliebig sein könnte?"
   ]
  },
  {
   "cell_type": "markdown",
   "metadata": {},
   "source": [
    "**Antwort**: Erneut, wenn die Alternative mit den ASCII codes (<code>ord()</code>) genutzt wird, würde sich nichts ändern. Die Reihenfolge der Zeichen ist dort klar definiert und somit eine Ordnung gegeben."
   ]
  },
  {
   "cell_type": "markdown",
   "metadata": {},
   "source": [
    "**Zusatzfrage 3**: Was würde sich ändern, wenn man zum Vergleich auch das zweite Zeichen verwenden würde?\n",
    "\n",
    "**Lösung**\n",
    "In diesem Fall muss der Vergleich entsprechend fortgesetzt werden. "
   ]
  },
  {
   "cell_type": "code",
   "execution_count": 7,
   "metadata": {},
   "outputs": [
    {
     "name": "stdout",
     "output_type": "stream",
     "text": [
      "Bitte Text 1 eingeben: Hallo\n",
      "Bitte Text 2 eingeben: Hello\n",
      "Hallo vor Hello\n"
     ]
    }
   ],
   "source": [
    "text1 = input(\"Bitte Text 1 eingeben: \")\n",
    "text2 = input(\"Bitte Text 2 eingeben: \")\n",
    "\n",
    "if ord(text1[0]) < ord(text2[0]):\n",
    "    print(text1, \"vor\", text2)\n",
    "elif (ord(text1[0]) > ord(text2[0])):\n",
    "    print(text2, \"vor\", text1)\n",
    "elif ord(text1[1]) < ord(text2[1]):\n",
    "    print(text1, \"vor\", text2)\n",
    "elif (ord(text1[1]) > ord(text2[1])):\n",
    "    print(text2, \"vor\", text1)\n",
    "else:\n",
    "    print(\"Über die Reihenfolge beider Texte kann keine Entscheidung gefällt werden.\")"
   ]
  },
  {
   "cell_type": "markdown",
   "metadata": {},
   "source": [
    "## Aufgabe 5: IP-Adressen auswerten\n",
    "Eine IP Adresse soll auf Gültigkeit geprüft werden. Gehen Sie davon aus, dass die IP-Adresse jeweils 3-stellig angegeben ist. Jedes Element einer IP-Adresse muss im Wertebereich 0 bis 255 liegen.\n",
    "\n",
    "**Beispiele**:\n",
    "- „129.187.244.212“\n",
    "- „192.168.000.001“\n",
    "\n",
    "**Antwort**\n",
    "\n",
    "Es werden 4-mal 3-er Tupel betrachtet, die dann jeweils ausgeschnitten werden (via Listenfunktionalität) und in einen Integer konvertiert werden. Ist dieser Integer dann kleiner-gleich 255 und größer als 0, so liegt eine valide IP Adresse vor. Ansonsten eben nicht."
   ]
  },
  {
   "cell_type": "code",
   "execution_count": 12,
   "metadata": {},
   "outputs": [
    {
     "name": "stdout",
     "output_type": "stream",
     "text": [
      "Bitte geben Sie eine IP Adresse ein: 123.123.123.123\n",
      "Die eingegebene IP Adresse ist gültig.\n"
     ]
    }
   ],
   "source": [
    "ip_input = input(\"Bitte geben Sie eine IP Adresse ein: \")\n",
    "\n",
    "isValid = True\n",
    "for i in range(4):\n",
    "    zahl = int(ip_input[4*i:4*i+3])\n",
    "    if (zahl < 0) or (zahl > 255):\n",
    "        isValid = False\n",
    "\n",
    "if isValid:\n",
    "    print(\"Die eingegebene IP Adresse ist gültig.\")\n",
    "else:\n",
    "    print(\"Die eingegebene IP Adresse ist nicht gültig.\")"
   ]
  },
  {
   "cell_type": "markdown",
   "metadata": {},
   "source": [
    "**Zusatzfrage**: Was würde sich ändern, wenn die einzelnen Elemente der IP-Adresse ohne Formatierung angegeben wären, also „192.168.0.1“?\n",
    "\n",
    "**Antwort**\n",
    "\n",
    "In diesem Fall müsste man die Punkte suchen und dann den String entsprechend zurechtschneiden bevor man in Integer umwandelt. Zum Aufspalten eines String bzgl. eines Zeichens wird die Funktion <code>spit()</code> genutzt. Diese liefert eine Liste der einzelnen Bestandteile."
   ]
  },
  {
   "cell_type": "code",
   "execution_count": 2,
   "metadata": {},
   "outputs": [
    {
     "name": "stdout",
     "output_type": "stream",
     "text": [
      "Bitte geben Sie eine IP Adresse ein: 123.23.23.34\n",
      "Die temporäre Liste ist:  ['123', '23', '23', '34']\n",
      "Die eingegebene IP Adresse ist gültig.\n"
     ]
    }
   ],
   "source": [
    "ip_input = input(\"Bitte geben Sie eine IP Adresse ein: \")\n",
    "\n",
    "inputList = ip_input.split('.')\n",
    "print(\"Die temporäre Liste ist: \", inputList)\n",
    "\n",
    "isValid = True\n",
    "for i in range(4):\n",
    "    zahl = int(inputList[i])\n",
    "    if (zahl < 0) or (zahl > 255):\n",
    "        isValid = False\n",
    "\n",
    "if isValid:\n",
    "    print(\"Die eingegebene IP Adresse ist gültig.\")\n",
    "else:\n",
    "    print(\"Die eingegebene IP Adresse ist nicht gültig.\")"
   ]
  },
  {
   "cell_type": "markdown",
   "metadata": {},
   "source": [
    "## Aufgabe 6: URL zerlegen\n",
    "Eine URL soll in seine Bestandteile zerlegt werden:\n",
    "- Protokoll\n",
    "- Host\n",
    "- Pfad\n",
    "Die Bestandteile sollen einzeln ausgegeben werden.\n",
    "\n",
    "**Hinweis**: unterteilen Sie die Aufgabe in zwei Teilaufgaben: Ermitteln Sie zuerst die Position der Trennzeichen „/“ zwischen den Bestandteilen. Achtung: der Pfad kann auch „/“ enthalten, dies sind aber dann keine Trennzeichen mehr (siehe Beispiel)! Wenn Sie die Positionen haben, dann sollte das Aufspalten in die Bestandteile kein Problem mehr sein.\n",
    "\n",
    "- Beispiel: „http://www.hm.edu/home/fhm/d_welcome.pcms“\n",
    "- Protokoll: http\n",
    "- Host: www.hm.edu\n",
    "- Pfad: home/fhm/d_welcome.pcms\n",
    "\n",
    "**Lösung**\n",
    "In der ersten Lösung soll diese Aufgabe erneut dadurch gelöst werden, dass Zeichenvergleiche genutzt werden, um die einzelnen Elemente voneinander zu trennen. \n",
    "Es wird eine Liste **pos** generiert, die drei Elemente beinhaltet. Es wird dann stets nach den ersten 3 Instanzen von \"/\" gesucht. Das Ausschneiden der Teilantworten erfogt dann mit Hilfe der Index-Positionen 0, 1, 2, 3."
   ]
  },
  {
   "cell_type": "code",
   "execution_count": 5,
   "metadata": {},
   "outputs": [
    {
     "name": "stdout",
     "output_type": "stream",
     "text": [
      "Bitte eine URL eingeben: http://www.hm.edu/home/fhm/d_welcome.pcms\n",
      "Protokoll:  http\n",
      "Host:       www.hm.edu\n",
      "Pfad:       home/fhm/d_welcome.pcms\n"
     ]
    }
   ],
   "source": [
    "url_input = input(\"Bitte eine URL eingeben: \")\n",
    "\n",
    "\n",
    "# ermittle die Position der ersten drei \"/\"\n",
    "pos = [0, 0, 0]\n",
    "idx = 0\n",
    "for i in range(len(url_input)):\n",
    "    if url_input[i] == \"/\":\n",
    "        pos[idx] = i\n",
    "        idx += 1\n",
    "    if idx > 2:\n",
    "        break\n",
    "\n",
    "# trenne die URL in ihre Bestandteile auf\n",
    "proto = url_input[          :(pos[0]-1)]\n",
    "host  = url_input[(pos[1]+1):    pos[2]]\n",
    "path  = url_input[(pos[2]+1):          ]\n",
    "\n",
    "print(\"Protokoll: \", proto)\n",
    "print(\"Host:      \",  host)\n",
    "print(\"Pfad:      \",  path)"
   ]
  },
  {
   "cell_type": "markdown",
   "metadata": {},
   "source": [
    "**Alternative**\n",
    "In dieser Alternative wird erneut die Funktion <code>split()</code> genutzt. Zunächst wird an Hand des \"//\" Zeichens ausgeschnitten und danach an Hand des ersten \"/\". Die Zeichenketten lassen sich so noch schneller extrahieren."
   ]
  },
  {
   "cell_type": "code",
   "execution_count": 6,
   "metadata": {},
   "outputs": [
    {
     "name": "stdout",
     "output_type": "stream",
     "text": [
      "Bitte eine URL eingeben: http://www.hm.edu/home/fhm/d_welcome.pcms\n",
      "Protokoll:  http\n",
      "Host:       www.hm.edu\n",
      "Pfad:       home/fhm/d_welcome.pcms\n"
     ]
    }
   ],
   "source": [
    "url_input = input(\"Bitte eine URL eingeben: \")\n",
    "\n",
    "\n",
    "tempList = url_input.split(\"//\")\n",
    "proto = tempList[0]\n",
    "tempList = tempList[1].split(\"/\", 1)\n",
    "host = tempList[0]\n",
    "path = tempList[1]\n",
    "\n",
    "# trenne die URL in ihre Bestandteile auf\n",
    "proto = url_input[          :(pos[0]-1)]\n",
    "host  = url_input[(pos[1]+1):    pos[2]]\n",
    "path  = url_input[(pos[2]+1):          ]\n",
    "\n",
    "print(\"Protokoll: \", proto)\n",
    "print(\"Host:      \",  host)\n",
    "print(\"Pfad:      \",  path)"
   ]
  }
 ],
 "metadata": {
  "kernelspec": {
   "display_name": "Python 3",
   "language": "python",
   "name": "python3"
  },
  "language_info": {
   "codemirror_mode": {
    "name": "ipython",
    "version": 3
   },
   "file_extension": ".py",
   "mimetype": "text/x-python",
   "name": "python",
   "nbconvert_exporter": "python",
   "pygments_lexer": "ipython3",
   "version": "3.8.3"
  }
 },
 "nbformat": 4,
 "nbformat_minor": 4
}
