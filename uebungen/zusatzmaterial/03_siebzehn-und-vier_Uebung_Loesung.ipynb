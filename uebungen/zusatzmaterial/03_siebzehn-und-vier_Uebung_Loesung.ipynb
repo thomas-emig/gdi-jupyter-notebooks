{
 "cells": [
  {
   "cell_type": "markdown",
   "metadata": {},
   "source": [
    "# Lösung: Das Spiel „17 und 4“\n",
    "Die Aufgaben auf diesem Übungsblatt sind als Lernkontrollen für die folgenden Themen gedacht:\n",
    "- Einsatz von Zufallszahlen\n",
    "- Einsatz von Listen\n",
    "- Einsatz von Schleifen\n",
    "\n",
    "## 17 und 4 - banal\n",
    "Es soll ein Programm für eine vereinfachte Variante eines „17+4“ Spiels erstellt werden. Als Karten stehen die Werte von 1...9 zur Verfügung. Eine Karte wird per Zufallszahl gezogen.\n",
    "\n",
    "**Das Spiel**: es sollen solange Karten gezogen werden, bis die Summe aller gezogenen Karten größer oder gleich 21 ist. Der Summe aller gezogenen Karten sowie die Anzahl der Karten soll ausgegeben werden.\n",
    "\n",
    "**Lösung**\n",
    "Es werden die Anzahl der Ziehungen und die Summe definiert und diese bei jeder Ziehung entsprechend erhöht. Erreicht oder überschreitet die Summe 21 wird abgebrochen und die beiden Zahlen ausgegeben."
   ]
  },
  {
   "cell_type": "code",
   "execution_count": 1,
   "metadata": {},
   "outputs": [
    {
     "name": "stdout",
     "output_type": "stream",
     "text": [
      "Es wurde die Summe  27  mit  4  Zügen erreicht.\n"
     ]
    }
   ],
   "source": [
    "import random\n",
    "\n",
    "summe = 0\n",
    "anzahl = 0\n",
    "while summe < 21:\n",
    "    summe += random.randint(1, 9)\n",
    "    anzahl += 1\n",
    "    \n",
    "print(\"Es wurde die Summe \", summe, \" mit \", anzahl, \" Zügen erreicht.\")\n",
    "print(\"Es wurde die Summe \" + str(summe) + \" mit \" + str(anzahl) + \" Zügen erreicht.\")"
   ]
  },
  {
   "cell_type": "markdown",
   "metadata": {},
   "source": [
    "## 17 und 4 – etwas besser\n",
    "Es soll ein Programm für eine etwas bessere Variante eines „17+4“ Spiels erstellt werden. Eine Karte wird per Zufallszahl gezogen. Folgende „echte“ Karten stehen zur Verfügung:\n",
    "\n",
    "| Karte | 7 | 8 | 9 | 10 | Bube | Dame | König | As |\n",
    "|-------|---|---|---|----|------|------|-------|----|\n",
    "| Wert  | 7 | 8 | 9 | 10 | 2    | 3    | 4     | 11 |\n",
    "\n",
    "**Das Spiel**: es sollen solange Karten gezogen werden, bis die Summe aller gezogenen Karten größer oder gleich 21 ist oder bereits 15 Karten gezogen wurden. In einer zweidimensionalen Liste sollen pro Zug die folgenden Informationen ausgegeben werden:\n",
    "- Die Zahl der gezogenen Karten (1, 2, 3)\n",
    "- Der Gesamtwert der bisher gezogenen Karten\n",
    "- Der Name der Karte, die gerade gezogen wurde\n",
    "\n",
    "Ein Ergebnis könnte wie Folgt aussehen:\n",
    "\n",
    "<pre>[[      1,   2,      3,      4,       5,    6,  0,  0,  0,  0,  0,  0,  0,  0,  0],  # Anzahl Karten\n",
    " [      4,  11,     14,     16,      20,   30,  0,  0,  0,  0,  0,  0,  0,  0,  0],  # Summe\n",
    " [\"König\", \"7\", \"Dame\", \"Bube\", \"König\", \"10\", \"\", \"\", \"\", \"\", \"\", \"\", \"\", \"\", \"\"]   # Blatt\n",
    "]</pre>\n",
    "\n",
    "**Hinweis**:\n",
    "- Initialisieren Sie die Liste für das Ergebnis mit <code>ergebnis = [[0 for i in range(15)] for k in range(3)]</code>\n",
    "- Vergessen Sie nicht die Elemente in der dritten Zeile in den Typ String umzuwandeln\n",
    "\n",
    "**Lösung**\n",
    "Die Lösung erfolgt in mehreren Schritten:\n",
    "- Zunächst wird die 3-dimensionale List erstellt, die die Ergebnisse halten wird\n",
    "- danach werden 2 Listen (karten, Werte) definiert, die die möglichen Karten als strings (Karten) und die zugehörgigen Werte (Werte) speichern\n",
    "- der Trick liegt darin, dass man per Zufall nur den Index in diesen beiden Listen bestimmt (beide Listen: Karten und Werte haben genau 8 Werte also Indizes zwischen 0 und 7)\n",
    "- danach wird die Summe auf 0 gesetzt wie auch die Anzahl der Ziehungen\n",
    "- danach wird gezogen, solange die Summe kleiner 21 ist\n",
    "- für jede Ziehung wird ein Zufallswert zwischen 0 und 7 ermittelt und das Ergebnis (der Index) als Ziehung gespeichert und der Wert der Ziehung zur Summe addiert (mittels der Liste Werte und des Ziehungs-Indexes)\n",
    "- Im Anschluss werden die Ergebnislisten entsprechend des Index der Ziehung (startet bei 0) festgehalten."
   ]
  },
  {
   "cell_type": "code",
   "execution_count": 5,
   "metadata": {},
   "outputs": [
    {
     "name": "stdout",
     "output_type": "stream",
     "text": [
      "Ergebnis:\n",
      "[1, 2, 3, 4, 0, 0, 0, 0, 0, 0, 0, 0, 0, 0, 0]\n",
      "[7, 15, 19, 21, 0, 0, 0, 0, 0, 0, 0, 0, 0, 0, 0]\n",
      "['7', '8', 'König', 'Bube', 0, 0, 0, 0, 0, 0, 0, 0, 0, 0, 0]\n"
     ]
    }
   ],
   "source": [
    "import random\n",
    "\n",
    "ergebnis = [[0 for i in range(15)] for k in range(3)]\n",
    "\n",
    "karten = [\"7\", \"8\", \"9\", \"10\", \"Bube\", \"Dame\", \"König\", \"As\"] # Namen für Karten\n",
    "werte  = [  7,   8,   9,   10,      2,      3,       4,   11] # Werte für Karten\n",
    "\n",
    "summe = 0\n",
    "anzahl = 0\n",
    "while summe < 21:\n",
    "    ziehung = random.randint(0, len(karten) - 1)\n",
    "    summe += werte[ziehung]\n",
    "    \n",
    "    # gezogene Karte in Ergebnistabelle speichern\n",
    "    ergebnis[0][anzahl] = anzahl + 1\n",
    "    ergebnis[1][anzahl] = summe\n",
    "    ergebnis[2][anzahl] = karten[ziehung]\n",
    "    \n",
    "    anzahl += 1\n",
    "\n",
    "print(\"Ergebnis:\")\n",
    "for zeile in ergebnis:\n",
    "    print(zeile)"
   ]
  },
  {
   "cell_type": "markdown",
   "metadata": {},
   "source": [
    "## Reihenberechnung\n",
    "Erstellen Sie eine Python Zelle, die für jede der 3 gegebenen Zahlen n jeweils die Reihe s = 1 + 2 + ... + n berechnet.\n",
    "\n",
    "Die Zwischenergebnisse der Berechnung sowie das Endergebnis der Reihenberechnung s sollen dabei in eine zweidimensionale Liste geschrieben werden. Die Endergebnisse für s in die erste Spalte und die Zwischenergebnisse in die restlichen Spalten dahinter. Die gegebenen Werte für n sind dabei nie größer als 19.\n",
    "\n",
    "Beispiel für ein gegebenes <code>n = [5, 3, 6]</code>:\n",
    "\n",
    "<pre>[[15, 1, 3, 6, 10, 15,  0, 0, 0, 0, 0, 0, 0, 0, 0, 0, 0, 0, 0, 0],\n",
    " [6,  1, 3, 6,  0,  0,  0, 0, 0, 0, 0, 0, 0, 0, 0, 0, 0, 0, 0, 0],\n",
    " [21, 1, 3, 6, 10, 15, 21, 0, 0, 0, 0, 0, 0, 0, 0, 0, 0, 0, 0, 0]\n",
    "]</pre>\n",
    "\n",
    "**Lösung**\n",
    "Das Problem besteht also aus den Zahlenreihungen, die sich stets wie folgt ergeben:\n",
    "- 1\n",
    "- 1+2=3\n",
    "- 1+2+3=6\n",
    "- 1+2+3+4=10\n",
    "- 1+2+3+4+5=15\n",
    "- 1+2+3+4+5+6=21 usw.\n",
    "\n",
    "Die zweite Spalte (mit Index 1) enhält die erste Zahl (die 1), die dritte Spalte (Index 2) enthält die zweite Zahl (die 3) etc. Die erste Spalte (Index 0) enthält die Summe, die auch stets in der letzten Spalte mit einem Wert ungleich 0 steht.\n",
    "\n",
    "Das Problem wird gelöst, indem:\n",
    "- zuerst das Maximum der gegebenen 3 Zahlen ermittelt wird, um so die Anzahl der Spalten in der 2-dimensionalen Ergebnisliste zu bestimmen.\n",
    "- Danach wird die Ergebnisliste erstellt\n",
    "- danach wird für jede Zahl in der Liste n ein die Sequenz erzeugt und in die zugehörige Zeile geschrieben. Des Weiteren wird die Summe in Spalte 0 geschrieben."
   ]
  },
  {
   "cell_type": "code",
   "execution_count": 6,
   "metadata": {},
   "outputs": [
    {
     "name": "stdout",
     "output_type": "stream",
     "text": [
      "[15, 1, 3, 6, 10, 15, 0]\n",
      "[6, 1, 3, 6, 0, 0, 0]\n",
      "[21, 1, 3, 6, 10, 15, 21]\n"
     ]
    }
   ],
   "source": [
    "\n",
    "n = [5, 3, 6]\n",
    "\n",
    "# maximum ermitteln\n",
    "nmax = 0\n",
    "for zahl in n:\n",
    "    if zahl > nmax:\n",
    "        nmax = zahl\n",
    "\n",
    "ergebnis = [[0 for i in range(nmax + 1)] for j in range(len(n))]\n",
    "\n",
    "# summen berechnen\n",
    "zeilenindex = 0\n",
    "for zahl in n:\n",
    "    \n",
    "    summe = 0\n",
    "    for i in range(1, zahl + 1):\n",
    "        summe += i\n",
    "        ergebnis[zeilenindex][i] = summe\n",
    "    ergebnis[zeilenindex][0] = summe\n",
    "    \n",
    "    zeilenindex += 1\n",
    "\n",
    "for zeile in ergebnis:\n",
    "    print(zeile)"
   ]
  },
  {
   "cell_type": "code",
   "execution_count": null,
   "metadata": {},
   "outputs": [],
   "source": []
  }
 ],
 "metadata": {
  "kernelspec": {
   "display_name": "Python 3",
   "language": "python",
   "name": "python3"
  },
  "language_info": {
   "codemirror_mode": {
    "name": "ipython",
    "version": 3
   },
   "file_extension": ".py",
   "mimetype": "text/x-python",
   "name": "python",
   "nbconvert_exporter": "python",
   "pygments_lexer": "ipython3",
   "version": "3.8.3"
  }
 },
 "nbformat": 4,
 "nbformat_minor": 4
}
