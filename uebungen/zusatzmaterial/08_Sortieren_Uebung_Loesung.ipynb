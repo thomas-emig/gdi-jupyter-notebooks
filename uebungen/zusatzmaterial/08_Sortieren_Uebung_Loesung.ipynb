{
 "cells": [
  {
   "cell_type": "markdown",
   "metadata": {},
   "source": [
    "# Lösung Sortieren\n",
    "\n",
    "Die Aufgaben auf diesem Übungsblatt dienen der vertieften Übung zur Anwendung von Sortierungsalgorithmen.\n",
    "\n",
    "## Ausgangssituation\n",
    "\n",
    "Gegeben ist eine Python Liste <code>angabe</code>, in der eine Reihe an Zahlen gespeichert sind, die sortiert werden sollen."
   ]
  },
  {
   "cell_type": "code",
   "execution_count": null,
   "metadata": {},
   "outputs": [],
   "source": [
    "angabe = [19, 96, 30, 11, 73, 2, 99, 72, 69, 73]"
   ]
  },
  {
   "cell_type": "markdown",
   "metadata": {},
   "source": [
    "## Lösung Aufgabe 1 – Bubble Sort\n",
    "\n",
    "Erstellen Sie eine Python Zelle, die die Werte in der gegebenen Liste sortiert. Verwenden Sie dazu das angegebene Nassi-Shneidermann-Diagramm.\n",
    "\n",
    "![BubbleSort 1](../bilder/bubblesort_1.png)"
   ]
  },
  {
   "cell_type": "code",
   "execution_count": 1,
   "metadata": {},
   "outputs": [
    {
     "name": "stdout",
     "output_type": "stream",
     "text": [
      "[2, 11, 19, 30, 69, 72, 73, 73, 96, 99]\n"
     ]
    }
   ],
   "source": [
    "angabe = [19, 96, 30, 11, 73, 2, 99, 72, 69, 73]\n",
    "\n",
    "# hier algorithmus implementieren\n",
    "n = len(angabe)\n",
    "for i in range(n - 1):\n",
    "    for j in range(i, n):\n",
    "        if angabe[i] > angabe[j]:\n",
    "            buffer = angabe[i]\n",
    "            angabe[i] = angabe[j]\n",
    "            angabe[j] = buffer\n",
    "\n",
    "# ergebnis ausgeben\n",
    "print(angabe)"
   ]
  },
  {
   "cell_type": "markdown",
   "metadata": {},
   "source": [
    "**Lösung Zusatzaufgabe (für geübte)**:\n",
    "\n",
    "Erstellen Sie für das Sortieren der Liste eine eigene Funktion. Überlegen Sie, wie Sie hier mit der „unbekannten“ Größe der Liste umgehen können. Tipp: die Funktion <code>len()</code>."
   ]
  },
  {
   "cell_type": "code",
   "execution_count": 2,
   "metadata": {},
   "outputs": [
    {
     "name": "stdout",
     "output_type": "stream",
     "text": [
      "[2, 11, 19, 30, 69, 72, 73, 73, 96, 99]\n"
     ]
    }
   ],
   "source": [
    "def my_bubblesort(liste):\n",
    "    n = len(liste)\n",
    "    for i in range(n - 1):\n",
    "        for j in range(i, n):\n",
    "            if liste[i] > liste[j]:\n",
    "                buffer = liste[i]\n",
    "                liste[i] = liste[j]\n",
    "                liste[j] = buffer\n",
    "    return liste\n",
    "\n",
    "angabe = [19, 96, 30, 11, 73, 2, 99, 72, 69, 73]\n",
    "\n",
    "# hier algorithmus implementieren\n",
    "angabe = my_bubblesort(angabe)\n",
    "\n",
    "# ergebnis ausgeben\n",
    "print(angabe)"
   ]
  },
  {
   "cell_type": "markdown",
   "metadata": {},
   "source": [
    "## Lösung Aufgabe 2 – Bubble Sort mit Details\n",
    "\n",
    "Nun soll der Fortgang der Sortierung Schritt für Schritt ausgegeben werden. Weiterhin sollen Algorithmen für alternative Sortierungsverfahren entwickelt werden.\n",
    "\n",
    "### Ausgabe der Details\n",
    "\n",
    "Nach jedem Durchgang, also nach Beendigung der inneren Schleife, soll der Inhalt der Liste ausgegeben werden."
   ]
  },
  {
   "cell_type": "code",
   "execution_count": 3,
   "metadata": {},
   "outputs": [
    {
     "name": "stdout",
     "output_type": "stream",
     "text": [
      "[19, 96, 30, 11, 73, 2, 99, 72, 69, 73]\n",
      "[2, 96, 30, 19, 73, 11, 99, 72, 69, 73]\n",
      "[2, 11, 96, 30, 73, 19, 99, 72, 69, 73]\n",
      "[2, 11, 19, 96, 73, 30, 99, 72, 69, 73]\n",
      "[2, 11, 19, 30, 96, 73, 99, 72, 69, 73]\n",
      "[2, 11, 19, 30, 69, 96, 99, 73, 72, 73]\n",
      "[2, 11, 19, 30, 69, 72, 99, 96, 73, 73]\n",
      "[2, 11, 19, 30, 69, 72, 73, 99, 96, 73]\n",
      "[2, 11, 19, 30, 69, 72, 73, 73, 99, 96]\n",
      "[2, 11, 19, 30, 69, 72, 73, 73, 96, 99]\n",
      "[2, 11, 19, 30, 69, 72, 73, 73, 96, 99]\n"
     ]
    }
   ],
   "source": [
    "# hier lösung von oben kopieren und verändern\n",
    "angabe = [19, 96, 30, 11, 73, 2, 99, 72, 69, 73]\n",
    "print(angabe)\n",
    "\n",
    "# hier algorithmus implementieren\n",
    "n = len(angabe)\n",
    "for i in range(n - 1):\n",
    "    for j in range(i, n):\n",
    "        if angabe[i] > angabe[j]:\n",
    "            buffer = angabe[i]\n",
    "            angabe[i] = angabe[j]\n",
    "            angabe[j] = buffer\n",
    "    print(angabe)\n",
    "\n",
    "# ergebnis ausgeben\n",
    "print(angabe)"
   ]
  },
  {
   "cell_type": "markdown",
   "metadata": {},
   "source": [
    "### Lösung Auf- und Absteigend\n",
    "\n",
    "Kopieren Sie die Lösung von oben und verändern Sie diese, so dass das Feld absteigend sortiert wird. **Hinweis**: es muss nur in einer einzigen Zeile etwas verändert werden!"
   ]
  },
  {
   "cell_type": "code",
   "execution_count": 4,
   "metadata": {},
   "outputs": [
    {
     "name": "stdout",
     "output_type": "stream",
     "text": [
      "[19, 96, 30, 11, 73, 2, 99, 72, 69, 73]\n",
      "[99, 19, 30, 11, 73, 2, 96, 72, 69, 73]\n",
      "[99, 96, 19, 11, 30, 2, 73, 72, 69, 73]\n",
      "[99, 96, 73, 11, 19, 2, 30, 72, 69, 73]\n",
      "[99, 96, 73, 73, 11, 2, 19, 30, 69, 72]\n",
      "[99, 96, 73, 73, 72, 2, 11, 19, 30, 69]\n",
      "[99, 96, 73, 73, 72, 69, 2, 11, 19, 30]\n",
      "[99, 96, 73, 73, 72, 69, 30, 2, 11, 19]\n",
      "[99, 96, 73, 73, 72, 69, 30, 19, 2, 11]\n",
      "[99, 96, 73, 73, 72, 69, 30, 19, 11, 2]\n",
      "[99, 96, 73, 73, 72, 69, 30, 19, 11, 2]\n"
     ]
    }
   ],
   "source": [
    "# hier lösung von oben kopieren und verändern\n",
    "angabe = [19, 96, 30, 11, 73, 2, 99, 72, 69, 73]\n",
    "print(angabe)\n",
    "\n",
    "# hier algorithmus implementieren\n",
    "n = len(angabe)\n",
    "for i in range(n - 1):\n",
    "    for j in range(i, n):\n",
    "        if angabe[i] < angabe[j]: #hier ist die Veränderung\n",
    "            buffer = angabe[i]\n",
    "            angabe[i] = angabe[j]\n",
    "            angabe[j] = buffer\n",
    "    print(angabe)\n",
    "\n",
    "# ergebnis ausgeben\n",
    "print(angabe)"
   ]
  },
  {
   "cell_type": "markdown",
   "metadata": {},
   "source": [
    "### Von hinten nach vorne\n",
    "\n",
    "Kopieren Sie die Lösung von oben und verändern Sie diese, so dass das Feld nach dem unten stehenden Algorithmus sortiert wird.\n",
    "\n",
    "![BubbleSort 2](../bilder/bubblesort_2.png)\n",
    "\n",
    "Vergleichen Sie die Ergebnisse der drei Lösungen."
   ]
  },
  {
   "cell_type": "code",
   "execution_count": 6,
   "metadata": {},
   "outputs": [
    {
     "name": "stdout",
     "output_type": "stream",
     "text": [
      "[19, 96, 30, 11, 73, 2, 99, 72, 69, 73]\n",
      "[19, 30, 11, 73, 2, 96, 72, 69, 73, 99]\n",
      "[19, 11, 30, 2, 73, 72, 69, 73, 96, 99]\n",
      "[11, 19, 2, 30, 72, 69, 73, 73, 96, 99]\n",
      "[11, 2, 19, 30, 69, 72, 73, 73, 96, 99]\n",
      "[2, 11, 19, 30, 69, 72, 73, 73, 96, 99]\n",
      "[2, 11, 19, 30, 69, 72, 73, 73, 96, 99]\n",
      "[2, 11, 19, 30, 69, 72, 73, 73, 96, 99]\n",
      "[2, 11, 19, 30, 69, 72, 73, 73, 96, 99]\n",
      "[2, 11, 19, 30, 69, 72, 73, 73, 96, 99]\n",
      "[2, 11, 19, 30, 69, 72, 73, 73, 96, 99]\n",
      "[2, 11, 19, 30, 69, 72, 73, 73, 96, 99]\n"
     ]
    }
   ],
   "source": [
    "# hier lösung von oben kopieren und verändern\n",
    "angabe = [19, 96, 30, 11, 73, 2, 99, 72, 69, 73]\n",
    "print(angabe)\n",
    "\n",
    "# hier algorithmus implementieren\n",
    "n = len(angabe)\n",
    "for i in range(n - 1, -1, -1):\n",
    "    for j in range(n - 1):\n",
    "        if angabe[j] > angabe[j + 1]:\n",
    "            buffer        = angabe[j]\n",
    "            angabe[j]     = angabe[j + 1]\n",
    "            angabe[j + 1] = buffer\n",
    "    print(angabe)\n",
    "\n",
    "# ergebnis ausgeben\n",
    "print(angabe)"
   ]
  },
  {
   "cell_type": "markdown",
   "metadata": {},
   "source": [
    "### Vergleich\n",
    "\n",
    "Die erste Version sortiert in der Hinsicht, dass mit jeder Iteration die nächstkleinsten Werte an den Anfang der noch unsortierten Liste verschoben werden. Die Sortierung baut sich also von vorne nach hinten auf.\n",
    "\n",
    "Die zweite Version (absteigend) sortiert sehr ähnlich, so dass in diesem Fall die jeweils größten Elemente der noch unsortierten Liste an den Anfang verschoben werden.\n",
    "\n",
    "Die dritte Version (aufsteigend) arbeitet in der Hinsicht, dass mit jeder Iteration das größte Element der noch unsortierten Liste an das Ende der Liste verschoben wird."
   ]
  }
 ],
 "metadata": {
  "kernelspec": {
   "display_name": "Python 3",
   "language": "python",
   "name": "python3"
  },
  "language_info": {
   "codemirror_mode": {
    "name": "ipython",
    "version": 3
   },
   "file_extension": ".py",
   "mimetype": "text/x-python",
   "name": "python",
   "nbconvert_exporter": "python",
   "pygments_lexer": "ipython3",
   "version": "3.8.3"
  }
 },
 "nbformat": 4,
 "nbformat_minor": 2
}
