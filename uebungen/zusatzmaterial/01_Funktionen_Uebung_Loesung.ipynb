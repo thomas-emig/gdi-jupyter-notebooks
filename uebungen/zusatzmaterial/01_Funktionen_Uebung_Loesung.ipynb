{
 "cells": [
  {
   "cell_type": "markdown",
   "metadata": {},
   "source": [
    "# Lösung zur Übung Funktionen\n",
    "Die Aufgaben auf diesem Übungsblatt sind als Lernkontrollen für die folgenden Themen gedacht:\n",
    "- Programmierung einer Funktion (Name, Parameter, Rückgabewert)\n",
    "- Einsatz von Verzweigungen\n",
    "- Entwicklung und Umsetzung logischer Ausdrücke\n",
    "\n",
    "## Lösung Aufgabe 1: Flächenberechnung\n",
    "Erstellen Sie eine Funktion, die die Fläche eines Kreisrings berechnet. Die Funktion soll nur dann den Flächenwert berechnen, wenn alle folgende Bedingungen erfüllt sind: r>0, d>0, r>d. Kann der Flächenwert nicht berechnet werden, soll die Funktion den Wert -1 zurückgeben.\n",
    "\n",
    "![Kreisring](../bilder/kreisring.png)\n",
    "\n",
    "**Hinweis**: Verwenden Sie die Konstante für π, die von der Bibliothek <code>math</code> zur Verfügung gestellt wird (https://docs.python.org/3/library/math.html).\n",
    "\n",
    "**Lösung**"
   ]
  },
  {
   "cell_type": "code",
   "execution_count": 2,
   "metadata": {},
   "outputs": [
    {
     "name": "stdout",
     "output_type": "stream",
     "text": [
      "Geben Sie r ein: 4.9\n",
      "Geben Sie d ein: 5.0\n",
      "Die Fläche beträgt: -1\n"
     ]
    }
   ],
   "source": [
    "import math\n",
    "\n",
    "def Kreisring(d, r):\n",
    "    if(r>0 and d>0 and r>d):\n",
    "        f = math.pi * (r**2 - (r-d)**2)\n",
    "        return f\n",
    "    else:\n",
    "        return -1\n",
    "    \n",
    "#test\n",
    "r = float(input(\"Geben Sie r ein: \"))\n",
    "d = float(input(\"Geben Sie d ein: \"))\n",
    "\n",
    "resultat = Kreisring(d, r)\n",
    "\n",
    "print(\"Die Fläche beträgt: \" + str(resultat))"
   ]
  },
  {
   "cell_type": "markdown",
   "metadata": {},
   "source": [
    "## Lösung zu Aufgabe 2: Abstandsberechnung\n",
    "Erstellen Sie eine Funktion, die den Abstand zweier Punkte p1 und p2 berechnet. Die Punkte sind jeweils durch ihre Koordination [x1, y1] und [x2, y2] gegeben.\n",
    "\n",
    "![Abstand](../bilder/abstand.png)\n",
    "\n",
    "Der Abstand d berechnet sich wie folgt:\n",
    "\n",
    "$$ d = \\sqrt{(x_{1} − x_{2})^{2} + (y_{1} − y_{2})^{2}} $$\n",
    "\n",
    "**Hinweis**: Verwenden Sie die in der Bibliothek <code>math</code> zur Verfügung gestellten mathematischen Funktionen (https://docs.python.org/3/library/math.html).\n",
    "\n",
    "**Lösung**\n",
    "\n",
    "Die Methode aus der Bibliothek, die verwendet werden sollte ist <code>math.sqrt()</code> für die Quadratwurzel."
   ]
  },
  {
   "cell_type": "code",
   "execution_count": 3,
   "metadata": {},
   "outputs": [
    {
     "name": "stdout",
     "output_type": "stream",
     "text": [
      "Geben Sie x1 ein: 1\n",
      "Geben Sie y1 ein: 1\n",
      "Geben Sie x2 ein: 5\n",
      "Geben Sie y2 ein: 5\n",
      "Der Abstand beträgt: 5.656854249492381\n"
     ]
    }
   ],
   "source": [
    "import math\n",
    "\n",
    "def Abstand(x1, y1, x2, y2):\n",
    "    return math.sqrt((x1 - x2)**2 + (y1 - y2)**2)\n",
    "\n",
    "#test\n",
    "x1 = float(input(\"Geben Sie x1 ein: \"))\n",
    "y1 = float(input(\"Geben Sie y1 ein: \"))\n",
    "x2 = float(input(\"Geben Sie x2 ein: \"))\n",
    "y2 = float(input(\"Geben Sie y2 ein: \"))\n",
    "\n",
    "\n",
    "resultat = Abstand(x1,y1,x2,y2)\n",
    "\n",
    "print(\"Der Abstand beträgt: \" + str(resultat))"
   ]
  },
  {
   "cell_type": "markdown",
   "metadata": {},
   "source": [
    "## Lösung Aufgabe 3: Zielscheibe\n",
    "Erstellen Sie eine Funktion, die den Schuss auf eine Zielscheibe auswertet. Das Zentrum der Zielscheibe befindet sich im Mittelpunkt eines xy-Koordinatensystems. Die Zielscheibe besitzt einen Durchmesser d und ist in n Ringe unterteilt. Der abgegebene Schuss ist durch die Koordinaten x und y des Punktes p gegeben. Die Funktion soll die Nummer des Rings ausgeben, der getroffen wurde. Liegt der Schuss außerhalb der Zielscheibe („kein Treffer“), so soll die Funktion den Wert 0 zurückgeben.\n",
    "\n",
    "![Ziel](../bilder/ziel.png)\n",
    "\n",
    "Im Beispiel besitzt die Zielscheibe 4 Ringe. Der Schuss ist in Ring 3 gelandet.\n",
    "\n",
    "**Hinweise**:\n",
    "- Im Vordergrund steht hier zuerst die Überlegung, wie berechnet man den getroffenen Ring.\n",
    "- Überlegen Sie, welche der Funktionen, die Sie in den Aufgaben zuvor gelöst haben Sie im Rahmen dieser Aufgabe wiederverwenden können\n",
    "\n",
    "**Lösung**\n",
    "Für die Abstandsberechnungen wird die Funktion Abstand genutzt (oben).\n",
    "Ansonsten wird die Ringbreite ermittelt als $$ringbreite = \\frac{d}{2 \\cdot n}$$.\n",
    "Im Anschluss wird der Abstand mit der Ringbreite verglichen und ein Ring dazu addiert, da die Division und die anschliessende Nutzung von <code>int()</code> nach unten abrundet, muss der Wert 1 hinzuaddiert werden (der innerste Ring hat die Nummer 1 und nicht die Nummer 0). Sollte die Ringnummer, den Wert **n** übersteigen, ist klar, dass der Treffer ausserhalb war und entsprechend 0 zurückgeliefert werden soll.\n"
   ]
  },
  {
   "cell_type": "code",
   "execution_count": 5,
   "metadata": {},
   "outputs": [
    {
     "name": "stdout",
     "output_type": "stream",
     "text": [
      "Geben Sie x ein: 0\n",
      "Geben Sie y ein: 0\n",
      "Geben Sie d ein: 4\n",
      "Geben Sie n ein: 3\n",
      "Die Ringnummer lautet: 1\n"
     ]
    }
   ],
   "source": [
    "import math\n",
    "\n",
    "def Abstand(x1, y1, x2, y2):\n",
    "    return math.sqrt((x1 - x2)**2 + (y1 - y2)**2)\n",
    "\n",
    "\n",
    "def Zielscheibe(x, y, d, n):\n",
    "    r = Abstand(x, y, 0, 0)\n",
    "    ringbreite = d / (2 * n) \n",
    "    ring = int(r / ringbreite) + 1 # int() schneidet die Nachkommastellen ab\n",
    "    if ring > n:\n",
    "        ring = 0\n",
    "    return ring\n",
    "\n",
    "#test\n",
    "x = float(input(\"Geben Sie x ein: \"))\n",
    "y = float(input(\"Geben Sie y ein: \"))\n",
    "d = float(input(\"Geben Sie d ein: \"))\n",
    "n = float(input(\"Geben Sie n ein: \"))\n",
    "\n",
    "\n",
    "resultat = Zielscheibe(x,y,d,n)\n",
    "\n",
    "print(\"Die Ringnummer lautet: \" + str(resultat))"
   ]
  },
  {
   "cell_type": "code",
   "execution_count": null,
   "metadata": {},
   "outputs": [],
   "source": []
  }
 ],
 "metadata": {
  "kernelspec": {
   "display_name": "Python 3",
   "language": "python",
   "name": "python3"
  },
  "language_info": {
   "codemirror_mode": {
    "name": "ipython",
    "version": 3
   },
   "file_extension": ".py",
   "mimetype": "text/x-python",
   "name": "python",
   "nbconvert_exporter": "python",
   "pygments_lexer": "ipython3",
   "version": "3.8.3"
  }
 },
 "nbformat": 4,
 "nbformat_minor": 4
}
