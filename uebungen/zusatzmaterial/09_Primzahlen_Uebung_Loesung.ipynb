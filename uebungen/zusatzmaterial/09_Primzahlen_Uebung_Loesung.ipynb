{
 "cells": [
  {
   "cell_type": "markdown",
   "metadata": {},
   "source": [
    "# Lösung Primzahlen\n",
    "\n",
    "In diesem Übungsblatt soll ein Algorithmus entwickelt werden, um Primzahlen zu ermitteln. Dazu wird das \"Sieb des Eratosthenes\" verwendet.\n",
    "\n",
    "## Funktionsweise (aus Wikipedia)\n",
    "\n",
    "Zunächst werden alle Zahlen 2, 3, 4, … bis zu einem frei wählbaren Maximalwert S aufgeschrieben. Die zunächst unmarkierten Zahlen sind potentielle Primzahlen. Die kleinste unmarkierte Zahl ist immer eine Primzahl. Nachdem eine Primzahl gefunden wurde, werden alle Vielfachen dieser Primzahl als zusammengesetzt markiert. Man bestimmt die nächstgrößere unmarkierte Zahl. Da sie kein Vielfaches von Zahlen kleiner als sie selbst ist (sonst wäre sie markiert worden), kann sie nur durch eins und sich selbst teilbar sein. Folglich muss es sich um eine Primzahl handeln. Diese wird dementsprechend als Primzahl ausgegeben. Man streicht wieder alle Vielfachen und führt das Verfahren fort, bis man am Ende der Liste angekommen ist. Im Verlauf des Verfahrens werden alle Primzahlen ausgegeben.\n",
    "\n",
    "![Erastosthenes](../bilder/Animation_Sieb_des_Eratosthenes.gif)\n",
    "\n",
    "## 1: Obere Schranke einlesen und Listen erzeugen\n",
    "\n",
    "Schreiben Sie eine Python Zelle, die den Maximalwert S vom Benutzer einliest und eine Liste <code>zahlen</code> mit allen Zahlen von 2 bis S  sowie eine zweite Liste <code>ist_markiert</code> mit der gleichen Anzahl an Elementen erzeugt. In der zweiten Liste werden nur boolean Werte gespeichert, die angeben, ob die entsprechende Zahl aus der ersten Liste markiert ist.\n",
    "\n",
    "## 2: Primzahlen ermitteln\n",
    "\n",
    "Implementieren Sie das \"Sieb des Eratosthenes\" mit zwei verschachtelten Schleifen. **Hinweis**: Die innere Schleife läuft nur dann, wenn eine Primzahl als solche identifiziert wurde.\n",
    "\n",
    "**Lösung**\n",
    "Die Lösung wird erzeugt, indem für jede Zahl zwischen 2 und S (einschließlich) überprüft wird, ob diese markiert ist und dann im Falle einer fehlenden Markierung diese Zahl als Primzahl ausgeben. Im Anschluss werden alle Zahlen zwischen der Zahl und S daraufhin überprüft, ob diese durch die momentan untersuchte Zahl ganzzahlig teilbar sind. Sollte dies der Fall sein, so werden diese Zahlen markiert (sie können keine Primzahlen sein).\n"
   ]
  },
  {
   "cell_type": "code",
   "execution_count": 1,
   "metadata": {},
   "outputs": [
    {
     "name": "stdout",
     "output_type": "stream",
     "text": [
      "Bitte obere Grenze angeben: 20\n",
      "2\n",
      "3\n",
      "5\n",
      "7\n",
      "11\n",
      "13\n",
      "17\n",
      "19\n"
     ]
    }
   ],
   "source": [
    "# 1: Wert S einlesen und Listen erzeugen\n",
    "S = int(input(\"Bitte obere Grenze angeben: \"))\n",
    "\n",
    "zahlen       = [    i for i in range(2, S + 1)] #wichtig: S ist das größte enthaltene Element\n",
    "ist_markiert = [False for i in range(2, S + 1)] #wichtig: S ist das größte enthaltene Element\n",
    "\n",
    "# 2: Primzahlen ermitteln\n",
    "for i in range(len(zahlen)):\n",
    "    if ist_markiert[i] == False:\n",
    "        print(zahlen[i])\n",
    "        for k in range(i + 1, len(zahlen)):\n",
    "            if zahlen[k] % zahlen[i] == 0:\n",
    "                ist_markiert[k] = True"
   ]
  },
  {
   "cell_type": "markdown",
   "metadata": {},
   "source": [
    "**Alternative**\n",
    "\n",
    "Die Alternative folgt dem ursprünglichen Algorithmus etwas näher, in der Hinsicht, dass für jede gefundene Primzahl alle Vielfachen bis einschließlich der Zahl <code>S</code> markiert werden. \n",
    "Dieser Algorithmus ist sehr viel effizienter, da deutlich weniger Operationen durchgeführt werden und weil speziell die Division vermieden wird, die rechentechnisch \"noch teurer\" als eine Multiplikation ist."
   ]
  },
  {
   "cell_type": "code",
   "execution_count": 4,
   "metadata": {},
   "outputs": [
    {
     "name": "stdout",
     "output_type": "stream",
     "text": [
      "Bitte obere Grenze angeben: 20\n",
      "2\n",
      "3\n",
      "5\n",
      "7\n",
      "11\n",
      "13\n",
      "17\n",
      "19\n"
     ]
    }
   ],
   "source": [
    "# 1: Wert S einlesen und Listen erzeugen\n",
    "S = int(input(\"Bitte obere Grenze angeben: \"))\n",
    "\n",
    "zahlen       = [    i for i in range(2, S + 1)] #wichtig: S ist das größte enthaltene Element\n",
    "ist_markiert = [False for i in range(2, S + 1)] #wichtig: S ist das größte enthaltene Element\n",
    "\n",
    "# 2: Primzahlen ermitteln\n",
    "for i in range(len(zahlen)):\n",
    "    if ist_markiert[i] == False:\n",
    "        print(zahlen[i])\n",
    "        factor = 2\n",
    "        naechsteZahl = zahlen[i] * factor\n",
    "        while (naechsteZahl <= S):\n",
    "            ist_markiert[naechsteZahl-2] = True\n",
    "            factor += 1\n",
    "            naechsteZahl = zahlen[i] * factor"
   ]
  },
  {
   "cell_type": "markdown",
   "metadata": {},
   "source": [
    "## Zusatzaufgabe (schwer!)\n",
    "\n",
    "Schreiben Sie eine rekursive Funktion <code>sieb()</code>, die als Eingabeparameter eine Liste erwartet und auf dieser Liste das Sieb des Eratosthenes ausführt. Überlegen Sie sich zunächst einen passenden Rekursionsschritt und dann eine entsprechende Abbruchbedingung."
   ]
  },
  {
   "cell_type": "code",
   "execution_count": 5,
   "metadata": {},
   "outputs": [
    {
     "name": "stdout",
     "output_type": "stream",
     "text": [
      "[2, 3, 5, 7, 11, 13, 17, 19]\n"
     ]
    }
   ],
   "source": [
    "# rekursive Funktion \"sieb\" definieren - die return Funktion innerhalb der Funktion entfernen\n",
    "def sieb(liste):\n",
    "    primzahl = liste[0]\n",
    "    \n",
    "    if len(liste) == 1:\n",
    "        return [primzahl]\n",
    "    else:\n",
    "        restliste = []\n",
    "        for k in range(1, len(liste)):\n",
    "            if liste[k] % primzahl != 0:\n",
    "                restliste += [liste[k]]\n",
    "        \n",
    "        return [primzahl] + sieb(restliste)\n",
    "        \n",
    "# Funktion Testen\n",
    "eine_liste = [i for i in range(2, 20)]\n",
    "print(sieb(eine_liste))"
   ]
  }
 ],
 "metadata": {
  "kernelspec": {
   "display_name": "Python 3",
   "language": "python",
   "name": "python3"
  },
  "language_info": {
   "codemirror_mode": {
    "name": "ipython",
    "version": 3
   },
   "file_extension": ".py",
   "mimetype": "text/x-python",
   "name": "python",
   "nbconvert_exporter": "python",
   "pygments_lexer": "ipython3",
   "version": "3.8.3"
  }
 },
 "nbformat": 4,
 "nbformat_minor": 2
}
