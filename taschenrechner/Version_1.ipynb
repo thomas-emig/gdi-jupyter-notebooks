{
 "cells": [
  {
   "cell_type": "markdown",
   "metadata": {},
   "source": [
    "# Taschenrechner Version 1\n",
    "\n",
    "In dieser Aufgabe erstellen Sie die erste Version des Taschenrechners.\n",
    "\n",
    "Der Taschenrechner soll später in der Lage sein, mathematische Ausdrücke, die als Variable vom typ String eingegeben werden, zu bearbeiten. Dazu müssen wir uns zunächst ein bisschen mit der Verarbeitung von Strings beschäftigen.\n",
    "\n",
    "Entwerfen Sie zunächst ein Python Skript, das eine Eingabe des Benutzers abfragt und darin nach einem festen Zeichen sucht. Es soll die Stelle innerhalb der Zeichenkette zurückgegeben werden, an der das Zeichen gefunden wurde.\n",
    "\n",
    "**Beispiel**\n",
    "<pre>\n",
    "Eingabe: \"Hallo, Welt!\", gesuchtes Zeichen: \"W\"\n",
    "\n",
    "Hallo, Welt!\n",
    "       ^------- Zeichen gefunden an Stelle 7\n",
    "\n",
    "Eingabe: \"Hallo, Welt!\", gesuchtes Zeichen: \"H\"\n",
    "\n",
    "Hallo, Welt!\n",
    "^-------------- Zeichen gefunden an Stelle 0\n",
    "</pre>\n",
    "\n",
    "Wird das Zeichen nicht gefunden, so soll der Wert -1 zurückgegeben werden.\n",
    "\n",
    "Die Eingabe wird in der Variable <code>text</code> und das gesuchte Zeichen in der Variable <code>zeichen</code> gespeichert.\n",
    "\n",
    "**Hinweis**\n",
    "- Verwenden Sie eine for Schleife, um die Eingabe Zeichen für Zeichen untersuchen zu können.\n",
    "- Sie können auf die einzelnen Zeichen in einem String wie auf die einzelnen Elemente in einem Array zugreifen (Beispiel: <code>text[3]</code> gibt das 4. Zeichen an)"
   ]
  },
  {
   "cell_type": "code",
   "execution_count": null,
   "metadata": {},
   "outputs": [],
   "source": [
    "text    = input(\"Bitte Text eingeben: \")\n",
    "zeichen = input(\"Nach welchem Zeichen soll gesucht werden: \")\n",
    "\n",
    "# hier Suche nach \"zeichen\" in \"text\" implementieren\n",
    "# und Ergebnis in \"pos\" speichern\n",
    "\n",
    "\n",
    "print(\"Zeichen gefunden an Stelle \" + str(pos))"
   ]
  },
  {
   "cell_type": "markdown",
   "metadata": {},
   "source": [
    "Als nächstes werden Sie lernen, wie Zeichenketten an einer bestimmten Stelle aufgeteilt werden können. Dazu werden wir uns der \"slicing\" Syntax bedienen, die es uns erlaubt, aus einer Liste eine Teilliste \"herauszuschneiden\".\n",
    "\n",
    "Dazu wird der Index von einer einfachen Zahl erweitert zu <code>startwert:endwert:schrittweite</code>.\n",
    "\n",
    "**Beispiel**\n",
    "<pre>\n",
    "text = \"Hallo, Welt!\"\n",
    "\n",
    "text[2:4:1] -> ergibt \"ll\"\n",
    "</pre>\n",
    "\n",
    "Ist die Schrittweite gleich 1, kann sie ausgelassen werden:\n",
    "<pre>\n",
    "text = \"Hallo, Welt!\"\n",
    "\n",
    "text[5:8] -> ergibt \", W\"\n",
    "</pre>\n",
    "\n",
    "Werden Startwert oder Endwert ausgelassen, dann wird vom Anfang der Liste oder bis zum Ende der Liste gearbeitet:\n",
    "<pre>\n",
    "text = \"Hallo, Welt!\"\n",
    "\n",
    "text[:8] -> ergibt \"Hallo, W\"\n",
    "text[8:] -> ergibt \"elt!\"\n",
    "</pre>\n",
    "\n",
    "Entwerfen Sie ein Python Skript, das einen Text vom Benutzer abfragt und eine Stelle, an der der Text aufgetrennt werden soll. Das Programm soll dann anschließend beide Teile ausgeben.\n",
    "\n",
    "**Beispiel**\n",
    "<pre>\n",
    "Eingabe: \"Hallo, Welt!\", Stelle = 3\n",
    "Ausgabe: \"Hal\" und \"lo, Welt!\"\n",
    "\n",
    "Eingabe: \"Hallo, Welt!\", Stelle = 7\n",
    "Ausgabe: \"Hallo, \" und \"Welt!\"\n",
    "</pre>"
   ]
  },
  {
   "cell_type": "code",
   "execution_count": null,
   "metadata": {},
   "outputs": [],
   "source": [
    "text   = input(\"Bitte Text eingeben: \")\n",
    "stelle = int(input(\"An welcher Stelle soll getrennt werden: \"))\n",
    "\n",
    "# hier \"text\" an \"stelle\" auftrennen und die beiden Teile\n",
    "# in \"lhs\" und \"rhs\" speichern\n",
    "\n",
    "\n",
    "print(\"Ergebnis '\" + lhs + \"' und '\" + rhs + \"'\")"
   ]
  },
  {
   "cell_type": "markdown",
   "metadata": {},
   "source": [
    "Kombinieren Sie nun die Ergebnisse der letzten beiden Übungen:\n",
    "- Fragen Sie vom Benutzer einen Ausdruck ab und speichern Sie ihn in der Variable <code>command</code>\n",
    "- Durchsuchen Sie den Ausdruck nach den Zeichen '+' '-' '*' und '/'\n",
    "- Trennen Sie den Ausdruck an der gefundenen Stelle auf\n",
    "- Wandeln Sie die beiden Teile des Ausdrucks in Fließkommazahlen um (verwenden Sie dazu die Funktion <code>float()</code>)\n",
    "- Berechnen Sie das Ergebnis des Ausdrucks"
   ]
  },
  {
   "cell_type": "code",
   "execution_count": null,
   "metadata": {},
   "outputs": [],
   "source": [
    "command = input(\"Bitte Ausdruck eingeben: \")\n",
    "\n",
    "# hier nach den Operatoren suchen\n",
    "\n",
    "\n",
    "# hier den Ausdruck aufteilen und in fließkommazahlen umwandeln\n",
    "\n",
    "\n",
    "# hier das Ergebnis berechnen und in \"ergebnis\" speichern\n",
    "\n",
    "    \n",
    "print(\"Ergebnis: \" + str(ergebnis))"
   ]
  },
  {
   "cell_type": "markdown",
   "metadata": {},
   "source": [
    "## Lösungen"
   ]
  },
  {
   "cell_type": "code",
   "execution_count": null,
   "metadata": {},
   "outputs": [],
   "source": [
    "text    = input(\"Bitte Text eingeben: \")\n",
    "zeichen = input(\"Nach welchem Zeichen soll gesucht werden: \")\n",
    "\n",
    "# hier Suche nach \"zeichen\" in \"text\" implementieren\n",
    "# und Ergebnis in \"pos\" speichern\n",
    "pos = -1\n",
    "for i in range(len(text)):\n",
    "    if text[i] == zeichen:\n",
    "        pos = i\n",
    "        break\n",
    "\n",
    "print(\"Zeichen gefunden an Stelle \" + str(pos))"
   ]
  },
  {
   "cell_type": "code",
   "execution_count": null,
   "metadata": {},
   "outputs": [],
   "source": [
    "text   = input(\"Bitte Text eingeben: \")\n",
    "stelle = int(input(\"An welcher Stelle soll getrennt werden: \"))\n",
    "\n",
    "# hier \"text\" an \"stelle\" auftrennen und die beiden Teile\n",
    "# in \"lhs\" und \"rhs\" speichern\n",
    "lhs = text[:stelle]\n",
    "rhs = text[stelle:]\n",
    "\n",
    "print(\"Ergebnis '\" + lhs + \"' und '\" + rhs + \"'\")"
   ]
  },
  {
   "cell_type": "code",
   "execution_count": null,
   "metadata": {},
   "outputs": [],
   "source": [
    "command = input(\"Bitte Ausdruck eingeben: \")\n",
    "\n",
    "# hier nach den Operatoren suchen\n",
    "operators = ['+', '-', '*', '/']\n",
    "pos = -1\n",
    "for op in operators:\n",
    "    for i in range(len(command)):\n",
    "        if command[i] == op:\n",
    "            pos = i\n",
    "            operator = op\n",
    "            break\n",
    "    if pos != -1:\n",
    "        break\n",
    "\n",
    "# hier den Ausdruck aufteilen und in fließkommazahlen umwandeln\n",
    "lhs = float(command[:pos])\n",
    "rhs = float(command[pos+1:])\n",
    "\n",
    "# hier das Ergebnis berechnen und in \"ergebnis\" speichern\n",
    "if operator == '+':\n",
    "    ergebnis = lhs + rhs\n",
    "if operator == '-':\n",
    "    ergebnis = lhs - rhs\n",
    "if operator == '*':\n",
    "    ergebnis = lhs * rhs\n",
    "if operator == '/':\n",
    "    ergebnis = lhs / rhs\n",
    "    \n",
    "print(\"Ergebnis: \" + str(ergebnis))"
   ]
  }
 ],
 "metadata": {
  "kernelspec": {
   "display_name": "Python 3",
   "language": "python",
   "name": "python3"
  },
  "language_info": {
   "codemirror_mode": {
    "name": "ipython",
    "version": 3
   },
   "file_extension": ".py",
   "mimetype": "text/x-python",
   "name": "python",
   "nbconvert_exporter": "python",
   "pygments_lexer": "ipython3",
   "version": "3.5.2"
  }
 },
 "nbformat": 4,
 "nbformat_minor": 2
}
