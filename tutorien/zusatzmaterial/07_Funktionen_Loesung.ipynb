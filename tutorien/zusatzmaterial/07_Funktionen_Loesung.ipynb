{
 "cells": [
  {
   "cell_type": "markdown",
   "metadata": {},
   "source": [
    "# Lösung zu 07-Funktionen\n",
    "\n",
    "Gegeben sind folgende Funktionen"
   ]
  },
  {
   "cell_type": "code",
   "execution_count": 6,
   "metadata": {},
   "outputs": [],
   "source": [
    "# Funktion zur Flächenberechnung\n",
    "def fläche_berechnen(breite, höhe):\n",
    "    fläche = breite * höhe\n",
    "    return fläche"
   ]
  },
  {
   "cell_type": "markdown",
   "metadata": {},
   "source": [
    "## Lösung Aufgabe 7-A\n",
    "\n",
    "**Aufgabenstellung war:**\n",
    "\n",
    "Erstellen Sie eine Funktion <code>Quadrat</code>, die den Flächeninhalt eines Quadrats berechnet. \n",
    "- Variante A): ohne Verwendung der Funktion fläche_berechnen\n",
    "- Variante B): unter Verwendung der Funktion fläche_berechnen"
   ]
  },
  {
   "cell_type": "code",
   "execution_count": 7,
   "metadata": {},
   "outputs": [
    {
     "name": "stdout",
     "output_type": "stream",
     "text": [
      "Bitte Seitenlänge eingeben: 2\n",
      "Die Fläche beträgt 4.\n",
      "Bitte Seitenlänge eingeben: 2\n",
      "Die Fläche beträgt 4.\n"
     ]
    }
   ],
   "source": [
    "## Variante A\n",
    "def quadrat(seitenlaenge):\n",
    "    flaeche = seitenlaenge ** 2\n",
    "    return flaeche\n",
    "\n",
    "# Eingabe\n",
    "s = int(input(\"Bitte Seitenlänge eingeben: \"))\n",
    "\n",
    "\n",
    "# Fläche berechnen\n",
    "A = quadrat(s)\n",
    "\n",
    "# Ausgabe\n",
    "print(\"Die Fläche beträgt \" + str(A) + \".\")\n",
    "\n",
    "### Variante B\n",
    "\n",
    "def quadratB(seitenlaenge):\n",
    "    flaeche = fläche_berechnen(seitenlaenge, seitenlaenge)\n",
    "    return flaeche\n",
    "\n",
    "# Eingabe\n",
    "s = int(input(\"Bitte Seitenlänge eingeben: \"))\n",
    "\n",
    "\n",
    "# Fläche berechnen\n",
    "A = quadratB(s)\n",
    "\n",
    "# Ausgabe\n",
    "print(\"Die Fläche beträgt \" + str(A) + \".\")"
   ]
  },
  {
   "cell_type": "markdown",
   "metadata": {},
   "source": [
    "## Lösung zu Aufgabe 7-B\n",
    "\n",
    "Aufgabe war: Erstellen Sie eine Funktion DoppelT, die den Flächeninhalt eines symmetrischen Doppel-T Querschnitts berechnet."
   ]
  },
  {
   "cell_type": "code",
   "execution_count": 8,
   "metadata": {},
   "outputs": [
    {
     "name": "stdout",
     "output_type": "stream",
     "text": [
      "Bitte d ein: 2\n",
      "Bitte b ein: 4\n",
      "Bitte h ein: 10\n",
      "Bitte t ein: 1\n",
      "Die Fläche beträgt 22.\n"
     ]
    }
   ],
   "source": [
    "def DoppelT(t, h, d, b):\n",
    "    flaeche  = 2 * fläche_berechnen(d, b)\n",
    "    flaeche +=     fläche_berechnen(t, h - 2 * d)\n",
    "    return flaeche\n",
    "\n",
    "# Eingabe\n",
    "d = int(input(\"Bitte d ein: \"))\n",
    "b = int(input(\"Bitte b ein: \"))\n",
    "h = int(input(\"Bitte h ein: \"))\n",
    "t = int(input(\"Bitte t ein: \"))\n",
    "\n",
    "\n",
    "\n",
    "# Fläche berechnen\n",
    "A = DoppelT(t, h, d, b)\n",
    "\n",
    "# Ausgabe\n",
    "print(\"Die Fläche beträgt \" + str(A) + \".\")"
   ]
  },
  {
   "cell_type": "markdown",
   "metadata": {},
   "source": [
    "## Lösung zu Aufgabe 7-C\n",
    "\n",
    "Aufgabe war: Erstellen Sie eine Funktion Kreis, die den Flächeninhalt eines Kreises berechnet. Was fällt Ihnen dabei auf?\n",
    "\n",
    "Es fällt auf, dass wir bisher nicht wissen, wie $$\\pi$$ zu bestimmen ist. Daher können wir nur mit einer Näherung rechnen (3.14159267)."
   ]
  },
  {
   "cell_type": "code",
   "execution_count": 11,
   "metadata": {},
   "outputs": [
    {
     "name": "stdout",
     "output_type": "stream",
     "text": [
      "Bitte r ein: 3\n",
      "Die Fläche beträgt 28.274333882308138.\n"
     ]
    }
   ],
   "source": [
    "#Hier wird pi definiert (Bibliothek https://docs.python.org/3/library/math.html)\n",
    "import math\n",
    "\n",
    "def Kreis(r):\n",
    "    return math.pi * (r**2)\n",
    "\n",
    "# Eingabe\n",
    "r = int(input(\"Bitte r ein: \"))\n",
    "\n",
    "\n",
    "\n",
    "# Fläche berechnen\n",
    "A = Kreis(r)\n",
    "\n",
    "# Ausgabe\n",
    "print(\"Die Fläche beträgt \" + str(A) + \".\")"
   ]
  },
  {
   "cell_type": "markdown",
   "metadata": {},
   "source": [
    "## Lösung Fortschrittsanzeige\n",
    "\n",
    "Aufgabe war: Schreiben Sie die Funktion fortschrittsanzeige so um, dass der Ladebalken auch invertiert werden kann (also von rechts nach links läuft). Übergeben Sie dazu einen Weiteren Parameter invertiert, der mit einem Standartwert vorbelegt ist, sodass der Funktionsaufruf auch ohne diesen Parameter funktioniert und einen nicht invertierten Ladebalken anzeigt."
   ]
  },
  {
   "cell_type": "code",
   "execution_count": 13,
   "metadata": {},
   "outputs": [
    {
     "name": "stdout",
     "output_type": "stream",
     "text": [
      "[--------------------------------------------------------------------------------]\n",
      "[########------------------------------------------------------------------------]\n",
      "[################----------------------------------------------------------------]\n",
      "[########################--------------------------------------------------------]\n",
      "[################################------------------------------------------------]\n",
      "[########################################----------------------------------------]\n",
      "[################################################--------------------------------]\n",
      "[########################################################------------------------]\n",
      "[################################################################----------------]\n",
      "[########################################################################--------]\n",
      "[################################################################################]\n",
      "[--------------------------------------------------------------------------------]\n",
      "[------------------------------------------------------------------------########]\n",
      "[----------------------------------------------------------------################]\n",
      "[--------------------------------------------------------########################]\n",
      "[------------------------------------------------################################]\n",
      "[----------------------------------------########################################]\n",
      "[--------------------------------################################################]\n",
      "[------------------------########################################################]\n",
      "[----------------################################################################]\n",
      "[--------########################################################################]\n",
      "[################################################################################]\n"
     ]
    }
   ],
   "source": [
    "def fortschrittsanzeige(prozent, invertiert = False):\n",
    "    anzahl_zeichen_ausgefuellt = int(80*prozent/100)\n",
    "    text = \"[\"\n",
    "    if invertiert:\n",
    "        text += \"-\" * (80 - anzahl_zeichen_ausgefuellt)\n",
    "        text += \"#\" * anzahl_zeichen_ausgefuellt\n",
    "    else:\n",
    "        text += \"#\" * anzahl_zeichen_ausgefuellt\n",
    "        text += \"-\" * (80 - anzahl_zeichen_ausgefuellt)\n",
    "    text += \"]\"\n",
    "    print(text)\n",
    "\n",
    "#normal\n",
    "for i in range(0, 101, 10):\n",
    "    fortschrittsanzeige(i)\n",
    "\n",
    "#invertiert\n",
    "for i in range(0, 101, 10):\n",
    "    fortschrittsanzeige(i, True)"
   ]
  },
  {
   "cell_type": "markdown",
   "metadata": {},
   "source": [
    "## Lösung Computergraphik\n",
    "\n",
    "Aufgabe: Schreiben Sie eine Funktion pixel(bild, x, y), die auf dem Bild bild an der Stelle (x, y) ein schwarzes Pixel zeichnet und das Bild anschließend wieder zurückgibt."
   ]
  },
  {
   "cell_type": "code",
   "execution_count": 17,
   "metadata": {},
   "outputs": [],
   "source": [
    "#gegebene Code-Blöcke\n",
    "def plot_image(image):\n",
    "    print(\"┏\" + \"━\" * len(image[0]) * 2 + \"┓\")\n",
    "    for line in image:\n",
    "        print(\"┃\", end=\"\")\n",
    "        for pixel in line:\n",
    "            if pixel == 0:\n",
    "                print(\"  \", end=\"\")\n",
    "            else:\n",
    "                print(\"██\", end=\"\")\n",
    "        print(\"┃\")\n",
    "    print(\"┗\" + \"━\" * len(image[-1]) * 2 + \"┛\")\n",
    "    \n",
    "testbild = [[0, 0, 0, 1, 0, 0, 0],\n",
    "            [0, 0, 0, 1, 0, 0, 0],\n",
    "            [0, 0, 1, 0, 0, 0, 0],\n",
    "            [1, 1, 0, 0, 0, 1, 1],\n",
    "            [0, 0, 0, 0, 1, 0, 0],\n",
    "            [0, 0, 0, 1, 0, 0, 0],\n",
    "            [0, 0, 0, 1, 0, 0, 0]\n",
    "           ]"
   ]
  },
  {
   "cell_type": "code",
   "execution_count": 18,
   "metadata": {},
   "outputs": [
    {
     "name": "stdout",
     "output_type": "stream",
     "text": [
      "┏━━━━━━━━━━━━━━┓\n",
      "┃██    ██      ┃\n",
      "┃      ██      ┃\n",
      "┃    ██        ┃\n",
      "┃████      ████┃\n",
      "┃        ██    ┃\n",
      "┃      ██      ┃\n",
      "┃      ██      ┃\n",
      "┗━━━━━━━━━━━━━━┛\n",
      "┏━━━━━━━━━━━━━━┓\n",
      "┃██    ██      ┃\n",
      "┃      ██      ┃\n",
      "┃    ██        ┃\n",
      "┃████  ██  ████┃\n",
      "┃        ██    ┃\n",
      "┃      ██      ┃\n",
      "┃      ██      ┃\n",
      "┗━━━━━━━━━━━━━━┛\n",
      "┏━━━━━━━━━━━━━━┓\n",
      "┃██    ██      ┃\n",
      "┃      ██    ██┃\n",
      "┃    ██        ┃\n",
      "┃████  ██  ████┃\n",
      "┃        ██    ┃\n",
      "┃      ██      ┃\n",
      "┃      ██      ┃\n",
      "┗━━━━━━━━━━━━━━┛\n"
     ]
    }
   ],
   "source": [
    "# Funktion zum Zeichnen von Pixeln\n",
    "def pixel(bild, x, y):\n",
    "    bild[x][y] = 1\n",
    "    # hier code einfügen, um Pixel auf bild an Stelle (x,y) zu zeichnen\n",
    "    \n",
    "    return bild\n",
    "\n",
    "# Funktion testen (drei pixel an unterschiedlichen Stellen zeichnen)\n",
    "testbild = pixel(testbild, 0, 0)\n",
    "plot_image(testbild)\n",
    "\n",
    "testbild = pixel(testbild, 3, 3)\n",
    "plot_image(testbild)\n",
    "\n",
    "testbild = pixel(testbild, 1, 6)\n",
    "plot_image(testbild)"
   ]
  },
  {
   "cell_type": "markdown",
   "metadata": {},
   "source": [
    "## Erweiterung\n",
    "\n",
    "Aufgabe: Erweitern Sie die Funktion um die Möglichkeit, entweder schwarze oder weiße Pixel zu zeichnen. Fügen Sie dazu noch einen weiteren Übergabeparameter ein."
   ]
  },
  {
   "cell_type": "code",
   "execution_count": 19,
   "metadata": {},
   "outputs": [
    {
     "name": "stdout",
     "output_type": "stream",
     "text": [
      "┏━━━━━━━━━━━━━━┓\n",
      "┃██    ██      ┃\n",
      "┃      ██      ┃\n",
      "┃    ██        ┃\n",
      "┃████      ████┃\n",
      "┃        ██    ┃\n",
      "┃      ██      ┃\n",
      "┃      ██      ┃\n",
      "┗━━━━━━━━━━━━━━┛\n",
      "┏━━━━━━━━━━━━━━┓\n",
      "┃██    ██      ┃\n",
      "┃      ██      ┃\n",
      "┃    ██        ┃\n",
      "┃████      ████┃\n",
      "┃        ██    ┃\n",
      "┃      ██      ┃\n",
      "┃      ██      ┃\n",
      "┗━━━━━━━━━━━━━━┛\n",
      "┏━━━━━━━━━━━━━━┓\n",
      "┃██    ██      ┃\n",
      "┃      ██    ██┃\n",
      "┃    ██        ┃\n",
      "┃████      ████┃\n",
      "┃        ██    ┃\n",
      "┃      ██      ┃\n",
      "┃      ██      ┃\n",
      "┗━━━━━━━━━━━━━━┛\n"
     ]
    }
   ],
   "source": [
    "#Herstellen des Ursprungbildes\n",
    "testbild = [[0, 0, 0, 1, 0, 0, 0],\n",
    "            [0, 0, 0, 1, 0, 0, 0],\n",
    "            [0, 0, 1, 0, 0, 0, 0],\n",
    "            [1, 1, 0, 0, 0, 1, 1],\n",
    "            [0, 0, 0, 0, 1, 0, 0],\n",
    "            [0, 0, 0, 1, 0, 0, 0],\n",
    "            [0, 0, 0, 1, 0, 0, 0]\n",
    "           ]\n",
    "\n",
    "# Funktion zum Zeichnen von Pixeln\n",
    "def pixel(bild, x, y, farbe): #farbe = 0 für weiss oder 1 für schwarz\n",
    "    bild[x][y] = farbe\n",
    "    # hier code einfügen, um Pixel auf bild an Stelle (x,y) zu zeichnen\n",
    "    \n",
    "    return bild\n",
    "\n",
    "# Funktion testen (drei pixel an unterschiedlichen Stellen zeichnen)\n",
    "testbild = pixel(testbild, 0, 0, 1)\n",
    "plot_image(testbild)\n",
    "\n",
    "testbild = pixel(testbild, 3, 3, 0)\n",
    "plot_image(testbild)\n",
    "\n",
    "testbild = pixel(testbild, 1, 6, 1)\n",
    "plot_image(testbild)"
   ]
  },
  {
   "cell_type": "code",
   "execution_count": null,
   "metadata": {},
   "outputs": [],
   "source": []
  }
 ],
 "metadata": {
  "kernelspec": {
   "display_name": "Python 3",
   "language": "python",
   "name": "python3"
  },
  "language_info": {
   "codemirror_mode": {
    "name": "ipython",
    "version": 3
   },
   "file_extension": ".py",
   "mimetype": "text/x-python",
   "name": "python",
   "nbconvert_exporter": "python",
   "pygments_lexer": "ipython3",
   "version": "3.8.3"
  }
 },
 "nbformat": 4,
 "nbformat_minor": 4
}
