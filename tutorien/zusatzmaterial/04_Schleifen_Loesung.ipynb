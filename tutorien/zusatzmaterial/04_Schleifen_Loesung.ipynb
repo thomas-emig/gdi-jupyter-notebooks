{
 "cells": [
  {
   "cell_type": "markdown",
   "metadata": {},
   "source": [
    "# Lösung des Tutorials Schleifen\n",
    "\n",
    "## Lösung 4-A\n",
    "\n",
    "Es soll hier eine Lösung für die Summe: \n",
    "\n",
    "$$ s = \\sum_{i = 1}^{n} i^{2} = 1^2 + 2^2 + \\dots + n^2 $$\n",
    "\n",
    "programmiert werden. Die Lösung ähnelt sehr der bereits bekannten Lösung für das Problem $$ s = \\sum_{i = 1}^{n} i = 1 + 2 + 3 + \\dots + n $$ mit der Ausnahme, dass diesmal in der i-ten Schleife nicht die Zahl **i** zu addieren ist sondern deren Quadrat. Somit ergibt sich als Lösung:"
   ]
  },
  {
   "cell_type": "code",
   "execution_count": null,
   "metadata": {},
   "outputs": [],
   "source": [
    "# parameter angeben\n",
    "n = int(input(\"Bitte Obere Grenze eingeben: \"))\n",
    "\n",
    "# Summe berechnen\n",
    "s = 0\n",
    "for i in range(1, n + 1):\n",
    "    s = s + i**2\n",
    "\n",
    "# Ergebnis ausgeben\n",
    "print(\"Das Ergebnis ist s=\" + str(s) + \".\")"
   ]
  },
  {
   "cell_type": "markdown",
   "metadata": {},
   "source": [
    "## Lösung 4-B\n",
    "\n",
    "Hier soll eine Lösung für die Summe: \n",
    "\n",
    "$$ s = \\sum_{i = 0}^{n - 1} k^i = k^0 + k^1 + \\dots + k^{n-1} $$\n",
    "\n",
    "erzeugt werden. Die entsprechende Lösung bedarf mehrerer Anpassungen im Vergleich zu Lösung 4-A:\n",
    "\n",
    "- es muss eine Variable **k** genutzt werden, die auch erst eingelesen werden muss. Somit gibt es am Anfang des kleinen Programmes zwei Eingabeparameter. Es wird hierbei angenommen, dass **k** ein <code>int</code>- Wert ist.\n",
    "- der Laufindex beginnt nun bei **0** und nicht bei 1 und endet be **n-1** und nicht bei n. Daher muss die Laufvariable entsprechend zu <code>for i in range(0,n):</code> angepasst werden. **n** ist hier erneut der obere Grenzwert, der nicht zum Intervall für **i** gehört.\n",
    "- der Exponent eines jeden Schleifenterms muss nun angepasst werden. Dieser lautet nun <code>k**i</code>."
   ]
  },
  {
   "cell_type": "code",
   "execution_count": null,
   "metadata": {},
   "outputs": [],
   "source": [
    "# parameter angeben\n",
    "n = int(input(\"Bitte Obere Grenze eingeben: \"))\n",
    "k = int(input(\"Bitte k angeben: \"))\n",
    "\n",
    "# Summe berechnen\n",
    "s = 0\n",
    "for i in range(0, n):\n",
    "    s = s + k**i\n",
    "\n",
    "# Ergebnis ausgeben\n",
    "print(\"Das Ergebnis ist s=\" + str(s) + \".\")"
   ]
  },
  {
   "cell_type": "markdown",
   "metadata": {},
   "source": [
    "## Lösung zu 4-C\n",
    "\n",
    "in dieser Aufgabe sollte die folgende Summe gebildet werden:\n",
    "$$ s = \\sum_{i = 1}^{n} \\frac{1}{i} = \\frac{1}{1} + \\frac{1}{2} + \\dots + \\frac{1}{n} $$\n",
    "Um dies zu lösen benötigen wir erneut die Einstellungen aus Aufgabe 4-A für die Indices (also i=1 bis n). Des Weiteren müssen wir den Term in der jeweiligen Summe anpassen. Es müssen also folgende Veränderungen durchgeführt werden:\n",
    "\n",
    "- der Laufindex beginnt bei **1** und endet bei **n**. Dies wird erreicht durch folgende for-Schleife:\n",
    "<code>for i in range(1,n+1)</code>. Beachten Sie erneut, dass n+1 die obere Schranke ist, die selbst **nicht** zum Wertebereich gehört.\n",
    "- die Summe muss zu <code>s = s + 1/i</code> angepasst werden. Wie sie dabei sehen, ist s damit kein <code>int</code> mehr, sondern muss ein <code>float</code>. Daher wird <code>s = 0.0</code> vor der for-Schleife defininiert."
   ]
  },
  {
   "cell_type": "code",
   "execution_count": null,
   "metadata": {},
   "outputs": [],
   "source": [
    "# parameter angeben\n",
    "n = int(input(\"Bitte Obere Grenze eingeben: \"))\n",
    "\n",
    "# Summe berechnen\n",
    "s = 0.0\n",
    "for i in range(1, n + 1):\n",
    "    s = s + 1/i\n",
    "\n",
    "# Ergebnis ausgeben\n",
    "print(\"Das Ergebnis ist s=\" + str(s) + \".\")"
   ]
  },
  {
   "cell_type": "code",
   "execution_count": null,
   "metadata": {},
   "outputs": [],
   "source": []
  }
 ],
 "metadata": {
  "kernelspec": {
   "display_name": "Python 3",
   "language": "python",
   "name": "python3"
  },
  "language_info": {
   "codemirror_mode": {
    "name": "ipython",
    "version": 3
   },
   "file_extension": ".py",
   "mimetype": "text/x-python",
   "name": "python",
   "nbconvert_exporter": "python",
   "pygments_lexer": "ipython3",
   "version": "3.5.2"
  }
 },
 "nbformat": 4,
 "nbformat_minor": 4
}
