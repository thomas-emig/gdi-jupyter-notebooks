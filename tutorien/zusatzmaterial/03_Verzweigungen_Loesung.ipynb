{
 "cells": [
  {
   "cell_type": "markdown",
   "metadata": {},
   "source": [
    "# Lösung zu Aufgabe 3-A\n",
    "Wenn eine Schulnote 4 oder besser ist, dann gilt eine Leistung als „belegt“, sonst als „nicht belegt“."
   ]
  },
  {
   "cell_type": "code",
   "execution_count": 4,
   "metadata": {},
   "outputs": [
    {
     "name": "stdout",
     "output_type": "stream",
     "text": [
      "Bitte Note eingeben: -3\n",
      "Die Leistung ist belegt\n"
     ]
    }
   ],
   "source": [
    "note = int(input(\"Bitte Note eingeben: \"))\n",
    "if note <= 4:\n",
    "    text = \"belegt\"\n",
    "else:\n",
    "    text = \"nicht belegt\"\n",
    "print(\"Die Leistung ist \" + text)"
   ]
  },
  {
   "cell_type": "markdown",
   "metadata": {},
   "source": [
    "# Lösung zu Aufgabe 3-B\n",
    "Wandeln Sie die Klausurzensuren, die Sie hier an der HM erhalten in entsprechende Texte um (siehe Tabelle).\n",
    "\n",
    "Note(n)        | Text\n",
    "---------------|-----------------\n",
    "1,0; 1,3       | Sehr gut\n",
    "1,7; 2,0; 2,3  | Gut\n",
    "2,7; 3,0; 3,3  | Befriedigend\n",
    "3,7; 4,0       | Ausreichend\n",
    "5,0            | Nicht bestanden\n",
    "\n",
    "Hierbei ist zu beachten, dass die Typkonvertierung zu Beginn nun zu einem <code>float</code> zu erfolgen hat. Danach müssen sie entsprechenden Notenintervalle definiert werden. Die Lösung unten ist in der Hinsicht fehleranfällig, als auch unbekannte Noten, wie z.B. 1.6 eingegeben werden könnten. Das Programm nimmt also an, dass gültige Noten eingegeben werden."
   ]
  },
  {
   "cell_type": "code",
   "execution_count": 9,
   "metadata": {},
   "outputs": [
    {
     "name": "stdout",
     "output_type": "stream",
     "text": [
      "Bitte Note eingeben: 1.6\n",
      "1.6 entspricht gut\n"
     ]
    }
   ],
   "source": [
    "note = float(input(\"Bitte Note eingeben: \"))\n",
    "if note <= 1.3:\n",
    "    text=\"sehr gut\"\n",
    "elif (note > 1.3) and (note <= 2.3):\n",
    "    text=\"gut\"\n",
    "elif (note > 2.3) and (note <= 3.3):\n",
    "    text=\"befriedigend\"\n",
    "elif (note > 3.3) and (note <= 4.0):\n",
    "    text=\"ausreichend\"\n",
    "elif (note > 4.0):\n",
    "    text=\"nicht bestanden\"\n",
    "else:\n",
    "    text=\"ungültig\"\n",
    "print(str(note) + \" entspricht \" + text)"
   ]
  },
  {
   "cell_type": "markdown",
   "metadata": {},
   "source": [
    "# Lösung zu Aufgabe 3-C\n",
    "Erstellen Sie eine Umwandlung von Punkten in Noten (rein hypothetische Tabelle!!!).\n",
    "\n",
    "Punkte | Note\n",
    "-------|------\n",
    "0-48   | 5,0\n",
    "49-56  | 4,0\n",
    "57-69  | 3,0\n",
    "70-81  | 2,0\n",
    "&gt;81 | 1,0\n",
    "\n",
    "Hier wird des Weiteren angenommen, dass die Punktezahl eine ganze Zahl ist sich zwischen 0 und 100 bewegt."
   ]
  },
  {
   "cell_type": "code",
   "execution_count": 12,
   "metadata": {},
   "outputs": [
    {
     "name": "stdout",
     "output_type": "stream",
     "text": [
      "Bitte Anzahl erreichter Punkte eingeben: 88\n",
      "88 Punkte entspricht Note 1.0.\n"
     ]
    }
   ],
   "source": [
    "punkte = int(input(\"Bitte Anzahl erreichter Punkte eingeben: \"))\n",
    "if punkte <= 48:\n",
    "    note = 5.0\n",
    "elif (punkte > 48) and (punkte <= 56):\n",
    "    note = 4.0\n",
    "elif (punkte > 56) and (punkte <= 69):\n",
    "    note = 3.0\n",
    "elif (punkte > 69) and (punkte <= 81):\n",
    "    note = 2.0\n",
    "elif punkte > 81:\n",
    "    note = 1.0\n",
    "print(str(punkte) + \" Punkte entspricht Note \" + str(note) + \".\")"
   ]
  },
  {
   "cell_type": "markdown",
   "metadata": {},
   "source": [
    "# Lösung zu Aufgabe 3-D\n",
    "\n",
    "Stellen Sie fest, ob es sich bei einem einzelnen eingegebenen Zeichen um eine Ziffer [0-9] handelt oder um ein beliebiges anderes Zeichen.\n",
    "\n",
    "Jedes Zeichen wird intern vom Computer als eine Zahl gespeichert. Welches Zeichen als welche Zahl gespeichert wird, wird durch verschiedene Codierungstabellen festgelegt. Besonders bekannte sind die ASCII Tabelle ( http://www.asciitable.com/ ) und die Unicode Tabelle ( https://unicode-table.com/en/ ). Diese beiden Tabellen sind im unteren Bereich gleich (die Unicode Tabelle umfasst viel mehr Zeichen). Diese beiden Tabellen werden wir auch in der Vorlesung noch kennen lernen.\n",
    "\n",
    "Um ein Zeichen in seine Unicode Repräsentation umzuwandeln, können Sie die Funktion <code>ord()</code> benutzen ( https://docs.python.org/3/library/functions.html#ord ).\n",
    "\n",
    "In der Lösung wird vereinfachend angenommen, dass nur eine einzige Ziffer oder ein einziger Buchstabe oder ein einziges Sonderzeichen eingegeben wird. Sobald sie eine Zahl, z.B. 42 eingeben, kann für diese keine Übersetzung in der ASCII Tabelle gefunden werden und das Programm bricht mit einem Fehler ab. Um dies zu vermeiden müsste zunächst noch getestet werden, ob nur ein einziges Zeichen eingegeben wurde."
   ]
  },
  {
   "cell_type": "code",
   "execution_count": 17,
   "metadata": {},
   "outputs": [
    {
     "name": "stdout",
     "output_type": "stream",
     "text": [
      "Bitte ein Zeichen eingeben: 4\n",
      "Sie haben eine Ziffer eingegeben.\n"
     ]
    }
   ],
   "source": [
    "zeichen = input(\"Bitte ein Zeichen eingeben: \")\n",
    "if (ord(zeichen) <= 57) and (ord(zeichen) >= 48):\n",
    "    print(\"Sie haben eine Ziffer eingegeben.\")\n",
    "else:\n",
    "    print(\"Sie haben keine Ziffer eingegeben.\")"
   ]
  },
  {
   "cell_type": "code",
   "execution_count": null,
   "metadata": {},
   "outputs": [],
   "source": []
  }
 ],
 "metadata": {
  "kernelspec": {
   "display_name": "Python 3",
   "language": "python",
   "name": "python3"
  },
  "language_info": {
   "codemirror_mode": {
    "name": "ipython",
    "version": 3
   },
   "file_extension": ".py",
   "mimetype": "text/x-python",
   "name": "python",
   "nbconvert_exporter": "python",
   "pygments_lexer": "ipython3",
   "version": "3.8.3"
  }
 },
 "nbformat": 4,
 "nbformat_minor": 4
}
