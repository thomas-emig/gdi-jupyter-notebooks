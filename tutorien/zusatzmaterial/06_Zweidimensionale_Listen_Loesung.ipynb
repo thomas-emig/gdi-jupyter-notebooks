{
 "cells": [
  {
   "cell_type": "markdown",
   "metadata": {},
   "source": [
    "# Lösung zweidimensionale Listen\n",
    "\n",
    "Es war folgendes einführendes Beispiel gegeben mit entsprechender Lösung\n",
    "\n",
    "## Einführendes Beispiel\n",
    "Alle Werte einer Wertespalte sollen in eine Zeile geschrieben werden (Transponieren). Die Anzahl der Werte ist vorgegeben und soll nicht veränderbar sein.\n",
    "\n",
    "Gegeben ist eine Liste mit 5 Werten in der ersten Spalte. Die gesuchte Python Zelle soll die Werte der ersten Spalte in die erste Zeile einer neuen Liste umkopieren, wobei die Reihenfolge erhalten bleiben soll. Der Wert aus Index [0][0] soll an der Stelle erhalten bleiben, [1][0] soll nach [0][1] kopiert werden, [2][0] nach [0][2] usw.\n",
    "\n",
    "**Aufgabe:** Welcher Zusammenhang gilt für Zeilen- und Spaltenindizes, damit die Zahlen korrekt kopiert werden?"
   ]
  },
  {
   "cell_type": "code",
   "execution_count": 1,
   "metadata": {},
   "outputs": [],
   "source": [
    "# Angabe\n",
    "angabe = [[6, 0, 0, 0, 0],\n",
    "          [2, 0, 0, 0, 0],\n",
    "          [7, 0, 0, 0, 0],\n",
    "          [3, 0, 0, 0, 0],\n",
    "          [4, 0, 0, 0, 0]\n",
    "         ]\n",
    "\n",
    "# in dieser Tabelle soll das Ergebnis gespeichert werden\n",
    "ergebnis = [[0, 0, 0, 0, 0],\n",
    "            [0, 0, 0, 0, 0],\n",
    "            [0, 0, 0, 0, 0],\n",
    "            [0, 0, 0, 0, 0],\n",
    "            [0, 0, 0, 0, 0]\n",
    "           ]"
   ]
  },
  {
   "cell_type": "code",
   "execution_count": 2,
   "metadata": {},
   "outputs": [
    {
     "name": "stdout",
     "output_type": "stream",
     "text": [
      "[6, 2, 7, 3, 4]\n",
      "[0, 0, 0, 0, 0]\n",
      "[0, 0, 0, 0, 0]\n",
      "[0, 0, 0, 0, 0]\n",
      "[0, 0, 0, 0, 0]\n"
     ]
    }
   ],
   "source": [
    "# Werte aus der ersten Spalte in die erste Zeile schreiben\n",
    "for i in range(5):\n",
    "    ergebnis[0][i] = angabe[i][0]\n",
    "\n",
    "# Ergebnis ausgeben\n",
    "for i in range(5):\n",
    "    print(ergebnis[i])"
   ]
  },
  {
   "cell_type": "markdown",
   "metadata": {},
   "source": [
    "## Lösung Aufgabe 6-A\n",
    "\n",
    "Ziel ist:\n",
    "\n",
    "<code>4, 0, 0, 0, 0\n",
    "3, 0, 0, 0, 0\n",
    "7, 0, 0, 0, 0\n",
    "2, 0, 0, 0, 0\n",
    "6, 0, 0, 0, 0</code>"
   ]
  },
  {
   "cell_type": "code",
   "execution_count": 3,
   "metadata": {},
   "outputs": [
    {
     "name": "stdout",
     "output_type": "stream",
     "text": [
      "[4, 0, 0, 0, 0]\n",
      "[3, 0, 0, 0, 0]\n",
      "[7, 0, 0, 0, 0]\n",
      "[2, 0, 0, 0, 0]\n",
      "[6, 0, 0, 0, 0]\n"
     ]
    }
   ],
   "source": [
    "# ergebnis wieder in den Ursprungszustand versetzen\n",
    "ergebnis = [[0, 0, 0, 0, 0],\n",
    "            [0, 0, 0, 0, 0],\n",
    "            [0, 0, 0, 0, 0],\n",
    "            [0, 0, 0, 0, 0],\n",
    "            [0, 0, 0, 0, 0]\n",
    "           ]\n",
    "\n",
    "for i in range(5):\n",
    "    ergebnis[i][0] = angabe[4-i][0]\n",
    "    \n",
    "# Ergebnis ausgeben\n",
    "for i in range(5):\n",
    "    print(ergebnis[i])"
   ]
  },
  {
   "cell_type": "markdown",
   "metadata": {},
   "source": [
    "## Lösung Aufgabe 6-B\n",
    "\n",
    "Ziel ist\n",
    "\n",
    "<code>6, 0, 0, 0, 0\n",
    "0, 2, 0, 0, 0\n",
    "0, 0, 7, 0, 0\n",
    "0, 0, 0, 3, 0\n",
    "0, 0, 0, 0, 4</code>"
   ]
  },
  {
   "cell_type": "code",
   "execution_count": 4,
   "metadata": {},
   "outputs": [
    {
     "name": "stdout",
     "output_type": "stream",
     "text": [
      "[6, 0, 0, 0, 0]\n",
      "[0, 2, 0, 0, 0]\n",
      "[0, 0, 7, 0, 0]\n",
      "[0, 0, 0, 3, 0]\n",
      "[0, 0, 0, 0, 4]\n"
     ]
    }
   ],
   "source": [
    "# ergebnis wieder in den Ursprungszustand versetzen\n",
    "ergebnis = [[0, 0, 0, 0, 0],\n",
    "            [0, 0, 0, 0, 0],\n",
    "            [0, 0, 0, 0, 0],\n",
    "            [0, 0, 0, 0, 0],\n",
    "            [0, 0, 0, 0, 0]\n",
    "           ]\n",
    "\n",
    "for i in range(5):\n",
    "    ergebnis[i][i] = angabe[i][0]\n",
    "    \n",
    "# Ergebnis ausgeben\n",
    "for i in range(5):\n",
    "    print(ergebnis[i])"
   ]
  },
  {
   "cell_type": "markdown",
   "metadata": {},
   "source": [
    "## Lösung Aufgabe 6-C\n",
    "\n",
    "Ziel ist:\n",
    "\n",
    "<code>0, 0, 0, 0, 6\n",
    "0, 0, 0, 2, 0\n",
    "0, 0, 7, 0, 0\n",
    "0, 3, 0, 0, 0\n",
    "4, 0, 0, 0, 0</code>"
   ]
  },
  {
   "cell_type": "code",
   "execution_count": 5,
   "metadata": {},
   "outputs": [
    {
     "name": "stdout",
     "output_type": "stream",
     "text": [
      "[0, 0, 0, 0, 6]\n",
      "[0, 0, 0, 2, 0]\n",
      "[0, 0, 7, 0, 0]\n",
      "[0, 3, 0, 0, 0]\n",
      "[4, 0, 0, 0, 0]\n"
     ]
    }
   ],
   "source": [
    "# ergebnis wieder in den Ursprungszustand versetzen\n",
    "ergebnis = [[0, 0, 0, 0, 0],\n",
    "            [0, 0, 0, 0, 0],\n",
    "            [0, 0, 0, 0, 0],\n",
    "            [0, 0, 0, 0, 0],\n",
    "            [0, 0, 0, 0, 0]\n",
    "           ]\n",
    "\n",
    "for i in range(5):\n",
    "    ergebnis[i][4-i] = angabe[i][0]\n",
    "    \n",
    "# Ergebnis ausgeben\n",
    "for i in range(5):\n",
    "    print(ergebnis[i])"
   ]
  },
  {
   "cell_type": "markdown",
   "metadata": {},
   "source": [
    "## Lösung Aufgabe 6-D\n",
    "\n",
    "Ziel ist:\n",
    "\n",
    "<code>6, 0, 0, 0, 0\n",
    "2, 2, 0, 0, 0\n",
    "7, 7, 7, 0, 0\n",
    "3, 3, 3, 3, 0\n",
    "4, 4, 4, 4, 4</code>"
   ]
  },
  {
   "cell_type": "code",
   "execution_count": 6,
   "metadata": {},
   "outputs": [
    {
     "name": "stdout",
     "output_type": "stream",
     "text": [
      "[6, 0, 0, 0, 0]\n",
      "[2, 2, 0, 0, 0]\n",
      "[7, 7, 7, 0, 0]\n",
      "[3, 3, 3, 3, 0]\n",
      "[4, 4, 4, 4, 4]\n"
     ]
    }
   ],
   "source": [
    "# ergebnis wieder in den Ursprungszustand versetzen\n",
    "ergebnis = [[0, 0, 0, 0, 0],\n",
    "            [0, 0, 0, 0, 0],\n",
    "            [0, 0, 0, 0, 0],\n",
    "            [0, 0, 0, 0, 0],\n",
    "            [0, 0, 0, 0, 0]\n",
    "           ]\n",
    "\n",
    "for i in range(5):\n",
    "    for j in range(i+1):\n",
    "        ergebnis[i][j] = angabe[i][0]\n",
    "    \n",
    "# Ergebnis ausgeben\n",
    "for i in range(5):\n",
    "    print(ergebnis[i])"
   ]
  },
  {
   "cell_type": "markdown",
   "metadata": {},
   "source": [
    "## Lösung zu Aufgabe 6-E\n",
    "\n",
    "Ziel ist:\n",
    "\n",
    "<code>6, 0, 0, 0, 0\n",
    "2, 0, 0, 0, 0\n",
    "0, 7, 0, 0, 0\n",
    "0, 3, 0, 0, 0\n",
    "4, 0, 0, 0, 0</code>\n",
    "\n",
    "Die geraden Zahlen sollen in Spalte 0 sortiert werden und die ungeraden Zahlen in Spalte 1.\n",
    "\n",
    "**Hinweis:** Verwenden Sie den Modulo Operator <code>%</code> zur Bestimmung der geraden und ungeraden Zahlen:\n",
    "- **Gerade Zahl**: <code>x % 2</code> ergibt den Wert 0.\n",
    "- **Ungerade Zahl**: <code>x % 2</code> ergibt einen Wert ungleich 0.\n",
    "- Zur Erinnerung: Die Operatoren für numerische Variablen finden Sie hier: https://docs.python.org/3/library/stdtypes.html#numeric-types-int-float-complex"
   ]
  },
  {
   "cell_type": "code",
   "execution_count": 7,
   "metadata": {},
   "outputs": [
    {
     "name": "stdout",
     "output_type": "stream",
     "text": [
      "[6, 0, 0, 0, 0]\n",
      "[2, 0, 0, 0, 0]\n",
      "[0, 7, 0, 0, 0]\n",
      "[0, 3, 0, 0, 0]\n",
      "[4, 0, 0, 0, 0]\n"
     ]
    }
   ],
   "source": [
    "# ergebnis wieder in den Ursprungszustand versetzen\n",
    "ergebnis = [[0, 0, 0, 0, 0],\n",
    "            [0, 0, 0, 0, 0],\n",
    "            [0, 0, 0, 0, 0],\n",
    "            [0, 0, 0, 0, 0],\n",
    "            [0, 0, 0, 0, 0]\n",
    "           ]\n",
    "\n",
    "for i in range(5):\n",
    "    if angabe[i][0] % 2 == 0:\n",
    "        ergebnis[i][0] = angabe[i][0]\n",
    "    else:\n",
    "        ergebnis[i][1] = angabe[i][0]\n",
    "    \n",
    "# Ergebnis ausgeben\n",
    "for i in range(5):\n",
    "    print(ergebnis[i])"
   ]
  },
  {
   "cell_type": "code",
   "execution_count": null,
   "metadata": {},
   "outputs": [],
   "source": []
  }
 ],
 "metadata": {
  "kernelspec": {
   "display_name": "Python 3",
   "language": "python",
   "name": "python3"
  },
  "language_info": {
   "codemirror_mode": {
    "name": "ipython",
    "version": 3
   },
   "file_extension": ".py",
   "mimetype": "text/x-python",
   "name": "python",
   "nbconvert_exporter": "python",
   "pygments_lexer": "ipython3",
   "version": "3.8.3"
  }
 },
 "nbformat": 4,
 "nbformat_minor": 4
}
