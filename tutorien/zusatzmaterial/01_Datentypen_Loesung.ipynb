{
 "cells": [
  {
   "cell_type": "markdown",
   "metadata": {},
   "source": [
    "# 1. Datentypen\n",
    "Für die Lösung des Tutorials \"Datentypen\" werden wir der Vorlesung etwas vorwegnehmen und einige Konstrukte nutzen, die erst später in der Vorlesungen näher diskutiert werden. Dadurch vermeiden wir allerdings die Eingabe der verschiedenen Daten, die Sie von Hand vorgenommen haben sollten, und sind in der Lage Ihnen eine vollständige Lösung zu präsentieren.\n",
    "\n",
    "Sollten Sie Probleme haben, die Details der Lösung zu verstehen, so ist dies im Moment nicht problematisch. Konzentrieren Sie sich in diesem Fall bitte auf das genaue Analysieren der Lösungen ganz unten.\n",
    "\n",
    "## Definition der verschiedenen Datentypen für unsere Lösung\n",
    "Wir definieren drei **Arrays** in Python. Arrays sind Felder, die beliebige Datentypen enthalten können. In unserem Fall enthält <code>aArray</code> stets the ersten Operanden, <code>bArray</code> den zweiten Operanden und <code>opArray</code> den jeweiligen Operatoren, also die Addition, die Substraktion, die Division und die Multiplikation."
   ]
  },
  {
   "cell_type": "code",
   "execution_count": null,
   "metadata": {},
   "outputs": [],
   "source": [
    "aArray = [2, 3.5, True, 'Hallo']\n",
    "bArray = [3, 4.5, False, 'World']\n",
    "opArray = ['+', '-', '/', '*']"
   ]
  },
  {
   "cell_type": "markdown",
   "metadata": {},
   "source": [
    "Array-Werte können einfach ausgelesen werden, indem eine eckige Klammer mit dem Index angeführt wird, zum Beispiel:"
   ]
  },
  {
   "cell_type": "code",
   "execution_count": null,
   "metadata": {},
   "outputs": [],
   "source": [
    "print(\"aArray[0]: \", aArray[0])\n",
    "print(\"bArray[1]: \", bArray[0])\n",
    "print(\"opArray[3]: \", opArray[3])\n"
   ]
  },
  {
   "cell_type": "markdown",
   "metadata": {},
   "source": [
    "Dabei sehen Sie bereits eine Besonderheit, denn das erste Element in einem Array hat **nicht** den Index 1, sondern den Index **0**. Dies ist durch die binäre Zahlendarstellung in Computern begründet, bei denen das erste Element mit **0** beginnt."
   ]
  },
  {
   "cell_type": "markdown",
   "metadata": {},
   "source": [
    "## Schleifen\n",
    "Nachdem wir die Arrays eingeführt haben, werden wir nachfolgend ganz kurz (und oberflächlich) Schleifen einführen. Es gibt eine Vielzahl unterschiedlicher Schleifendefinitionen. Hier verwenden wir eine Alternative:"
   ]
  },
  {
   "cell_type": "code",
   "execution_count": null,
   "metadata": {},
   "outputs": [],
   "source": [
    "for i in range(0, len(aArray)):\n",
    "    for j in range (0, len(bArray)):\n",
    "        for k in range(0, len(opArray)):\n",
    "            print(\"i: \", i, \" j: \", j, \" k: \", k)"
   ]
  },
  {
   "cell_type": "markdown",
   "metadata": {},
   "source": [
    "Alle 3 ineinander verschachtelten Schleifen werden mit den Indices **0, 1, 2, 3** durchlaufen. Dies passiert dadurch, dass der code sagt <code>for i in range(0, len(aArray))</code>. **i, j, k** sind die jeweiligen Indices, wie die 3 Arrays durchlaufen werden. <code>for i in</code> bedeutet, dass i innerhalb des nachfolgend definierten Wertebereichs ist. <code>range(0, len(aArray))</code> definiert nun einen Wertebereich von **0** bis zur Länge (*len*) von aArray. <code>aArray</code> hat eine Länge von 4 (es befinden sich 4 Elemente im Array). Das Gleiche gilt für <code>bArray</code> und <code>opArray</code>.\n",
    "\n",
    "Die Werte sind dann 0, 1, 2, 3 weil diese $$0 \\le a <4$$ sind. Der zweite Wert **y** bei <code>range(x,y)</code> definiert nämlich die Obergrenze, die selbst nicht mehr zum Intervall gehört."
   ]
  },
  {
   "cell_type": "markdown",
   "metadata": {},
   "source": [
    "## Verzweigungen\n",
    "Das nächste Konstrukt, das wir erst später in der Vorlesung näher behandeln werden, sind Verzweigungen\n",
    "<code>\n",
    "    if(Bedingung):\n",
    "        do_something\n",
    "    elif(alternative Bedingung):\n",
    "        do_something_else\n",
    "    else:\n",
    "        do_something_else\n",
    "</code>\n",
    "Hierbei wird von **Verzweigungen** gesprochen, die jeweils eine Bedingung haben. Wenn die Bedingung nach **if** erfüllt ist, dann wird nur der Code-Block direkt nach dem if ausgeführt. Falls die Bedingung nicht erfüllbar ist, dann wird die nächste mögliche Bedinungung unter **elif** getestet und der Block ggf. ausgefüllt. Als letzte Alternative wird der Block nach else ausgeführt (alle anderen vorherigen Bedingungen konnten nicht erfüllt werden).\n",
    "\n",
    "Wir nutzen dies um zwischen den Operationen zu unterscheiden:"
   ]
  },
  {
   "cell_type": "code",
   "execution_count": null,
   "metadata": {},
   "outputs": [],
   "source": [
    "a = aArray[2]\n",
    "b = bArray[1]\n",
    "operation = opArray[2]\n",
    "\n",
    "if(operation == \"+\"):\n",
    "    c = a + b\n",
    "elif(operation == \"-\"):\n",
    "    c = a - b\n",
    "elif(operation == \"/\"):\n",
    "    c = a/b\n",
    "else:\n",
    "    c = a*b"
   ]
  },
  {
   "cell_type": "markdown",
   "metadata": {},
   "source": [
    "## Ausnahmebehandlung\n",
    "\n",
    "Das letzte Konstrukt, dem wir bereits vorgreifen, sind Ausnahmebehandlungen. Hierbei kann nach dem Schlüsselwort <code>try</code> etwas ausgeführt werden, was eventuell fehlerhaft ist und falls es fehlerhaft ist, wird der Fehler nach <code>except</code> wieder \"eingefangen\" und mit der Bearbeitung weitergemacht. Auf diese Weise können mögliche Programmfehler während der Ausführung aufgefangen werden. Wir nutzen das für alle nicht mögliche Operationen für einige Datentypen und geben dann aus, dass die entsprechende Operation nicht ausgeführt werden kann."
   ]
  },
  {
   "cell_type": "markdown",
   "metadata": {},
   "source": [
    "# Code\n",
    "\n",
    "Damit ergibt sich der folgende Programmcode (den Sie, wie bereits angemerkt, im Moment nicht bis ins letzte Detail verstehen müssen. Analysieren Sie aber die Ergebnisse bitte sehr genau."
   ]
  },
  {
   "cell_type": "code",
   "execution_count": null,
   "metadata": {},
   "outputs": [],
   "source": [
    "aArray = [2, 3.5, True, 'Hallo']\n",
    "bArray = [3, 4.5, False, 'World']\n",
    "opArray = ['+', '-', '/', '*']\n",
    "\n",
    "for i in range(0, len(aArray)):\n",
    "    for j in range (0, len(bArray)):\n",
    "        for k in range(0, len(opArray)):\n",
    "            a = aArray[i]\n",
    "            b = bArray[j]\n",
    "            operation = opArray[k]\n",
    "            \n",
    "            print(\"------------------------------------------\")\n",
    "            print(\"Eingabe:\")\n",
    "            print(\"    a : \", end=\"\")\n",
    "            print(type(a), end=\"\")\n",
    "            print(\", \", end=\"\")\n",
    "            print(a)\n",
    "            print(\"Operation: \", operation)       \n",
    "            print(\"    b : \", end=\"\")\n",
    "            print(type(b), end=\"\")\n",
    "            print(\", \", end=\"\")\n",
    "            print(b)\n",
    "            \n",
    "\n",
    "            # hier verschiedene Grundrechenarten ausprobieren (+, -, *, /, ...)\n",
    "            try:\n",
    "                if(operation == \"+\"):\n",
    "                    c = a + b\n",
    "                elif(operation == \"-\"):\n",
    "                    c = a - b\n",
    "                elif(operation == \"/\"):\n",
    "                    c = a/b\n",
    "                else:\n",
    "                    c = a*b\n",
    "                print(\"Ausgabe:\")\n",
    "                print(\"    c : \", end=\"\")\n",
    "                print(type(c), end=\"\")\n",
    "                print(\", \", end=\"\")\n",
    "                print(c)\n",
    "            except:\n",
    "                print(\"Operation nicht möglich\")"
   ]
  },
  {
   "cell_type": "markdown",
   "metadata": {},
   "source": [
    "## Ergebnis\n",
    "\n",
    "Die verschiedenen Ergebnisse, die zum Tutorial gehören sehen dann folgendermassen aus:\n",
    "\n",
    "| Addition(+) |   int   |  float  | boolean | string  |\n",
    "|-------------|---------|---------|---------|---------|\n",
    "| int         |   ok    |   ok    |   ok    |   --    |\n",
    "| float       |   ok    |   ok    |   ok    |   --    |\n",
    "| boolean     |   ok    |   ok    |   ok    |   --    |\n",
    "| string      |   --    |   --    |   --    |   ok    |\n",
    "\n",
    "\n",
    "| Multiplikation(*) |   int   |  float  | boolean | string  |\n",
    "|-------------------|---------|---------|---------|---------|\n",
    "| int               |   ok    |   ok    |   ok    |   ok    |\n",
    "| float             |   ok    |   ok    |   ok    |   ok    |\n",
    "| boolean           |   ok    |   ok    |   ok    |   ok    |\n",
    "| string            |   ok    |   ok    |   ok    |   ok    |\n",
    "\n",
    "\n",
    "| Subtraktion(-) |   int   |  float  | boolean | string  |\n",
    "|----------------|---------|---------|---------|---------|\n",
    "| int            |   ok    |   ok    |   ok    |   --    |\n",
    "| float          |   ok    |   ok    |   ok    |   --    |\n",
    "| boolean        |   ok    |   ok    |   ok    |   --    |\n",
    "| string         |   --    |   --    |   --    |   --    |\n",
    "\n",
    "\n",
    "| Division(/) |   int   |  float  | boolean | string  |\n",
    "|-------------|---------|---------|---------|---------|\n",
    "| int         |   ok    |   ok    |   ok    |   --    |\n",
    "| float       |   ok    |   ok    |   ok    |   --    |\n",
    "| boolean     |   ok    |   ok    |   ok    |   --    |\n",
    "| string      |   --    |   --    |   --    |   --    |"
   ]
  },
  {
   "cell_type": "code",
   "execution_count": null,
   "metadata": {},
   "outputs": [],
   "source": []
  }
 ],
 "metadata": {
  "kernelspec": {
   "display_name": "Python 3",
   "language": "python",
   "name": "python3"
  },
  "language_info": {
   "codemirror_mode": {
    "name": "ipython",
    "version": 3
   },
   "file_extension": ".py",
   "mimetype": "text/x-python",
   "name": "python",
   "nbconvert_exporter": "python",
   "pygments_lexer": "ipython3",
   "version": "3.5.2"
  }
 },
 "nbformat": 4,
 "nbformat_minor": 4
}
