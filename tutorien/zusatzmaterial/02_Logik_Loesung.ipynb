{
 "cells": [
  {
   "cell_type": "markdown",
   "metadata": {},
   "source": [
    "# Lösung zum Jupyter notebook 02_Logik\n",
    "\n",
    "Einige der Konstrukte im Tutorial waren neu und sollen kurz näher erläutert werden."
   ]
  },
  {
   "cell_type": "markdown",
   "metadata": {},
   "source": [
    "Wir kennen bereits die Ausgabe via <code>print()</code>, die wir auch bereits für die gängigen Datentypen genutzt haben.\n",
    "\n",
    "## Eingabe\n",
    "Die Methode <code>input()</code> ist in der Lage Nutzereingaben von der Kommandozeile aufzunehmen. Das Resultat ist dabei stets vom Typ String. Versuchen Sie zum Beispiel eine Zahl einzugeben:"
   ]
  },
  {
   "cell_type": "code",
   "execution_count": 7,
   "metadata": {},
   "outputs": [
    {
     "name": "stdout",
     "output_type": "stream",
     "text": [
      "Bitte geben Sie eine Zahl ein:42\n",
      "Die Eingabe war:42 vom Typ: <class 'str'>\n"
     ]
    }
   ],
   "source": [
    "a = input(\"Bitte geben Sie eine Zahl ein:\")\n",
    "print(\"Die Eingabe war:\" + a + \" vom Typ: \" + str(type(a)))"
   ]
  },
  {
   "cell_type": "markdown",
   "metadata": {},
   "source": [
    "## Konvertierung\n",
    "\n",
    "Da wir in dem Logik Beispiel den Datentyp integer benötigen, wandeln wir die String-Eingabe mittels <code>int()</code> in einen Integer um. Versuchen Sie dazu bitte das folgende Beispiel:"
   ]
  },
  {
   "cell_type": "code",
   "execution_count": 13,
   "metadata": {},
   "outputs": [
    {
     "name": "stdout",
     "output_type": "stream",
     "text": [
      "Bitte geben Sie eine Zahl ein:42\n",
      "Die Eingabe war:42 vom Typ: <class 'str'>\n",
      "Nach Konvertierung liegt der folgende Datentyp vor:<class 'int'>\n",
      "46\n"
     ]
    }
   ],
   "source": [
    "a = input(\"Bitte geben Sie eine Zahl ein:\")\n",
    "x = 5\n",
    "print(\"Die Eingabe war:\" + a + \" vom Typ: \" + str(type(a)))\n",
    "c = int(a)\n",
    "print(\"Nach Konvertierung liegt der folgende Datentyp vor:\"+str(type(c)))\n",
    "b = c + 4\n",
    "print(b)"
   ]
  },
  {
   "cell_type": "markdown",
   "metadata": {},
   "source": [
    "**Beachten** Sie bitte dabei, dass wir <code>str(type(anInt))</code> schreiben müssen, da <code>print()</code> nur String Ausgaben miteinander verketten (+) kann."
   ]
  },
  {
   "cell_type": "markdown",
   "metadata": {},
   "source": [
    "Im Logik Tutorial wurden die Eingaben direkt in Integer gewandelt. Die Methodenaufrufe können also entsprechend geschachtelt werden:"
   ]
  },
  {
   "cell_type": "code",
   "execution_count": null,
   "metadata": {},
   "outputs": [],
   "source": [
    "# Eingabe des Bereichs [a, b]:\n",
    "a = int(input(\"Bitte Wert für a eingeben: \")) # Ein Kommentar\n",
    "b = int(input(\"Bitte Wert für b eingeben: \")) ## noch ein Kommentar"
   ]
  },
  {
   "cell_type": "markdown",
   "metadata": {},
   "source": [
    "## Kommentare\n",
    "Des Weiteren haben wir in den Beispielen Code-Kommentare genutzt. \n",
    "Mit <code>#</code> können Kommentare spezifiziert werden. Alles was nach dem Hash-Zeichen kommt Bestandteil der Kommentare und wird vom Python Interpreter nicht beachtet. \n",
    "Kommentare sind in gutem Programm-Code unabdingbar, denn dadurch bleibt der Code langfristig wartbar, indem Kommentare helfen zu verstehen, was eigentlich durch den Code realisiert wird."
   ]
  },
  {
   "cell_type": "markdown",
   "metadata": {},
   "source": [
    "## Verzweigungen\n",
    "Das Logik-Tutorial hat auch erste Verzweigungen genutzt, die noch mit mehr Details in der Vorlesung vorgestellt werden. Dies soll hier jedoch ganz kurz behandelt werden.\n",
    "Mit der Struktur:\n",
    "<code>\n",
    "if (Bedingung 1):\n",
    "    a = 1\n",
    "elif (Bedingung 2):\n",
    "    a = 2\n",
    "else:\n",
    "    a = 3\n",
    "b = 3\n",
    "</code>\n",
    "können einfach Verzweigungen definiert werden. In dem obigen Beispiel wir der Variable a der Wert 1 zugewiesen, wenn die Bedingung 1 erfüllt ist. Der Rest der Verzweigungsanweisung wird dann nicht ausgeührt sondern an das Ende gesprungen. Sollte Bedingung 1 nicht gültig sein, so wird Bedingung 2 überprüft und gegebenenfalls der Wert 2 der Variablen a zugeordnet. Es kann beliebig viele solche <code>elif</code> Anweisungen geben. Am Ende kann ein <code>else</code> spezifiziert werden, was alle anderen möglichen Bedinungen einfängt. Wenn also keine der vorherigen Bedingungen erfüllt wurde, so wird der Code nach <code>else</code> ausgeführt."
   ]
  },
  {
   "cell_type": "markdown",
   "metadata": {},
   "source": [
    "## Einrückung\n",
    "\n",
    "Neben den Schlüsselwörtern <code>if, elif, else</code> und dem jeweils nachfolgenden **:** (Doppelpunkt) ist die **Einrückung** elementar. Python ist eine Sprache, die keine geschweifte Klammern <code>{}</code>, wie etwa die Programmiersprachen **C, C++, Java** nutzt, sondern die Struktur durch Einrückung sicherstellt.\n",
    "Somit werden alle Zeilen nach der jeweiligen Bedingung ausgeführt, sofern diese eingerückt sind. Dazu ein Beispiel:"
   ]
  },
  {
   "cell_type": "code",
   "execution_count": null,
   "metadata": {},
   "outputs": [],
   "source": [
    "a = 5\n",
    "if (a == 4):\n",
    "    b = 4\n",
    "    c = 4\n",
    "elif (a == 7):\n",
    "    b = 3\n",
    "    c = 7\n",
    "elif (a == 9):\n",
    "    b = 42\n",
    "else:\n",
    "    b = 6\n",
    "    c = 8\n",
    "b = 7\n",
    "print(\"b:\", b)\n",
    "print(\"c:\", c)\n",
    "if (a == 3):\n",
    "    b = 4\n",
    "x = 3\n",
    "if (a == 5):\n",
    "    b = 4\n",
    "else:\n",
    "    b = 5\n",
    "y = 3"
   ]
  },
  {
   "cell_type": "markdown",
   "metadata": {},
   "source": [
    "Wie Sie sehen können, sind die einzelnen Blöcke eingerückt und werden dann entsprechend vollständig ausgeführt.\n",
    "Am Ende dieses Code-Abschnittes hat die Variable <code>b</code> den Wert 7, da die letzte Zeile nicht eingerückt ist und auf jeden Fall ausgeführt wird. <code>c</code> hat den Wert 8, da der <code>else</code> Zweig ausgeführt wurde.\n",
    "\n",
    "### Praktischer Hinweis zum Einrücken\n",
    "\n",
    "Prinzipiell ist jede Einrückung in Python erlaubt und die Tiefe der Einrückung bestimmt die Ausführung des Codes. In manchen Fällen kann dies jedoch zu Problemen führen, wenn verschiedene Editoren verschiedene Einrücktiefen oder auch verschiedene Zeichen zur Einrückung benutzen. \n",
    "Zum Einrücken können einfache Leerzeichen (Space) oder Tabs genutzt werden. Damit Python Code möglichst generalistisch austauschbar ist, werden in aller Regel 4xSpaces als Einrücktiefe genutzt. Daher ist es ratsam die verschiedenen Editoren so zu konfigurieren, dass das Drücken der **Tab-Taste** kein Tab, sondern 4 Spaces einfügt. "
   ]
  },
  {
   "cell_type": "markdown",
   "metadata": {},
   "source": [
    "## Lösung Aufgabe 2-A\n",
    "\n",
    "Für die Lösung zu Aufgabe 2-A müssen nur die Vergleichsoperatoren ausgetauscht werden. Da nun in beiden Fällen die Intervallgrenzen nicht mehr Teil der Lösung sind, werden die beiden Vergleichsoperatoren <code> <=, >= </code> durch die beiden Operatoren <code> <, > </code> ausgetauscht. Des Weiteren müssen die Antworttexte minimal verändert werden. Die Lösung sieht dann wie folgt aus:"
   ]
  },
  {
   "cell_type": "code",
   "execution_count": null,
   "metadata": {},
   "outputs": [],
   "source": [
    "# Eingabe des Bereichs [a, b]:\n",
    "a = int(input(\"Bitte Wert für a eingeben: \"))\n",
    "b = int(input(\"Bitte Wert für b eingeben: \"))\n",
    "\n",
    "# Prüfe, ob die Bereichsgrenzen gültig sind:\n",
    "if a < b:\n",
    "    print(\"Bereichsgrenzen gültig!\")\n",
    "else:\n",
    "    print(\"Bereichsgrenzen ungültig! Bitte neue Werte eingeben.\")\n",
    "    \n",
    "\n",
    "# Eingabe von x:\n",
    "x = int(input(\"Bitte Wert für x eingeben: \"))\n",
    "\n",
    "# Prüfe, ob x im Bereich [a, b] liegt:\n",
    "if (a < x) and (x < b):\n",
    "    print(str(x) + \" liegt im Bereich ]\" + str(a) + \", \" + str(b) + \"[\")\n",
    "else:\n",
    "    print(str(x) + \" liegt nicht im Bereich ]\" + str(a) + \", \" + str(b) + \"[\")"
   ]
  },
  {
   "cell_type": "markdown",
   "metadata": {},
   "source": [
    "## Lösung Aufgabe 2-B\n",
    "\n",
    "Nun sollen alle Werte außerhalb von $$[a,b]$$ liegen. Das kann erreicht werden durch einen Wert kleiner als a oder einen Wert größer als b. Die Lösung muss den boolschen Operatoren und die Vergleichsoperatoren austauschen (und natürlich den Ausgabetext)."
   ]
  },
  {
   "cell_type": "code",
   "execution_count": null,
   "metadata": {},
   "outputs": [],
   "source": [
    "# Eingabe des Bereichs [a, b]:\n",
    "a = int(input(\"Bitte Wert für a eingeben: \"))\n",
    "b = int(input(\"Bitte Wert für b eingeben: \"))\n",
    "\n",
    "# Prüfe, ob die Bereichsgrenzen gültig sind:\n",
    "if a < b:\n",
    "    print(\"Bereichsgrenzen gültig!\")\n",
    "else:\n",
    "    print(\"Bereichsgrenzen ungültig! Bitte neue Werte eingeben.\")\n",
    "    \n",
    "\n",
    "# Eingabe von x:\n",
    "x = int(input(\"Bitte Wert für x eingeben: \"))\n",
    "\n",
    "# Prüfe, ob x im Bereich [a, b] liegt:\n",
    "if (a > x) or (x > b):\n",
    "    print(str(x) + \" liegt ausserhalb [\" + str(a) + \", \" + str(b) + \"]\")\n",
    "else:\n",
    "    print(str(x) + \" liegt innerhalb [\" + str(a) + \", \" + str(b) + \"]\")"
   ]
  },
  {
   "cell_type": "markdown",
   "metadata": {},
   "source": [
    "## Lösung Aufgabe 2-C\n",
    "\n",
    "Nun soll der Wert x folgende Bedinungen erfüllen $$x \\in [a,b], x > 0$$. Dadurch muss eine boolsche Bedingung zum if hinzugefügt werden und die Intervalle wieder verändert werden."
   ]
  },
  {
   "cell_type": "code",
   "execution_count": null,
   "metadata": {},
   "outputs": [],
   "source": [
    "# Eingabe des Bereichs [a, b]:\n",
    "a = int(input(\"Bitte Wert für a eingeben: \"))\n",
    "b = int(input(\"Bitte Wert für b eingeben: \"))\n",
    "\n",
    "# Prüfe, ob die Bereichsgrenzen gültig sind:\n",
    "if a < b:\n",
    "    print(\"Bereichsgrenzen gültig!\")\n",
    "else:\n",
    "    print(\"Bereichsgrenzen ungültig! Bitte neue Werte eingeben.\")\n",
    "    \n",
    "\n",
    "# Eingabe von x:\n",
    "x = int(input(\"Bitte Wert für x eingeben: \"))\n",
    "\n",
    "# Prüfe, ob x im Bereich [a, b] liegt:\n",
    "if (a <= x) and (x <= b) and (x > 0):\n",
    "    print(str(x) + \" liegt innerhalb [\" + str(a) + \", \" + str(b) + \"] und ist grösser als 0\")\n",
    "else:\n",
    "    print(str(x) + \" liegt nicht innerhalb [\" + str(a) + \", \" + str(b) + \"] oder ist kleiner als 0\")"
   ]
  },
  {
   "cell_type": "markdown",
   "metadata": {},
   "source": [
    "## Lösung Aufgabe 2-D\n",
    "\n",
    "Nun soll der Wert x in den Bereichen [a,b] oder [-b,-a] liegen. Damit ergibt sich folgende Lösungsmöglichkeit:"
   ]
  },
  {
   "cell_type": "code",
   "execution_count": null,
   "metadata": {},
   "outputs": [],
   "source": [
    "# Eingabe des Bereichs [a, b]:\n",
    "a = int(input(\"Bitte Wert für a eingeben: \"))\n",
    "b = int(input(\"Bitte Wert für b eingeben: \"))\n",
    "    \n",
    "\n",
    "# Eingabe von x:\n",
    "x = int(input(\"Bitte Wert für x eingeben: \"))\n",
    "\n",
    "\n",
    "IstInBereichPos = ( a <= x) and (x <=  b)\n",
    "IstInBereichNeg = (-b <= x) and (x <= -a)\n",
    "if IstInBereichPos or IstInBereichNeg:\n",
    "    print(str(x) + \" liegt im angegebenen Bereich.\")\n",
    "else:\n",
    "    print(str(x) + \" liegt außerhalb des angegebenen Bereichs.\")"
   ]
  },
  {
   "cell_type": "markdown",
   "metadata": {},
   "source": [
    "## Lösung Aufgabe 2-D Alternative\n",
    "\n",
    "Die Alternative ist, den Fall, dass a größer als b ist im negativen Bereich so zu modellieren, dass a erneut kleiner ist und dann zu vergleichen."
   ]
  },
  {
   "cell_type": "code",
   "execution_count": null,
   "metadata": {},
   "outputs": [],
   "source": [
    "# Eingabe des Bereichs [a, b]:\n",
    "a = int(input(\"Bitte Wert für a eingeben: \"))\n",
    "b = int(input(\"Bitte Wert für b eingeben: \"))\n",
    "    \n",
    "\n",
    "# Eingabe von x:\n",
    "x = int(input(\"Bitte Wert für x eingeben: \"))\n",
    "\n",
    "#tausche im negativen Bereich\n",
    "if a > b:\n",
    "    tmp = a\n",
    "    a = b\n",
    "    b = tmp\n",
    "    \n",
    "# Prüfe, ob x im Bereich [a, b] liegt:\n",
    "if (a <= x) or (x <= b):\n",
    "    print(str(x) + \" liegt innerhalb [\" + str(a) + \", \" + str(b) + \"]\")\n",
    "else:\n",
    "    print(str(x) + \" liegt nicht innerhalb [\" + str(a) + \", \" + str(b) + \"]\")"
   ]
  }
 ],
 "metadata": {
  "kernelspec": {
   "display_name": "Python 3",
   "language": "python",
   "name": "python3"
  },
  "language_info": {
   "codemirror_mode": {
    "name": "ipython",
    "version": 3
   },
   "file_extension": ".py",
   "mimetype": "text/x-python",
   "name": "python",
   "nbconvert_exporter": "python",
   "pygments_lexer": "ipython3",
   "version": "3.8.3"
  }
 },
 "nbformat": 4,
 "nbformat_minor": 4
}
