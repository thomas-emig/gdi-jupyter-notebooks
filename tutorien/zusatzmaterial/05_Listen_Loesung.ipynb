{
 "cells": [
  {
   "cell_type": "markdown",
   "metadata": {},
   "source": [
    "# Lösung Tutorial Listen\n",
    "\n",
    "Als Startlösung war folgendes gegeben:"
   ]
  },
  {
   "cell_type": "code",
   "execution_count": 1,
   "metadata": {},
   "outputs": [
    {
     "name": "stdout",
     "output_type": "stream",
     "text": [
      "Bitte Länge von Rechteck 1 eingeben: 2\n",
      "Bitte Breite von Rechteck 1 eingeben: 3\n",
      "Bitte Länge von Rechteck 2 eingeben: 4\n",
      "Bitte Breite von Rechteck 2 eingeben: 5\n",
      "Die Fläche von Rechteck 1 beträgt 6\n",
      "Die Fläche von Rechteck 2 beträgt 20\n"
     ]
    }
   ],
   "source": [
    "# Listen initialisieren\n",
    "l = [0, 0]\n",
    "b = [0, 0]\n",
    "A = [0, 0]\n",
    "\n",
    "# Eingabe\n",
    "for i in range(2):\n",
    "    l[i] = input(\"Bitte Länge von Rechteck \" + str(i+1) + \" eingeben: \")\n",
    "    b[i] = input(\"Bitte Breite von Rechteck \" + str(i+1) + \" eingeben: \")\n",
    "    l[i] = int(l[i])\n",
    "    b[i] = int(b[i])\n",
    "\n",
    "# Verarbeitung\n",
    "for i in range(2):\n",
    "    A[i] = l[i] * b[i]\n",
    "    \n",
    "# Ausgabe\n",
    "for i in range(2):\n",
    "    print(\"Die Fläche von Rechteck \" + str(i + 1) + \" beträgt \" + str(A[i]))"
   ]
  },
  {
   "cell_type": "markdown",
   "metadata": {},
   "source": [
    "## Lösung zu Aufgabe 5-A\n",
    "Verändern Sie das obige Beispiel so, dass statt 2 nun 5 Rechtecke berechnet werden sollen. Was fällt Ihnen dabei auf? Wie viele Zeilen mussten dazu geändert werden? Durch welche Änderung am Programmcode könnte man die Anzahl der Zeilen reduzieren, die geändert werden müssen?\n",
    "\n",
    "Die Lösung ist entsprechend folgende:"
   ]
  },
  {
   "cell_type": "code",
   "execution_count": 2,
   "metadata": {},
   "outputs": [
    {
     "name": "stdout",
     "output_type": "stream",
     "text": [
      "Bitte Länge von Rechteck 1 eingeben: 2\n",
      "Bitte Breite von Rechteck 1 eingeben: 2\n",
      "Bitte Länge von Rechteck 2 eingeben: 2\n",
      "Bitte Breite von Rechteck 2 eingeben: 2\n",
      "Bitte Länge von Rechteck 3 eingeben: 22\n",
      "Bitte Breite von Rechteck 3 eingeben: 2\n",
      "Bitte Länge von Rechteck 4 eingeben: 2\n",
      "Bitte Breite von Rechteck 4 eingeben: 2\n",
      "Bitte Länge von Rechteck 5 eingeben: 2\n",
      "Bitte Breite von Rechteck 5 eingeben: 2\n",
      "Die Fläche von Rechteck 1 beträgt 4\n",
      "Die Fläche von Rechteck 2 beträgt 4\n",
      "Die Fläche von Rechteck 3 beträgt 44\n",
      "Die Fläche von Rechteck 4 beträgt 4\n",
      "Die Fläche von Rechteck 5 beträgt 4\n"
     ]
    }
   ],
   "source": [
    "# Listen initialisieren\n",
    "l = [0, 0, 0, 0, 0]\n",
    "b = [0, 0, 0, 0, 0]\n",
    "A = [0, 0, 0, 0, 0]\n",
    "\n",
    "# Eingabe\n",
    "for i in range(5):\n",
    "    l[i] = input(\"Bitte Länge von Rechteck \" + str(i+1) + \" eingeben: \")\n",
    "    b[i] = input(\"Bitte Breite von Rechteck \" + str(i+1) + \" eingeben: \")\n",
    "    l[i] = int(l[i])\n",
    "    b[i] = int(b[i])\n",
    "\n",
    "# Verarbeitung\n",
    "for i in range(5):\n",
    "    A[i] = l[i] * b[i]\n",
    "    \n",
    "# Ausgabe\n",
    "for i in range(5):\n",
    "    print(\"Die Fläche von Rechteck \" + str(i + 1) + \" beträgt \" + str(A[i]))"
   ]
  },
  {
   "cell_type": "markdown",
   "metadata": {},
   "source": [
    "## Es mussten nur die 3 Listen Initialisierungen geändert werden und die **0**-en entsprechend für die drei zusätzlichen Rechtecke erzeugt werden.\n",
    "\n",
    "Um dies auch flexibler zu handhaben, könnten man die Listen mit <code>for</code> Schleifen erzeugen nach folgendem Schema:"
   ]
  },
  {
   "cell_type": "code",
   "execution_count": 3,
   "metadata": {},
   "outputs": [
    {
     "name": "stdout",
     "output_type": "stream",
     "text": [
      "Bitte Länge von Rechteck 1 eingeben: 2\n",
      "Bitte Breite von Rechteck 1 eingeben: 2\n",
      "Bitte Länge von Rechteck 2 eingeben: 2\n",
      "Bitte Breite von Rechteck 2 eingeben: 2\n",
      "Bitte Länge von Rechteck 3 eingeben: 2\n",
      "Bitte Breite von Rechteck 3 eingeben: 2\n",
      "Bitte Länge von Rechteck 4 eingeben: 2\n",
      "Bitte Breite von Rechteck 4 eingeben: 2\n",
      "Bitte Länge von Rechteck 5 eingeben: 2\n",
      "Bitte Breite von Rechteck 5 eingeben: 2\n",
      "Die Fläche von Rechteck 1 beträgt 4\n",
      "Die Fläche von Rechteck 2 beträgt 4\n",
      "Die Fläche von Rechteck 3 beträgt 4\n",
      "Die Fläche von Rechteck 4 beträgt 4\n",
      "Die Fläche von Rechteck 5 beträgt 4\n"
     ]
    }
   ],
   "source": [
    "# Wie viele Rechtecke sollen berechnet werden?\n",
    "nRechtecke = 5\n",
    "\n",
    "# Listen initialisieren\n",
    "l = [0 for i in range(nRechtecke)]\n",
    "b = [0 for i in range(nRechtecke)]\n",
    "A = [0 for i in range(nRechtecke)]\n",
    "\n",
    "# Eingabe\n",
    "for i in range(nRechtecke):\n",
    "    l[i] = input(\"Bitte Länge von Rechteck \" + str(i+1) + \" eingeben: \")\n",
    "    b[i] = input(\"Bitte Breite von Rechteck \" + str(i+1) + \" eingeben: \")\n",
    "    l[i] = int(l[i])\n",
    "    b[i] = int(b[i])\n",
    "\n",
    "# Verarbeitung\n",
    "for i in range(nRechtecke):\n",
    "    A[i] = l[i] * b[i]\n",
    "    \n",
    "# Ausgabe\n",
    "for i in range(nRechtecke):\n",
    "    print(\"Die Fläche von Rechteck \" + str(i + 1) + \" beträgt \" + str(A[i]))\n"
   ]
  },
  {
   "cell_type": "markdown",
   "metadata": {},
   "source": [
    "## Berechnung von Teilern und Primzahlen\n",
    "\n",
    "Gegeben war folgender Code, der in den nachfolgenden Aufgaben verändert werden sollte:"
   ]
  },
  {
   "cell_type": "code",
   "execution_count": 5,
   "metadata": {},
   "outputs": [
    {
     "name": "stdout",
     "output_type": "stream",
     "text": [
      "Bitte die zu untersuchende Zahl eingeben: 100\n",
      "Es wurden 9 Teiler gefunden.\n",
      "Es werden die ersten 5 Teiler ausgegeben.\n",
      "1-ter Teiler = 1\n",
      "2-ter Teiler = 2\n",
      "3-ter Teiler = 4\n",
      "4-ter Teiler = 5\n",
      "5-ter Teiler = 10\n"
     ]
    }
   ],
   "source": [
    "# in dieser Liste sollen später die gefundenen Teiler gespeichert werden\n",
    "teiler = [0 for i in range(5)]\n",
    "\n",
    "# Die zu untersuchende Zahl eingeben\n",
    "n = input(\"Bitte die zu untersuchende Zahl eingeben: \")\n",
    "n = int(n)\n",
    "\n",
    "nGefundeneTeiler = 0\n",
    "# alle Zahlen von 1 bis n ausprobieren\n",
    "for i in range(1, n + 1):\n",
    "    # ist n durch i ohne Rest teilbar?\n",
    "    if n % i == 0:\n",
    "        if nGefundeneTeiler < 5:\n",
    "            teiler[nGefundeneTeiler] = i\n",
    "        nGefundeneTeiler = nGefundeneTeiler + 1        \n",
    "print(\"Es wurden \" + str(nGefundeneTeiler) + \" Teiler gefunden.\")\n",
    "\n",
    "# alle gefundenen Teiler aber maximal 5 ausgeben\n",
    "if nGefundeneTeiler > 5:\n",
    "    k = 5\n",
    "else:\n",
    "    k = nGefundeneTeiler\n",
    "print(\"Es werden die ersten \" + str(k) + \" Teiler ausgegeben.\")\n",
    "\n",
    "for i in range(k):\n",
    "    print(str(i+1) + \"-ter Teiler = \" + str(teiler[i]))"
   ]
  },
  {
   "cell_type": "markdown",
   "metadata": {},
   "source": [
    "### Lösung zu Aufgabe 5-B\n",
    "\n",
    "Die Frage war: Wie müsste man das obige Programm ändern, wenn man bestimmen möchte, ob n eine Primzahl ist?\n",
    "\n",
    "Eine Primzahl ist nur durch 1 und sich selber teilbar. Daher muss nur bestimmt werden, ob es eine andere Zahl gibt, die einen gegebenen Wert ohne Rest teilt. Ist dies der Fall, so ist es keine Primzahl. Wenn keine solche Zahl gefunden werden kann, dann handelt es sich um eine Primzahl. Da der existierende Code alle Zahlen von 1 bis zur Zahl selbst als Teiler testet, liegt dann eine Primzahl vor, wenn 2 Teiler gefunden werden (1 und die Zahl selbst).\n",
    "\n",
    "Die Lösung sieht dann entsprechend so aus:"
   ]
  },
  {
   "cell_type": "code",
   "execution_count": 8,
   "metadata": {},
   "outputs": [
    {
     "name": "stdout",
     "output_type": "stream",
     "text": [
      "Bitte die zu untersuchende Zahl eingeben: 23\n",
      "Es wurden 2 Teiler gefunden.\n",
      "Es werden die ersten 2 Teiler ausgegeben.\n",
      "1-ter Teiler = 1\n",
      "2-ter Teiler = 23\n",
      "23 ist eine Primzahl.\n"
     ]
    }
   ],
   "source": [
    "# in dieser Liste sollen später die gefundenen Teiler gespeichert werden\n",
    "teiler = [0 for i in range(5)]\n",
    "\n",
    "# Die zu untersuchende Zahl eingeben\n",
    "n = input(\"Bitte die zu untersuchende Zahl eingeben: \")\n",
    "n = int(n)\n",
    "\n",
    "nGefundeneTeiler = 0\n",
    "# alle Zahlen von 1 bis n ausprobieren\n",
    "for i in range(1, n + 1):\n",
    "    # ist n durch i ohne Rest teilbar?\n",
    "    if n % i == 0:\n",
    "        if nGefundeneTeiler < 5:\n",
    "            teiler[nGefundeneTeiler] = i\n",
    "        nGefundeneTeiler = nGefundeneTeiler + 1        \n",
    "print(\"Es wurden \" + str(nGefundeneTeiler) + \" Teiler gefunden.\")\n",
    "\n",
    "# alle gefundenen Teiler aber maximal 5 ausgeben\n",
    "if nGefundeneTeiler > 5:\n",
    "    k = 5\n",
    "else:\n",
    "    k = nGefundeneTeiler\n",
    "print(\"Es werden die ersten \" + str(k) + \" Teiler ausgegeben.\")\n",
    "\n",
    "for i in range(k):\n",
    "    print(str(i+1) + \"-ter Teiler = \" + str(teiler[i]))\n",
    "    \n",
    "#erst hier kommt die Bestimmung der Primzahl:\n",
    "if nGefundeneTeiler == 2:\n",
    "    print(str(n) + \" ist eine Primzahl.\")\n",
    "else: \n",
    "    print(str(n) + \" ist keine Primzahl.\")"
   ]
  },
  {
   "cell_type": "markdown",
   "metadata": {},
   "source": [
    "## Lösung zu 5-C\n",
    "\n",
    "Die Aufgabe war: Wie müsste man das obige Programm ändern, wenn man die ersten 5 Primzahlen zwischen 1 und n bestimmen möchte?\n",
    "\n",
    "Die Frage richtet sich nach den ersten 5 Primzahlen zwischen 1 und n. 1 gehört somit nicht mehr dazu es werden die ersten 5 Primzahlen zwischen [2,n] gesucht.\n",
    "\n",
    "Wir nutzen eine zusätzliche Liste <code>primzahlen</code>, in der wir die ersten 5 gefundenen Primzahlen notieren. Wann immer wir eine Primzahl gefunden haben (so wie vorher), merken wir uns diese in der Liste. Des Weiteren wird die Anzahl der gefundenen Primzahlen um eins erhöht und getestet, ob schon 5 gefunden wurden. Ist dies der Fall, wird die for-Schleife durch ein <code>break</code> unterbrochen.\n",
    "\n",
    "Am Ende werden die ersten 5 gefundenen Primzahlen oder alle, falls weniger als 5 gefunden wurden, ausgegeben."
   ]
  },
  {
   "cell_type": "code",
   "execution_count": 9,
   "metadata": {},
   "outputs": [
    {
     "name": "stdout",
     "output_type": "stream",
     "text": [
      "Bitte die obere Grenze eingeben: 20\n",
      "Für 2 wurden 2 Teiler gefunden.\n",
      "2 ist eine Primzahl.\n",
      "Für 3 wurden 2 Teiler gefunden.\n",
      "3 ist eine Primzahl.\n",
      "Für 4 wurden 3 Teiler gefunden.\n",
      "Für 5 wurden 2 Teiler gefunden.\n",
      "5 ist eine Primzahl.\n",
      "Für 6 wurden 4 Teiler gefunden.\n",
      "Für 7 wurden 2 Teiler gefunden.\n",
      "7 ist eine Primzahl.\n",
      "Für 8 wurden 4 Teiler gefunden.\n",
      "Für 9 wurden 3 Teiler gefunden.\n",
      "Für 10 wurden 4 Teiler gefunden.\n",
      "Für 11 wurden 2 Teiler gefunden.\n",
      "11 ist eine Primzahl.\n",
      "=> Es wurden 5 Primzahlen gefunden:\n",
      "2\n",
      "3\n",
      "5\n",
      "7\n",
      "11\n"
     ]
    }
   ],
   "source": [
    "# Die obere Grenze eingeben\n",
    "m = input(\"Bitte die obere Grenze eingeben: \")\n",
    "m = int(m)\n",
    "\n",
    "primzahlen = [0, 0, 0, 0, 0]\n",
    "\n",
    "nGefundenePrimzahlen = 0\n",
    "for n in range(2, m + 1):\n",
    "\n",
    "    nGefundeneTeiler = 0\n",
    "    # alle Zahlen von 1 bis n ausprobieren\n",
    "    for i in range(1, n + 1):\n",
    "        # ist n durch i ohne Rest teilbar?\n",
    "        if n % i == 0:\n",
    "            nGefundeneTeiler = nGefundeneTeiler + 1        \n",
    "    print(\"Für \" + str(n) + \" wurden \" + str(nGefundeneTeiler) + \" Teiler gefunden.\")\n",
    "    \n",
    "    if nGefundeneTeiler == 2:\n",
    "        print(str(n) + \" ist eine Primzahl.\")\n",
    "        primzahlen[nGefundenePrimzahlen] = n\n",
    "\n",
    "        nGefundenePrimzahlen += 1\n",
    "        if (nGefundenePrimzahlen == 5):\n",
    "            break\n",
    "\n",
    "print(\"=> Es wurden \" + str(nGefundenePrimzahlen) + \" Primzahlen gefunden:\")\n",
    "for i in range(nGefundenePrimzahlen):\n",
    "    print(primzahlen[i])"
   ]
  },
  {
   "cell_type": "markdown",
   "metadata": {},
   "source": [
    "## Lösung zu Aufgabe 5-D\n",
    "\n",
    "Die Aufgabe war: \n",
    "Es ist ein Programm gegeben, das Lottozahlen berechnet und analysiert, d.h. die größte und die kleinste Zahl berechnet.\n",
    "- Geben Sie alle Zahlen mittels einer print Anweisung in einer Schleife aus.\n",
    "- Wie muss das Programm geändert werden, damit es verhindert, dass keine Zahl doppelt vorkommt?\n",
    "\n",
    "Die erste Zeile <code>from random import randint</code> sorgt dafür, dass die Funktion <code>randint</code> aus der Bibliothek <code>random</code> im code verwendet werden kann. Sie ist nicht standartmäßig Teil der Sprache Python und muss daher importiert werden.\n",
    "\n",
    "<code>randint(a, b)</code> erzeugt eine zufällige Zahl vom Typ Integer, die im Bereich [a, b] liegt.\n",
    "\n",
    "**Lösung**:\n",
    "\n",
    "Die Zahlen können durch eine einfache for-Schleife am Ende des Programms ausgegeben werden.\n",
    "\n",
    "Die Zufallszahlgenerierung muss angepasst werden, indem die for-Schleife durch eine while-Schleife ersetzt wird. Nun werden solange Zufallszahlen erzeugt, bis 6 voneinander verschiedene Zahlen gezogen wurden."
   ]
  },
  {
   "cell_type": "code",
   "execution_count": 10,
   "metadata": {},
   "outputs": [
    {
     "name": "stdout",
     "output_type": "stream",
     "text": [
      "Die kleinste Zahl ist 8.\n",
      "Die größte Zahl ist 46.\n",
      "Zahl 1: 29\n",
      "Zahl 2: 8\n",
      "Zahl 3: 24\n",
      "Zahl 4: 31\n",
      "Zahl 5: 22\n",
      "Zahl 6: 46\n"
     ]
    }
   ],
   "source": [
    "from random import randint\n",
    "\n",
    "# Liste für die Zufallszahlen vorbereiten\n",
    "zahlen = [0 for i in range(6)]\n",
    "\n",
    "# 6 Zufallszahlen ziehen, wobei sich Zahlen nicht wiederholen dürfen.\n",
    "i = 0\n",
    "while i < 6:\n",
    "    zahl = randint(1, 49)\n",
    "    if zahl not in zahlen:\n",
    "        zahlen[i] = zahl\n",
    "        i += 1 #das ist die Kurzform in Python von i = i + 1 \n",
    "\n",
    "# Zahlen analysieren\n",
    "minimalwert = 50\n",
    "maximalwert = 0\n",
    "for i in range(6):\n",
    "    if zahlen[i] > maximalwert:\n",
    "        maximalwert = zahlen[i]  \n",
    "    if zahlen[i] < minimalwert:\n",
    "        minimalwert = zahlen[i]\n",
    "\n",
    "# Ergebnis ausgeben\n",
    "print(\"Die kleinste Zahl ist \" + str(minimalwert) + \".\")\n",
    "print(\"Die größte Zahl ist \" + str(maximalwert) + \".\")\n",
    "\n",
    "#alle Zahlen ausgeben:\n",
    "for i in range(6):\n",
    "    print(\"Zahl \" + str(i+1) + \": \" + str(zahlen[i]))"
   ]
  },
  {
   "cell_type": "markdown",
   "metadata": {},
   "source": [
    "## Lösung zu Aufgabe 5-E\n",
    "\n",
    "Die Aufgabe war:\n",
    "\n",
    "Listen gibt es auch mit 2 Dimensionen – wie eine Tabelle. 1-dimensionale Listen sind Vektoren, 2-dimensionale Listen sind Matrizen.\n",
    "\n",
    "In einer 2-dimensionalen Liste sind Verkaufszahlen angegeben: Pro Region und Quartal. Schreiben Sie je eine Python Zelle, die folgende Kennzahlen berechnet:\n",
    "- das Quartal mit dem größten Umsatz über alle Regionen\n",
    "- die Region mit dem größten Umsatz über alle Quartale\n",
    "- den Mittelwert über alle Umsatzzahlen\n",
    "- die Anzahl der überdurchschnittlichen Umsätze\n",
    "\n",
    "**Lösung**\n",
    "\n",
    "1. **das Quartal mit dem größten Umsatz über alle Regionen**:\n",
    "Hier müssen für alle Listen als Elemente der Liste jeweils die n-ten Elemente addiert werden. Dabei ist n=4. Die größte Summe steht dann für das beste Quartal."
   ]
  },
  {
   "cell_type": "code",
   "execution_count": 1,
   "metadata": {},
   "outputs": [
    {
     "name": "stdout",
     "output_type": "stream",
     "text": [
      "Das mit 436.79999999999995 umsatzstärkste Quartal ist Quartal 2.\n"
     ]
    }
   ],
   "source": [
    "# Angabe\n",
    "                 #         Quartal\n",
    "                 #  Q1     Q2    Q3     Q4     # Region\n",
    "umsatztabelle = [[11.13, 92.03, 29.61, 60.34], # Nord\n",
    "                 [96.52, 99.55, 76.01, 87.58], # Süd\n",
    "                 [ 6.41, 70.71,  3.23, 17.98], # Mitte\n",
    "                 [31.29, 95.38, 48.30, 11.79], # West\n",
    "                 [33.40, 79.13, 76.16, 48.81]  # Ost\n",
    "                ]\n",
    "Qmax = 0.0\n",
    "QIndex = 0\n",
    "for q in range(4): #Iteration über die 4 Quartale\n",
    "    \n",
    "    # summe über das gerade betrachtete quartal berechnen\n",
    "    quartalssumme = 0.0\n",
    "    \n",
    "    for r in range(5): #Iteration über die 5 Regionen (nun hat man zwei Indices Quartal(q) und Region(r) gegeben)\n",
    "        quartalssumme += umsatztabelle[r][q]\n",
    "    \n",
    "    # maximum finden\n",
    "    if Qmax < quartalssumme:\n",
    "        Qmax = quartalssumme\n",
    "        QIndex = q\n",
    "\n",
    "# ausgabe\n",
    "print(\"Das mit \" + str(Qmax) + \" umsatzstärkste Quartal ist Quartal \" + str(QIndex + 1) + \".\")"
   ]
  },
  {
   "cell_type": "markdown",
   "metadata": {},
   "source": [
    "2. **Region mit dem größten Umsatz über alle Quartale**: hierbei muss die Summe pro Region über alle Quartale gebildet werden und das Maximum bestimmt werden. Ebenso muss der Index der maximalen Region gespeichert werden. Es wird in der Lösung der Index der Region ausgegeben. Um dies hier Nutzerfreundlich zu machen, müsste man noch die Namen der Regionen für den jeweiligen Ausgabeindex hinzufügen (mit einfachen if-then Verzweigungen) für 1-Nord ... 5-Ost"
   ]
  },
  {
   "cell_type": "code",
   "execution_count": 2,
   "metadata": {},
   "outputs": [
    {
     "name": "stdout",
     "output_type": "stream",
     "text": [
      "Die mit 359.65999999999997 umsatzstärkste Region ist Region 2.\n"
     ]
    }
   ],
   "source": [
    "# Angabe\n",
    "                 #         Quartal\n",
    "                 #  Q1     Q2    Q3     Q4     # Region\n",
    "umsatztabelle = [[11.13, 92.03, 29.61, 60.34], # Nord\n",
    "                 [96.52, 99.55, 76.01, 87.58], # Süd\n",
    "                 [ 6.41, 70.71,  3.23, 17.98], # Mitte\n",
    "                 [31.29, 95.38, 48.30, 11.79], # West\n",
    "                 [33.40, 79.13, 76.16, 48.81]  # Ost\n",
    "                ]\n",
    "Rmax = 0.0\n",
    "RIndex = 0\n",
    "for r in range(5): #diesmal Iteration über die 5 Regionen zuerst\n",
    "    \n",
    "    # summe über die gerade betrachtete region berechnen\n",
    "    regionssumme = 0.0\n",
    "    \n",
    "    for q in range(4): #Iteration über die 4 Quartale pro gerade selektierter Region\n",
    "        regionssumme += umsatztabelle[r][q]\n",
    "    \n",
    "    # maximum finden\n",
    "    if Rmax < regionssumme:\n",
    "        Rmax = regionssumme\n",
    "        RIndex = r\n",
    "\n",
    "# ausgabe\n",
    "print(\"Die mit \" + str(Rmax) + \" umsatzstärkste Region ist Region \" + str(RIndex + 1) + \".\")"
   ]
  },
  {
   "cell_type": "markdown",
   "metadata": {},
   "source": [
    "3. **den Mittelwert über alle Umsatzzahlen**:\n",
    "\n",
    "Dabei werden alle Umsätze über alle Quartale und über alle Regionen addiert und durch die Anzahl all dieser Werte dividiert. \n",
    "\n",
    "Dies lässt sich mit zwei einfachen Schleifen realisieren:"
   ]
  },
  {
   "cell_type": "code",
   "execution_count": 3,
   "metadata": {},
   "outputs": [
    {
     "name": "stdout",
     "output_type": "stream",
     "text": [
      "Der mittlere Umsatz beträgt 53.767999999999994.\n"
     ]
    }
   ],
   "source": [
    "# Angabe\n",
    "                 #         Quartal\n",
    "                 #  Q1     Q2    Q3     Q4     # Region\n",
    "umsatztabelle = [[11.13, 92.03, 29.61, 60.34], # Nord\n",
    "                 [96.52, 99.55, 76.01, 87.58], # Süd\n",
    "                 [ 6.41, 70.71,  3.23, 17.98], # Mitte\n",
    "                 [31.29, 95.38, 48.30, 11.79], # West\n",
    "                 [33.40, 79.13, 76.16, 48.81]  # Ost\n",
    "                ]\n",
    "# summe über alle umsätze bilden\n",
    "summe = 0.0\n",
    "anzahl = 0 #Anzahl der Summanden für die Mittelwertbildung\n",
    "\n",
    "for r in range(5): #Iteration über die Regionen\n",
    "    for q in range(4): #Iteration über die Quartale\n",
    "        summe += umsatztabelle[r][q] #Summe aller Umsätze\n",
    "        anzahl += 1 #Anzahl aller Umsätze\n",
    "\n",
    "# mittelwert berechnen\n",
    "mittelwert = summe/anzahl\n",
    "\n",
    "# ausgabe\n",
    "print(\"Der mittlere Umsatz beträgt \" + str(mittelwert) + \".\")"
   ]
  },
  {
   "cell_type": "markdown",
   "metadata": {},
   "source": [
    "4. **die Anzahl der überdurchschnittlichen Umsätze**:\n",
    "\n",
    "Hierbei ist zuerst der Mittelwert zu berechnen (wie bei Aufgabe 3) und danach noch einmal über alle Umsätze zu iterieren und die Anzahl zu zählen, die höher als der Mittelwert sind."
   ]
  },
  {
   "cell_type": "code",
   "execution_count": null,
   "metadata": {},
   "outputs": [],
   "source": [
    "# Angabe\n",
    "                 #         Quartal\n",
    "                 #  Q1     Q2    Q3     Q4     # Region\n",
    "umsatztabelle = [[11.13, 92.03, 29.61, 60.34], # Nord\n",
    "                 [96.52, 99.55, 76.01, 87.58], # Süd\n",
    "                 [ 6.41, 70.71,  3.23, 17.98], # Mitte\n",
    "                 [31.29, 95.38, 48.30, 11.79], # West\n",
    "                 [33.40, 79.13, 76.16, 48.81]  # Ost\n",
    "                ]\n",
    "# Summe über alle Umsätze bilden\n",
    "summe = 0.0\n",
    "anzahl = 0\n",
    "for r in range(5):\n",
    "    for q in range(4):\n",
    "        summe += umsatztabelle[r][q]\n",
    "        anzahl += 1\n",
    "\n",
    "# Mittelwert berechnen\n",
    "mittelwert = summe/anzahl\n",
    "\n",
    "# ausgabe\n",
    "print(\"Der mittlere Umsatz beträgt \" + str(mittelwert) + \".\")\n",
    "\n",
    "## bis hierhin war nichts neues. Nun muss noch einmal über alle Umsätze iteriert werden und die Anzahl ermittelt\n",
    "## werden, die höher als der Durchschnitt ist\n",
    "\n",
    "# überdurchschnittliche Umsätze zählen\n",
    "anzahl = 0\n",
    "\n",
    "for r in range(5): #Iteration über die Regionen\n",
    "    for q in range(4): # Iteration über die Quartale\n",
    "        if umsatztabelle[r][q] > mittelwert: #es handelt sich damit um einen überdurchschnittlichen Umsatz\n",
    "            anzahl += 1\n",
    "\n",
    "# ausgabe\n",
    "print(\"Es wurden \" + str(anzahl) + \" überdurchschnittliche Umsätze gefunden.\")"
   ]
  },
  {
   "cell_type": "code",
   "execution_count": null,
   "metadata": {},
   "outputs": [],
   "source": []
  }
 ],
 "metadata": {
  "kernelspec": {
   "display_name": "Python 3",
   "language": "python",
   "name": "python3"
  },
  "language_info": {
   "codemirror_mode": {
    "name": "ipython",
    "version": 3
   },
   "file_extension": ".py",
   "mimetype": "text/x-python",
   "name": "python",
   "nbconvert_exporter": "python",
   "pygments_lexer": "ipython3",
   "version": "3.8.3"
  }
 },
 "nbformat": 4,
 "nbformat_minor": 4
}
