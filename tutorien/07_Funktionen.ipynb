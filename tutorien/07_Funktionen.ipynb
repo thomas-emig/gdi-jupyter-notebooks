{
 "cells": [
  {
   "cell_type": "markdown",
   "metadata": {},
   "source": [
    "# Funktionen\n",
    "\n",
    "**Lernziele:**\n",
    "\n",
    "Nach Durcharbeiten des Tutoriums „Funktionen“ sollen Sie in der Lage sein, ...\n",
    "- Funktionen zu erstellen.\n",
    "- Funktionen situationsgerecht einzusetzen.\n",
    "- die bestimmenden Elemente einer Funktion benennen und mit eigenen Worten beschreiben können.\n",
    "- bei gegebener Aufgabenstellung die bestimmenden Elemente der Funktion selbst zu bestimmen und den Rumpf einer Funktion zu erstellen (die Erstellung der Befehlssequenz der Funktion ist Thema weiterer Tutorien und Aufgaben).\n",
    "- die Verwendung von Datentypen in Grundzügen aufzeigen können.\n",
    "\n",
    "## Allgemeines\n",
    "Eine Funktion berechnet aufgrund einer Liste von Argumenten ein Ergebnis. Die Berechnung des Ergebnisses erfolgt durch Ausführung einer Befehlssequenz. Eine Funktion wird immer nur dann ausgeführt, wenn es einen Aufrufer gibt.\n",
    "\n",
    "Eine Funktion besteht folglich aus folgenden Elementen:\n",
    "- dem Namen der Funktion. Dieser soll dem Leser mehr oder weniger verständlich machen, was die Funktion tut.\n",
    "- der Befehlssequenz der Funktion. Dies sind die Befehle, die zur Berechnung ausgeführt werden.\n",
    "- der Liste der Argumente. Diese sind die Ausgangswerte einer Berechnung.\n",
    "- dem Resultat oder Ergebnis. Diesen Wert erhält der Aufrufer zurück.\n",
    "Innerhalb von Python stehen bereits viele Funktionen zur Verfügung. Einige davon (wie die <code>print()</code> oder die <code>range()</code> Funktion) haben wir bereits in den vorhergehenden Tutorien kennen gelernt (Weitere Funktionen sind hier aufgelistet: https://docs.python.org/3/library/functions.html ). In diesem Tutorium soll erklärt werden, wie eigene Funktionen geschrieben werden können.\n",
    "\n",
    "## Einführendes Beispiel - Geometrie\n",
    "Es soll der Flächeninhalt eines Rechtecks berechnet werden (siehe Bild).\n",
    "\n",
    "![Rechteck](../bilder/rechteck.png)\n",
    "\n",
    "Eine einfache Python Zelle, die das Problem löst könnte so aussehen:"
   ]
  },
  {
   "cell_type": "code",
   "execution_count": null,
   "metadata": {},
   "outputs": [],
   "source": [
    "# Eingabe\n",
    "h = int(input(\"Bitte Höhe eingeben: \"))\n",
    "b = int(input(\"Bitte Breite eingeben: \"))\n",
    "\n",
    "# Fläche berechnen\n",
    "A = b*h\n",
    "\n",
    "# Ausgabe\n",
    "print(\"Die Fläche beträgt \" + str(A) + \".\")"
   ]
  },
  {
   "cell_type": "markdown",
   "metadata": {},
   "source": [
    "Für die Berechnung der Fläche können wir nun eine Funktion schreiben, die die Breite und Höhe als Parameter übergeben bekommt und den berechneten Flächeninhalt zurückgibt."
   ]
  },
  {
   "cell_type": "code",
   "execution_count": null,
   "metadata": {},
   "outputs": [],
   "source": [
    "# Funktion zur Flächenberechnung\n",
    "def fläche_berechnen(breite, höhe):\n",
    "    fläche = breite * höhe\n",
    "    return fläche\n",
    "\n",
    "# Eingabe\n",
    "h = int(input(\"Bitte Höhe eingeben: \"))\n",
    "b = int(input(\"Bitte Breite eingeben: \"))\n",
    "\n",
    "# Fläche berechnen\n",
    "A = fläche_berechnen(b, h)\n",
    "\n",
    "# Ausgabe\n",
    "print(\"Die Fläche beträgt \" + str(A) + \".\")"
   ]
  },
  {
   "cell_type": "markdown",
   "metadata": {},
   "source": [
    "Die Funktion besteht aus folgenden Elementen:\n",
    "- der Anfang der Funktion wird mit dem Schlüsselwort <code>def</code> gekennzeichnet.\n",
    "- Die Funktion besitzt den Namen \"fläche_berechnen\". Der Name der Funktion wird vom Programmierer vergeben und sollte sinnvoll gewählt werden. Funktionsnamen müssen einigen Regeln genügen, z.B. sie dürfen keine Leerzeichen enthalten.\n",
    "- Die Funktion gibt ein Ergebnis zurück. Was die Funktion zurückgibt wird mit der Anweisung <code>return</code> festgelegt, die zugleich die Funktion beendet.\n",
    "- Für die Berechnung sind Eingangswerte erforderlich, hier die Breite und Höhe des Rechtecks. Diese Eingangswerte werden in Form von Parametern an die Funktion übergeben. Der Programmierer der Funktion legt Name, Datentyp und Reihenfolge der Parameter fest.\n",
    "- Innerhalb der Funktion befindet sich die Befehlssequenz zur Berechnung des Ergebnisses. Für Zwischenergebnisse können innerhalb der Funktion weitere Variablen – hier die Variable fläche – angelegt werden.\n",
    "\n",
    "Die Parameter höhe und breite der Funktion werden als **Formalparameter** bezeichnet. Die beim konkreten Aufruf verwendeten Parameter (hier: b und h) werden als **Aktualparameter** bezeichnet.\n",
    "\n",
    "Im obigen Beispiel wird der Code durch die Verwendung der Funktion deutlich länger. Das wirft die Frage auf, welchen Nutzen Funktionen dem Programmierer bringen.\n",
    "\n",
    "Ein erster Vorteil der bereits an diesem kleinen Beispiel auffällt, ist die Lesbarkeit. Die Zeile <code>A = fläche_berechnen(b, h)</code> macht viel mehr deutlich was passiert als die Zeile <code>A = b*h</code>.\n",
    "\n",
    "Ein weiterer Vorteil wird deutlich, wenn man mehrere Flächen berechnen möchte. Die Funktion muss nur einmal definiert werden, kann aber beliebig oft aufgerufen werden:"
   ]
  },
  {
   "cell_type": "code",
   "execution_count": null,
   "metadata": {},
   "outputs": [],
   "source": [
    "# Flächen verschiedener Zimmer berechnen\n",
    "f_küche = fläche_berechnen(200, 250)\n",
    "f_bad = fläche_berechnen(120, 120)\n",
    "f_zimmer = fläche_berechnen(250, 450)\n",
    "\n",
    "# Wohnungsfläche berechnen\n",
    "f_wohnung = f_küche + f_bad + f_zimmer\n",
    "\n",
    "# Ergebnis ausgeben\n",
    "print(\"Die Wohnung hat eine Fläche von \" + str(f_wohnung) + \"cm².\")"
   ]
  },
  {
   "cell_type": "markdown",
   "metadata": {},
   "source": [
    "Sollte sich etwas an der Flächenberechnung ändern, muss in diesem Beispiel nur die Funktion selbst geändert werden. Die drei Aufrufe bleiben gleich.\n",
    "\n",
    "## Einführendes Beispiel 2\n",
    "Eine Funktion soll Rechtecke zeichnen."
   ]
  },
  {
   "cell_type": "code",
   "execution_count": null,
   "metadata": {},
   "outputs": [],
   "source": [
    "# Funktion definieren\n",
    "def rechteck_zeichnen(breite, höhe):\n",
    "    print(\"-\" * breite)\n",
    "    for i in range(höhe - 2):\n",
    "        print(\"|\" + (\" \" * (breite - 2)) + \"|\")\n",
    "    print(\"-\" * breite)\n",
    "    \n",
    "# Werte eingeben\n",
    "h = int(input(\"Bitte Höhe eingeben: \"))\n",
    "b = int(input(\"Bitte Breite eingeben: \"))\n",
    "\n",
    "# Rechteck zeichnen\n",
    "rechteck_zeichnen(b, h)"
   ]
  },
  {
   "cell_type": "markdown",
   "metadata": {},
   "source": [
    "In diesem Fall gibt die Funktion keinen Rückgabewert zurück und daher gibt es auch keine <code>return</code> Anweisung.\n",
    "\n",
    "## Weitere Aufgaben\n",
    "\n",
    "**Aufgabe A**\n",
    "\n",
    "Erstellen Sie eine Funktion <code>Quadrat</code>, die den Flächeninhalt eines Quadrats berechnet. \n",
    "- Variante A): ohne Verwendung der Funktion fläche_berechnen\n",
    "- Variante B): unter Verwendung der Funktion fläche_berechnen\n",
    "\n",
    "**Aufgabe B**\n",
    "\n",
    "Erstellen Sie eine Funktion <code>DoppelT</code>, die den Flächeninhalt eines symmetrischen Doppel-T Querschnitts berechnet.\n",
    "\n",
    "![DoppelT](../bilder/doppelt.png)\n",
    "\n",
    "**Aufgabe C**\n",
    "\n",
    "Erstellen Sie eine Funktion <code>Kreis</code>, die den Flächeninhalt eines Kreises berechnet. Was fällt Ihnen dabei auf?\n",
    "\n",
    "![Kreis](../bilder/kreis.png)"
   ]
  },
  {
   "cell_type": "code",
   "execution_count": null,
   "metadata": {},
   "outputs": [],
   "source": [
    "# Platz für die Lösung der Aufgaben\n",
    "\n",
    "# Hier werden die von Ihnen definierten Funktionen getestet\n",
    "alleFunktionenOK = True\n",
    "for i in range(100):\n",
    "    f = Quadrat(i)\n",
    "    if f != i**2:\n",
    "        alleFunktionenOK = False\n",
    "        print(\"Fehler: Die Funktion Quadrat liefert für die Eingabe \" + str(i) + \" das falsche Ergebnis \" + str(f) + \".\")\n",
    "        \n",
    "    f = Kreis(i)\n",
    "    if f - (3.1415 * (i**2)) > 0.01:\n",
    "        alleFunktionenOK = False\n",
    "        print(\"Fehler: Die Funktion Kreis liefert für die Eingabe \" + str(i) + \" das falsche Ergebnis \" + str(f) + \".\")\n",
    "        \n",
    "    for h in range(1000, 5000, 1000):\n",
    "        for b in range(500, 1000, 100):\n",
    "            for d in range(5, 20, 5):\n",
    "                f = DoppelT(i, h, d, b)\n",
    "                if f != 2*d*b + i*(h-2*d):\n",
    "                    alleFunktionenOK = False\n",
    "                    print(\"Fehler: Die Funktion DoppelT liefert für die Eingabe\")\n",
    "                    print(\"    t = \" + str(i))\n",
    "                    print(\"    h = \" + str(h))\n",
    "                    print(\"    b = \" + str(b))\n",
    "                    print(\"    d = \" + str(d))\n",
    "                    print(\"das falsche Ergebnis \" + str(f))\n",
    "\n",
    "if alleFunktionenOK:\n",
    "    print(\"Sehr gut! Alle von Ihnen implementierten Funktionen funktionieren wie erwartet.\")"
   ]
  },
  {
   "cell_type": "markdown",
   "metadata": {},
   "source": [
    "## Weiteres Beispiel\n",
    "\n",
    "Eine Funktion soll einen Ladebalken anzeigen. Dafür wird der Fortschritt in % als Integer Wert zwischen 0 und 100 übergeben. Der Ladebalken ist immer 80 Zeichen breit und zeigt den momentanen Fortschritt mit unterschiedlichen Zeichen an."
   ]
  },
  {
   "cell_type": "code",
   "execution_count": null,
   "metadata": {},
   "outputs": [],
   "source": [
    "def fortschrittsanzeige(prozent):\n",
    "    anzahl_zeichen_ausgefuellt = int(80*prozent/100)\n",
    "    text = \"[\"\n",
    "    text += \"#\" * anzahl_zeichen_ausgefuellt\n",
    "    text += \"-\" * (80 - anzahl_zeichen_ausgefuellt)\n",
    "    text += \"]\"\n",
    "    print(text)\n",
    "\n",
    "for i in range(0, 101, 10):\n",
    "    fortschrittsanzeige(i)"
   ]
  },
  {
   "cell_type": "markdown",
   "metadata": {},
   "source": [
    "**Aufgabe**\n",
    "\n",
    "Schreiben Sie die Funktion <code>fortschrittsanzeige</code> so um, dass der Ladebalken auch invertiert werden kann (also von rechts nach links läuft). Übergeben Sie dazu einen Weiteren Parameter <code>invertiert</code>, der mit einem Standartwert vorbelegt ist, sodass der Funktionsaufruf auch ohne diesen Parameter funktioniert und einen nicht invertierten Ladebalken anzeigt."
   ]
  },
  {
   "cell_type": "code",
   "execution_count": null,
   "metadata": {},
   "outputs": [],
   "source": [
    "# erweiterte Funktion \"fortschrittsanzeige\"\n",
    "\n",
    "# hier wird die von Ihnen implementierte Funktion getestet\n",
    "for i in range(0, 101, 10):\n",
    "    fortschrittsanzeige(i, true)\n",
    "    fortschrittsanzeige(i)"
   ]
  },
  {
   "cell_type": "markdown",
   "metadata": {},
   "source": [
    "## Computergrafik\n",
    "\n",
    "In der Computergrafik werden Bilder oft als zweidimensionale Listen gespeichert. Die Zeile der Liste repräsentiert dann die y-Koordinate und die Spalte die x-Koordinate. Ist der gespeicherte Wert an der Stelle [y][x] gleich 0, so ist das entsprechende Pixel an der Stelle (x,y) weiß, andernfalls ist es schwarz.\n",
    "\n",
    "Um die in einer zweidimensionalen Liste gespeicherten Bilder sichtbar zu machen, ist folgende Funktion gegeben:"
   ]
  },
  {
   "cell_type": "code",
   "execution_count": null,
   "metadata": {},
   "outputs": [],
   "source": [
    "def plot_image(image):\n",
    "    print(\"┏\" + \"━\" * len(image[0]) * 2 + \"┓\")\n",
    "    for line in image:\n",
    "        print(\"┃\", end=\"\")\n",
    "        for pixel in line:\n",
    "            if pixel == 0:\n",
    "                print(\"  \", end=\"\")\n",
    "            else:\n",
    "                print(\"██\", end=\"\")\n",
    "        print(\"┃\")\n",
    "    print(\"┗\" + \"━\" * len(image[-1]) * 2 + \"┛\")"
   ]
  },
  {
   "cell_type": "markdown",
   "metadata": {},
   "source": [
    "Ein einfaches Testbild ist in der nächsten Zelle gezeigt"
   ]
  },
  {
   "cell_type": "code",
   "execution_count": null,
   "metadata": {},
   "outputs": [],
   "source": [
    "testbild = [[0, 0, 0, 1, 0, 0, 0],\n",
    "            [0, 0, 0, 1, 0, 0, 0],\n",
    "            [0, 0, 1, 0, 0, 0, 0],\n",
    "            [1, 1, 0, 0, 0, 1, 1],\n",
    "            [0, 0, 0, 0, 1, 0, 0],\n",
    "            [0, 0, 0, 1, 0, 0, 0],\n",
    "            [0, 0, 0, 1, 0, 0, 0]\n",
    "           ]\n",
    "\n",
    "plot_image(testbild)"
   ]
  },
  {
   "cell_type": "markdown",
   "metadata": {},
   "source": [
    "**Aufgabe**\n",
    "\n",
    "Schreiben Sie eine Funktion <code>pixel(bild, x, y)</code>, die auf dem Bild <code>bild</code> an der Stelle <code>(x, y)</code> ein schwarzes Pixel zeichnet und das Bild anschließend wieder zurückgibt."
   ]
  },
  {
   "cell_type": "code",
   "execution_count": null,
   "metadata": {},
   "outputs": [],
   "source": [
    "# Funktion zum Zeichnen von Pixeln\n",
    "def pixel(bild, x, y):\n",
    "    \n",
    "    # hier code einfügen, um Pixel auf bild an Stelle (x,y) zu zeichnen\n",
    "    \n",
    "    return bild\n",
    "\n",
    "# Funktion testen (drei pixel an unterschiedlichen Stellen zeichnen)\n",
    "testbild = pixel(testbild, 0, 0)\n",
    "plot_image(testbild)\n",
    "\n",
    "testbild = pixel(testbild, 3, 3)\n",
    "plot_image(testbild)\n",
    "\n",
    "testbild = pixel(testbild, 1, 6)\n",
    "plot_image(testbild)"
   ]
  },
  {
   "cell_type": "markdown",
   "metadata": {},
   "source": [
    "**Erweiterung**\n",
    "\n",
    "Erweitern Sie die Funktion um die Möglichkeit, entweder schwarze oder weiße Pixel zu zeichnen. Fügen Sie dazu noch einen weiteren Übergabeparameter ein."
   ]
  }
 ],
 "metadata": {
  "kernelspec": {
   "display_name": "Python 3",
   "language": "python",
   "name": "python3"
  },
  "language_info": {
   "codemirror_mode": {
    "name": "ipython",
    "version": 3
   },
   "file_extension": ".py",
   "mimetype": "text/x-python",
   "name": "python",
   "nbconvert_exporter": "python",
   "pygments_lexer": "ipython3",
   "version": "3.5.2"
  }
 },
 "nbformat": 4,
 "nbformat_minor": 2
}
